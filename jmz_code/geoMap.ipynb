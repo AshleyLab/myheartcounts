{
 "cells": [
  {
   "cell_type": "code",
   "execution_count": 2,
   "metadata": {},
   "outputs": [],
   "source": [
    "import folium\n",
    "import pandas as pd"
   ]
  },
  {
   "cell_type": "code",
   "execution_count": 3,
   "metadata": {},
   "outputs": [],
   "source": [
    "json_data_path = './zip3.json'\n",
    "zipCount = pd.read_csv('./zipCountAtLeast10.txt', sep='\\t')\n",
    "us_map = folium.Map(location=[48, -102], zoom_start=3.2)\n",
    "\n",
    "folium.Choropleth(\n",
    "    geo_data=json_data_path,\n",
    "    data=zipCount,\n",
    "    columns=['ZIP3', 'Count'],\n",
    "    key_on='feature.properties.ZIP3',\n",
    "    fill_color='YlGn',\n",
    ").add_to(us_map)\n",
    "\n",
    "\n",
    "us_map.save('./mapTop10Zips.html')\n",
    "# folium.GeoJson(json_data_path).add_to(us_map)\n",
    "# us_map.save('./ThreeDigitZipsUS.html')\n",
    "# us_map"
   ]
  },
  {
   "cell_type": "code",
   "execution_count": null,
   "metadata": {},
   "outputs": [],
   "source": [
    "# us_map.choropleth(geo_data=json_data_path, name='choropleth', data=zipCount, columns=['ZIP3','Count'], \n",
    "#                   key_on='feature.properties.ZIP3', fill_color='YlGn', fill_opacity=0.7, line_opacity=0.2, legend_name='Count')\n",
    "# us_map"
   ]
  },
  {
   "cell_type": "code",
   "execution_count": 4,
   "metadata": {},
   "outputs": [],
   "source": [
    "us_map"
   ]
  },
  {
   "cell_type": "code",
   "execution_count": null,
   "metadata": {},
   "outputs": [],
   "source": []
  }
 ],
 "metadata": {
  "kernelspec": {
   "display_name": "Python 3",
   "language": "python",
   "name": "python3"
  },
  "language_info": {
   "codemirror_mode": {
    "name": "ipython",
    "version": 3
   },
   "file_extension": ".py",
   "mimetype": "text/x-python",
   "name": "python",
   "nbconvert_exporter": "python",
   "pygments_lexer": "ipython3",
   "version": "3.7.1"
  }
 },
 "nbformat": 4,
 "nbformat_minor": 2
}
