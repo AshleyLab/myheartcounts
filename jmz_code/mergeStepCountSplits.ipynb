{
 "cells": [
  {
   "cell_type": "code",
   "execution_count": 1,
   "metadata": {},
   "outputs": [],
   "source": [
    "import os\n",
    "import pandas as pd"
   ]
  },
  {
   "cell_type": "code",
   "execution_count": 2,
   "metadata": {},
   "outputs": [],
   "source": [
    "splitPath = './parsedActivityLines/'\n",
    "files = [x for x in os.listdir(splitPath) if ('Bad' not in x ) & (x[0]=='p')]"
   ]
  },
  {
   "cell_type": "code",
   "execution_count": 3,
   "metadata": {},
   "outputs": [],
   "source": [
    "files = sorted(files)"
   ]
  },
  {
   "cell_type": "code",
   "execution_count": 4,
   "metadata": {},
   "outputs": [],
   "source": [
    "data = pd.read_csv(splitPath + files[0], sep='\\t')"
   ]
  },
  {
   "cell_type": "code",
   "execution_count": 5,
   "metadata": {},
   "outputs": [
    {
     "data": {
      "text/plain": [
       "(590, 57)"
      ]
     },
     "execution_count": 5,
     "metadata": {},
     "output_type": "execute_result"
    }
   ],
   "source": [
    "data.shape"
   ]
  },
  {
   "cell_type": "code",
   "execution_count": 6,
   "metadata": {},
   "outputs": [],
   "source": [
    "unableToRead = []\n",
    "for f in files[1:]:\n",
    "    try:\n",
    "        dataNew = pd.read_csv(splitPath+f, sep='\\t', engine='python')\n",
    "        data = pd.concat([data, dataNew], axis=0)\n",
    "    except:\n",
    "        unableToRead.append(f)"
   ]
  },
  {
   "cell_type": "code",
   "execution_count": 7,
   "metadata": {},
   "outputs": [],
   "source": [
    "len(unableToRead)\n",
    "for f in unableToRead:\n",
    "    try:\n",
    "        test = pd.read_csv(splitPath + f, sep='\\t')\n",
    "    except:\n",
    "        print(f)"
   ]
  },
  {
   "cell_type": "code",
   "execution_count": 8,
   "metadata": {},
   "outputs": [
    {
     "data": {
      "text/plain": [
       "(1080182, 57)"
      ]
     },
     "execution_count": 8,
     "metadata": {},
     "output_type": "execute_result"
    }
   ],
   "source": [
    "data.shape"
   ]
  },
  {
   "cell_type": "code",
   "execution_count": 9,
   "metadata": {},
   "outputs": [
    {
     "data": {
      "text/plain": [
       "Index(['healthCode', 'date', 'blob', 'numDataPoints', 'appVersionTable',\n",
       "       'appVersionFile', 'phoneInfo', 'source', 'sourceID', '00:00:00',\n",
       "       '00:30:00', '01:00:00', '01:30:00', '02:00:00', '02:30:00', '03:00:00',\n",
       "       '03:30:00', '04:00:00', '04:30:00', '05:00:00', '05:30:00', '06:00:00',\n",
       "       '06:30:00', '07:00:00', '07:30:00', '08:00:00', '08:30:00', '09:00:00',\n",
       "       '09:30:00', '10:00:00', '10:30:00', '11:00:00', '11:30:00', '12:00:00',\n",
       "       '12:30:00', '13:00:00', '13:30:00', '14:00:00', '14:30:00', '15:00:00',\n",
       "       '15:30:00', '16:00:00', '16:30:00', '17:00:00', '17:30:00', '18:00:00',\n",
       "       '18:30:00', '19:00:00', '19:30:00', '20:00:00', '20:30:00', '21:00:00',\n",
       "       '21:30:00', '22:00:00', '22:30:00', '23:00:00', '23:30:00'],\n",
       "      dtype='object')"
      ]
     },
     "execution_count": 9,
     "metadata": {},
     "output_type": "execute_result"
    }
   ],
   "source": [
    "data.columns"
   ]
  },
  {
   "cell_type": "code",
   "execution_count": 10,
   "metadata": {},
   "outputs": [],
   "source": [
    "data.to_csv('./stepCounts', index=False)"
   ]
  },
  {
   "cell_type": "code",
   "execution_count": 11,
   "metadata": {},
   "outputs": [
    {
     "data": {
      "text/plain": [
       "(1080182, 57)"
      ]
     },
     "execution_count": 11,
     "metadata": {},
     "output_type": "execute_result"
    }
   ],
   "source": [
    "pd.read_csv('./stepCounts', low_memory=False).shape"
   ]
  }
 ],
 "metadata": {
  "kernelspec": {
   "display_name": "Python 3",
   "language": "python",
   "name": "python3"
  },
  "language_info": {
   "codemirror_mode": {
    "name": "ipython",
    "version": 3
   },
   "file_extension": ".py",
   "mimetype": "text/x-python",
   "name": "python",
   "nbconvert_exporter": "python",
   "pygments_lexer": "ipython3",
   "version": "3.7.1"
  }
 },
 "nbformat": 4,
 "nbformat_minor": 2
}
