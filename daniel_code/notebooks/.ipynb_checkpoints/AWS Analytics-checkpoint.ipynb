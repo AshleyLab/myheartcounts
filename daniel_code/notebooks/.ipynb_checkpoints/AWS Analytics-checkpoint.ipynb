{
 "cells": [
  {
   "cell_type": "markdown",
   "metadata": {},
   "source": [
    "# AWS Event Analysis"
   ]
  },
  {
   "cell_type": "code",
   "execution_count": 1,
   "metadata": {},
   "outputs": [],
   "source": [
    "#Imports\n",
    "import numpy as np\n",
    "import pandas as pd\n",
    "import json\n",
    "from collections import defaultdict\n",
    "from scipy import stats\n",
    "import matplotlib.pyplot as plt\n",
    "%matplotlib inline\n",
    "import seaborn as sns"
   ]
  },
  {
   "cell_type": "markdown",
   "metadata": {},
   "source": [
    "# What does our data look like?"
   ]
  },
  {
   "cell_type": "code",
   "execution_count": 12,
   "metadata": {},
   "outputs": [
    {
     "name": "stdout",
     "output_type": "stream",
     "text": [
      "{\"event_type\": \"PageEnded\", \"event_timestamp\": 1518168269399, \"arrival_timestamp\": 1518168285800, \"event_version\": \"3.0\", \"application\": {\"app_id\": \"4d29e476a66b4a5da830b905c8bc5e80\", \"cognito_identity_pool_id\": \"us-east-1:2c0f73f6-f544-4db3-93e3-7df5d4bbe0a5\", \"package_name\": \"edu.stanford.MyHeartCounts\", \"sdk\": {\"name\": \"aws-sdk-iOS\", \"version\": \"2.3.2\"}, \"title\": \"MyHeart\", \"version_name\": \"101\", \"version_code\": \"2.0.3\"}, \"client\": {\"client_id\": \"B6A8386D-D649-4342-9E81-848E8B5EB7B9\", \"cognito_id\": \"us-east-1:0d17bc07-9a72-4417-93e4-a857d9bff128\"}, \"device\": {\"locale\": {\"code\": \"en_GB\", \"country\": \"GB\", \"language\": \"en\"}, \"make\": \"apple\", \"model\": \"iPhone\", \"platform\": {\"name\": \"iOS\", \"version\": \"11.2.5\"}}, \"session\": {\"session_id\": \"c8bc5e80-8B5EB7B9-20180209-092338376\", \"start_timestamp\": 1518168218377}, \"attributes\": {\"duration\": \"15\", \"pageName\": \"APCActivityTrackingStepViewController\", \"version\": \"2.0.3 (101)\"}, \"metrics\": {}}\n",
      "\n",
      "\n",
      "{\"event_type\": \"PageEnded\", \"event_timestamp\": 1518168244569, \"arrival_timestamp\": 1518168285800, \"event_version\": \"3.0\", \"application\": {\"app_id\": \"4d29e476a66b4a5da830b905c8bc5e80\", \"cognito_identity_pool_id\": \"us-east-1:2c0f73f6-f544-4db3-93e3-7df5d4bbe0a5\", \"package_name\": \"edu.stanford.MyHeartCounts\", \"sdk\": {\"name\": \"aws-sdk-iOS\", \"version\": \"2.3.2\"}, \"title\": \"MyHeart\", \"version_name\": \"101\", \"version_code\": \"2.0.3\"}, \"client\": {\"client_id\": \"B6A8386D-D649-4342-9E81-848E8B5EB7B9\", \"cognito_id\": \"us-east-1:0d17bc07-9a72-4417-93e4-a857d9bff128\"}, \"device\": {\"locale\": {\"code\": \"en_GB\", \"country\": \"GB\", \"language\": \"en\"}, \"make\": \"apple\", \"model\": \"iPhone\", \"platform\": {\"name\": \"iOS\", \"version\": \"11.2.5\"}}, \"session\": {\"session_id\": \"c8bc5e80-8B5EB7B9-20180209-092338376\", \"start_timestamp\": 1518168218377}, \"attributes\": {\"duration\": \"1\", \"pageName\": \"APCSpinnerViewController\", \"version\": \"2.0.3 (101)\"}, \"metrics\": {}}\n",
      "\n",
      "\n",
      "{\"event_type\": \"PageEnded\", \"event_timestamp\": 1518168225995, \"arrival_timestamp\": 1518168285800, \"event_version\": \"3.0\", \"application\": {\"app_id\": \"4d29e476a66b4a5da830b905c8bc5e80\", \"cognito_identity_pool_id\": \"us-east-1:2c0f73f6-f544-4db3-93e3-7df5d4bbe0a5\", \"package_name\": \"edu.stanford.MyHeartCounts\", \"sdk\": {\"name\": \"aws-sdk-iOS\", \"version\": \"2.3.2\"}, \"title\": \"MyHeart\", \"version_name\": \"101\", \"version_code\": \"2.0.3\"}, \"client\": {\"client_id\": \"B6A8386D-D649-4342-9E81-848E8B5EB7B9\", \"cognito_id\": \"us-east-1:0d17bc07-9a72-4417-93e4-a857d9bff128\"}, \"device\": {\"locale\": {\"code\": \"en_GB\", \"country\": \"GB\", \"language\": \"en\"}, \"make\": \"apple\", \"model\": \"iPhone\", \"platform\": {\"name\": \"iOS\", \"version\": \"11.2.5\"}}, \"session\": {\"session_id\": \"c8bc5e80-8B5EB7B9-20180209-092338376\", \"start_timestamp\": 1518168218377}, \"attributes\": {\"duration\": \"6\", \"pageName\": \"APCActivitiesViewController\", \"version\": \"2.0.3 (101)\"}, \"metrics\": {}}\n",
      "\n",
      "\n",
      "Each Record is a JSON with the structure:\n",
      "{\n",
      "    \"event_type\": \"PageEnded\",\n",
      "    \"event_timestamp\": 1518168246684,\n",
      "    \"arrival_timestamp\": 1518168285800,\n",
      "    \"event_version\": \"3.0\",\n",
      "    \"application\": {\n",
      "        \"app_id\": \"4d29e476a66b4a5da830b905c8bc5e80\",\n",
      "        \"cognito_identity_pool_id\": \"us-east-1:2c0f73f6-f544-4db3-93e3-7df5d4bbe0a5\",\n",
      "        \"package_name\": \"edu.stanford.MyHeartCounts\",\n",
      "        \"sdk\": {\n",
      "            \"name\": \"aws-sdk-iOS\",\n",
      "            \"version\": \"2.3.2\"\n",
      "        },\n",
      "        \"title\": \"MyHeart\",\n",
      "        \"version_name\": \"101\",\n",
      "        \"version_code\": \"2.0.3\"\n",
      "    },\n",
      "    \"client\": {\n",
      "        \"client_id\": \"B6A8386D-D649-4342-9E81-848E8B5EB7B9\",\n",
      "        \"cognito_id\": \"us-east-1:0d17bc07-9a72-4417-93e4-a857d9bff128\"\n",
      "    },\n",
      "    \"device\": {\n",
      "        \"locale\": {\n",
      "            \"code\": \"en_GB\",\n",
      "            \"country\": \"GB\",\n",
      "            \"language\": \"en\"\n",
      "        },\n",
      "        \"make\": \"apple\",\n",
      "        \"model\": \"iPhone\",\n",
      "        \"platform\": {\n",
      "            \"name\": \"iOS\",\n",
      "            \"version\": \"11.2.5\"\n",
      "        }\n",
      "    },\n",
      "    \"session\": {\n",
      "        \"session_id\": \"c8bc5e80-8B5EB7B9-20180209-092338376\",\n",
      "        \"start_timestamp\": 1518168218377\n",
      "    },\n",
      "    \"attributes\": {\n",
      "        \"duration\": \"3\",\n",
      "        \"pageName\": \"APCActivitiesViewController\",\n",
      "        \"version\": \"2.0.3 (101)\"\n",
      "    },\n",
      "    \"metrics\": {}\n",
      "}\n"
     ]
    }
   ],
   "source": [
    "page_ended_path = r'/scratch/PI/euan/projects/mhc/code/daniel_code/aws/tables/PageEndedActivities.txt'\n",
    "with open(page_ended_path, 'r') as file:\n",
    "    for i in range(3):\n",
    "        print(file.readline())\n",
    "        print()\n",
    "        \n",
    "    print(\"Each Record is a JSON with the structure:\")\n",
    "        \n",
    "    line = json.loads(file.readline().rstrip())\n",
    "    print(json.dumps(line, indent=4))"
   ]
  },
  {
   "cell_type": "code",
   "execution_count": null,
   "metadata": {},
   "outputs": [],
   "source": [
    "#Anna's function to map AWS client IDs to healthcodes, returns dict\n",
    "def map_aws_to_healthcode(source_table = r'/scratch/PI/euan/projects/mhc/code/daniel_code/aws/tables/cardiovascular-AwsClientIdTask-v1.tsv'): \n",
    "    client_id_to_health_code_id=dict()\n",
    "    #read in the data \n",
    "    dtype_dict=dict() \n",
    "    dtype_dict['names']=('skip',\n",
    "                         'recordId',\n",
    "                         'appVersion',\n",
    "                         'phoneInfo',\n",
    "                         'uploadDate',\n",
    "                         'healthCode',\n",
    "                         'externalId',\n",
    "                         'dataGroups',\n",
    "                         'createdOn',\n",
    "                         'createdOnTimeZone',\n",
    "                         'userSharingScope',\n",
    "                         'validationErrors',\n",
    "                         'AwsClientId')\n",
    "    dtype_dict['formats']=('S36',\n",
    "                           'S36',\n",
    "                           'S36',\n",
    "                           'S36',\n",
    "                           'S36',\n",
    "                           'S36',\n",
    "                           'S36',\n",
    "                           'S36',\n",
    "                           'S36',\n",
    "                           'S36',\n",
    "                           'S36',\n",
    "                           'S36',\n",
    "                           'S36')\n",
    "    try: \n",
    "        data=np.genfromtxt(source_table,\n",
    "                           names=dtype_dict['names'],\n",
    "                           dtype=dtype_dict['formats'],\n",
    "                           delimiter='\\t',\n",
    "                           skip_header=True,\n",
    "                           loose=True,\n",
    "                           invalid_raise=False)\n",
    "    except:\n",
    "        print(\"failed to load file:\"+str(source_table))\n",
    "        raise Exception() \n",
    "\n",
    "    #create a mapping of client id to healthCode \n",
    "    for line in data: \n",
    "        client_id_to_health_code_id[line['AwsClientId'].decode('UTF-8')] = line['healthCode'].decode('UTF-8')    \n",
    "    return client_id_to_health_code_id"
   ]
  },
  {
   "cell_type": "markdown",
   "metadata": {},
   "source": [
    "# Graphing and Analytics Functions"
   ]
  },
  {
   "cell_type": "code",
   "execution_count": 6,
   "metadata": {},
   "outputs": [],
   "source": [
    "def reject_outliers(data, m=3):\n",
    "    outliers = data[np.logical_or(abs(data - np.mean(data)) >= m * np.std(data), data <= 2)]\n",
    "    clean = data[np.logical_and(abs(data - np.mean(data)) < m * np.std(data), data>2)]\n",
    "    \n",
    "    num_less = (data <= 2).sum()#(outliers < np.mean(data)).sum()\n",
    "    num_more = (outliers > np.mean(data)).sum()\n",
    "\n",
    "    return clean, num_less, num_more\n",
    "\n",
    "def page_duration():\n",
    "    '''generates a table and figure describing average time spent on an activity based on activity'''\n",
    "    \n",
    "    print(\"Generating page duration table\")\n",
    "    \n",
    "    freq = defaultdict(list)\n",
    "    \n",
    "    with open(r'/scratch/PI/euan/projects/mhc/code/daniel_code/aws/tables/PageEndedActivities.txt', 'r') as file:\n",
    "        print(\"Loading in data\")\n",
    "        for line in file:\n",
    "            data = json.loads(line.rstrip())\n",
    "            dur = int(data[\"attributes\"][\"duration\"])\n",
    "            act = data[\"attributes\"][\"pageName\"]\n",
    "            \n",
    "            freq[act].append(dur)\n",
    "            \n",
    "    print(\"Finished loading the data - beginning parsing\")\n",
    "    #Describe all the results\n",
    "    for key in freq.keys():\n",
    "        print(\"Stats for activity {}\".format(key))\n",
    "        print(stats.describe(freq[key]))\n",
    "        \n",
    "        #clean up the data a little\n",
    "        clean, num_less, num_more = reject_outliers(np.array(freq[key]))\n",
    "        \n",
    "        #Plot everything\n",
    "        fig = plt.hist(clean)\n",
    "        plt.title('Duration spent on activity {} \\n {} 2 or less, {} high outliers'.format(key, num_less, num_more))\n",
    "        plt.xlabel(\"Duration\")\n",
    "        plt.ylabel(\"# Occurences\")\n",
    "        plt.savefig(\"/scratch/PI/euan/projects/mhc/code/daniel_code/aws/figures/duration_{}.png\".format(key))\n",
    "        plt.clf()"
   ]
  },
  {
   "cell_type": "code",
   "execution_count": null,
   "metadata": {},
   "outputs": [],
   "source": [
    "def age_activity(healthcode_map, uniq_only=True):\n",
    "\n",
    "    '''Generates a figure and table of the average duration spent on various activities depending on age'''\n",
    "    \n",
    "    print(\"Generating age activity table\")\n",
    "\n",
    "    \n",
    "    age_table = pd.read_csv(r'tables/demographics_summary_v2.age.tsv', delimiter='\\t').set_index('Subject')\n",
    "    \n",
    "    freq = defaultdict(list)\n",
    "    uniq = set()\n",
    "    \n",
    "    with open(r'/scratch/PI/euan/projects/mhc/code/daniel_code/aws/tables/PageEndedActivities.txt', 'r') as file:\n",
    "        print(\"Loading in data\")\n",
    "        for line in file:\n",
    "            data = json.loads(line.rstrip())\n",
    "            aws_id = data[\"client\"][\"client_id\"]\n",
    "            act = data[\"attributes\"][\"pageName\"]\n",
    "            \n",
    "            #Include only never before seen ids for each activity\n",
    "            if(uniq_only):\n",
    "                if((aws_id, act) in uniq):\n",
    "                    continue\n",
    "                else:\n",
    "                    uniq.add((aws_id, act))\n",
    "            \n",
    "            #Get the age\n",
    "            try:\n",
    "                healthcode = healthcode_map[aws_id]\n",
    "                age = int(age_table.loc[healthcode, 'Agex'])\n",
    "                \n",
    "                freq[act].append(age)\n",
    "            except KeyError:\n",
    "                print(\"AWS_id not found {}\".format(aws_id))\n",
    "            \n",
    "    print(\"Finished loading the data - beginning parsing\")\n",
    "    #Describe all the results\n",
    "    for key in freq.keys():\n",
    "        print(\"Stats for activity {}\".format(key))\n",
    "        print(stats.describe(freq[key]))\n",
    "        \n",
    "        \n",
    "        #Plot everything\n",
    "        fig = plt.hist(freq[key])\n",
    "        plt.title('Age spent on activity {}'.format(key))\n",
    "        plt.xlabel(\"Age\")\n",
    "        plt.ylabel(\"# Occurences\")\n",
    "        plt.savefig(\"/scratch/PI/euan/projects/mhc/code/daniel_code/aws/figures/age_{}.png\".format(key))\n",
    "        plt.clf()"
   ]
  },
  {
   "cell_type": "code",
   "execution_count": null,
   "metadata": {},
   "outputs": [],
   "source": [
    "def usage_graph(healthcode_map):\n",
    "\n",
    "    '''\n",
    "    Generates a figure of overall activities per person\n",
    "    Returns healthcodes of the 10 most active people\n",
    "    '''\n",
    "    \n",
    "    usage = defaultdict(int)\n",
    "    invalid_aws_id = set()\n",
    "    \n",
    "    with open(r'/scratch/PI/euan/projects/mhc/code/daniel_code/aws/tables/PageEndedActivities.txt', 'r') as file:\n",
    "        print(\"Loading in data\")\n",
    "        for line in file:\n",
    "            data = json.loads(line.rstrip())\n",
    "            aws_id = data[\"client\"][\"client_id\"]\n",
    "            \n",
    "\n",
    "            #Get the healthcode\n",
    "            try:\n",
    "                healthcode = healthcode_map[aws_id] \n",
    "                \n",
    "                #Count usage\n",
    "                usage[healthcode] += 1\n",
    "            except KeyError:\n",
    "                #print(\"AWS_id not found {}\".format(aws_id))\n",
    "                invalid_aws_id.add(aws_id)\n",
    "            \n",
    "    print(\"There were {} distinct invalid aws ids\".format(len(invalid_aws_id)))\n",
    "    print(\"Finished loading the data - beginning graphing\")\n",
    "        \n",
    "    #Plot everything\n",
    "    fig = plt.hist(list(usage.values()))\n",
    "    plt.title(\"Activity of users\")\n",
    "    plt.xlabel(\"# activities\")\n",
    "    plt.ylabel(\"# users\")\n",
    "    plt.savefig(\"/scratch/PI/euan/projects/mhc/code/daniel_code/aws/figures/overall_activity.png\")\n",
    "    \n",
    "    print(\"Our 10 most active healthcodes were:\")\n",
    "    most_active = sorted(usage, key=usage.get, reverse=True)[:10]\n",
    "    for i in range(10):\n",
    "        print(\"{} with {} activities\".format(most_active[i], usage[most_active[i]]))\n",
    "\n",
    "    return most_active\n"
   ]
  },
  {
   "cell_type": "code",
   "execution_count": null,
   "metadata": {},
   "outputs": [],
   "source": [
    "def timeline(filename, dates, names):\n",
    "    \n",
    "    '''\n",
    "    timeline(filename, dates, names)\n",
    "    Function which saves a figure of a timeline of events\n",
    "    \n",
    "    filename - unique string to append\n",
    "    dates - array of datetine objects of each event\n",
    "    names - array of labels of events\n",
    "    '''\n",
    "    \n",
    "    import matplotlib.dates as mdates\n",
    "    from datetime import datetime\n",
    "    \n",
    "    print(\"Saving timeline {}\".format(filename))\n",
    "    \n",
    "    # Choose some nice levels\n",
    "    levels = np.tile(np.linspace(-5, 5, num=50),\n",
    "                     int(np.ceil(len(dates)/50)))[:len(dates)]\n",
    "    \n",
    "    # Create figure and plot a stem plot with the date\n",
    "    fig, ax = plt.subplots(figsize=(200, 40))\n",
    "    ax.set(title=\"Activity of user {}\".format(filename))\n",
    "    \n",
    "    markerline, stemline, baseline = ax.stem(dates, levels,\n",
    "                                             linefmt=\"C3-\", basefmt=\"k-\")\n",
    "    \n",
    "    plt.setp(markerline, mec=\"k\", mfc=\"w\", zorder=3)\n",
    "    \n",
    "    # Shift the markers to the baseline by replacing the y-data by zeros.\n",
    "    markerline.set_ydata(np.zeros(len(dates)))\n",
    "    \n",
    "    # annotate lines\n",
    "    vert = np.array(['top', 'bottom'])[(levels > 0).astype(int)]\n",
    "    for d, l, r, va in zip(dates, levels, names, vert):\n",
    "        ax.annotate(r, xy=(d, l), xytext=(-3, np.sign(l)*3),\n",
    "                    textcoords=\"offset points\", va=va, ha=\"right\")\n",
    "    \n",
    "    # format xaxis with 4 month intervals\n",
    "    ax.get_xaxis().set_major_locator(mdates.MonthLocator(interval=4))\n",
    "    ax.get_xaxis().set_major_formatter(mdates.DateFormatter(\"%b %Y\"))\n",
    "    plt.setp(ax.get_xticklabels(), rotation=30, ha=\"right\")\n",
    "    \n",
    "    # remove y axis and spines\n",
    "    ax.get_yaxis().set_visible(False)\n",
    "    for spine in [\"left\", \"top\", \"right\"]:\n",
    "        ax.spines[spine].set_visible(False)\n",
    "    \n",
    "    ax.margins(y=0.1)\n",
    "    plt.savefig(\"/scratch/PI/euan/projects/mhc/code/daniel_code/aws/figures/user_timeline_{}.png\".format(filename))\n",
    "    plt.close()\n",
    "    \n",
    "    #Plot histogram of dates\n",
    "    df = pd.DataFrame(np.ones(len(dates)), pd.DatetimeIndex(dates, name='dates'))\n",
    "    fig = df.resample('D').sum().hist()\n",
    "    plt.title(\"Activity of user {}\".format(filename))\n",
    "    plt.ylabel(\"# activities\")\n",
    "    plt.xlabel(\"Date\")\n",
    "    plt.savefig(\"/scratch/PI/euan/projects/mhc/code/daniel_code/aws/figures/user_hist_{}.png\".format(filename))\n",
    "    plt.close()\n",
    "\n",
    "def journey_map(healthcode_map, healthcodes):\n",
    "\n",
    "    '''\n",
    "    Looks at the events and behavior of a specific set of healthcodes\n",
    "    '''\n",
    "    from datetime import datetime\n",
    "\n",
    "    events = defaultdict(list)\n",
    "    times = defaultdict(list)\n",
    "    invalid_aws_id = set()\n",
    "    \n",
    "    with open(r'/scratch/PI/euan/projects/mhc/code/daniel_code/aws/tables/PageEndedActivities.txt', 'r') as file:\n",
    "        print(\"Loading in data\")\n",
    "        for line in file:\n",
    "            data = json.loads(line.rstrip())\n",
    "            aws_id = data[\"client\"][\"client_id\"]\n",
    "            \n",
    "\n",
    "            #Get the healthcode\n",
    "            try:\n",
    "                healthcode = healthcode_map[aws_id] \n",
    "                \n",
    "                #Store events\n",
    "                if healthcode in healthcodes:\n",
    "                    act = data[\"attributes\"][\"pageName\"]\n",
    "                    #Convert to seconds instead of milliseconds timestamp\n",
    "                    time = datetime.fromtimestamp(data[\"event_timestamp\"]/1000)\n",
    "\n",
    "                    events[healthcode].append(act[3:-14])\n",
    "                    times[healthcode].append(time)\n",
    "            except KeyError:\n",
    "                invalid_aws_id.add(aws_id)\n",
    "            \n",
    "    print(\"There were {} distinct invalid aws ids\".format(len(invalid_aws_id)))\n",
    "    print(\"Finished loading the data - beginning graphing\")\n",
    "    \n",
    "    for healthcode in healthcodes:\n",
    "        timeline(healthcode, dates = times[healthcode], names = events[healthcode])"
   ]
  },
  {
   "cell_type": "markdown",
   "metadata": {},
   "source": [
    "# Eligibility Analysis"
   ]
  },
  {
   "cell_type": "code",
   "execution_count": 10,
   "metadata": {},
   "outputs": [
    {
     "data": {
      "text/plain": [
       "'SPONSORS_AND_PARTNERS'"
      ]
     },
     "execution_count": 10,
     "metadata": {},
     "output_type": "execute_result"
    }
   ],
   "source": [
    "sharing = pd.read_csv(\"/scratch/PI/euan/projects/mhc/code/daniel_code/aws/tables/sharing_scope.csv\").set_index(\"healthCode\")\n",
    "#Get an itemp like\n",
    "sharing.loc['cd246034-c5dd-4bb9-9e38-f03c1da1beda', \"userSharingScope\"]"
   ]
  },
  {
   "cell_type": "code",
   "execution_count": 22,
   "metadata": {},
   "outputs": [
    {
     "name": "stdout",
     "output_type": "stream",
     "text": [
      "Available options were ['SPONSORS_AND_PARTNERS' 'ALL_QUALIFIED_RESEARCHERS']\n",
      "1844 people picked SPONSORS_AND_PARTNERS\n",
      "5335 people picked ALL_QUALIFIED_RESEARCHERS\n"
     ]
    }
   ],
   "source": [
    "# Count how many opt for what\n",
    "options = sharing.loc[:, \"userSharingScope\"].unique()\n",
    "print(\"Available options were {}\".format(options))\n",
    "print(\"{} people picked {}\".format((sharing.loc[:, \"userSharingScope\"] == 'SPONSORS_AND_PARTNERS').sum(), 'SPONSORS_AND_PARTNERS'))\n",
    "print(\"{} people picked {}\".format((sharing.loc[:, \"userSharingScope\"] == 'ALL_QUALIFIED_RESEARCHERS').sum(), 'ALL_QUALIFIED_RESEARCHERS'))\n",
    "\n",
    "sponsor_hcs = np.array(sharing[sharing.loc[:, \"userSharingScope\"] == 'SPONSORS_AND_PARTNERS'].index)\n",
    "all_hcs = np.array(sharing[sharing.loc[:, \"userSharingScope\"] == 'ALL_QUALIFIED_RESEARCHERS'].index)"
   ]
  },
  {
   "cell_type": "code",
   "execution_count": 23,
   "metadata": {},
   "outputs": [
    {
     "data": {
      "text/plain": [
       "array(['cd246034-c5dd-4bb9-9e38-f03c1da1beda',\n",
       "       '4db3ff74-3d41-41ff-9403-1a3ae2342296',\n",
       "       '5b028451-acba-4a96-956a-f99562fd3dff', ...,\n",
       "       '641e33b6-120a-4197-9788-c03b41f8354e',\n",
       "       '7a664180-bffa-40f7-85e9-7740314312b5',\n",
       "       'f0367d99-5813-4f34-8df0-83fbb95e152a'], dtype=object)"
      ]
     },
     "execution_count": 23,
     "metadata": {},
     "output_type": "execute_result"
    }
   ],
   "source": [
    "sponsor_hcs"
   ]
  },
  {
   "cell_type": "markdown",
   "metadata": {},
   "source": [
    "# Video Watch Analysis"
   ]
  },
  {
   "cell_type": "code",
   "execution_count": 3,
   "metadata": {},
   "outputs": [
    {
     "name": "stdout",
     "output_type": "stream",
     "text": [
      "Loading in video watch data\n",
      "{\"event_type\": \"VideoWatch\", \"event_timestamp\": 1518181620627, \"arrival_timestamp\": 1518181802544, \"event_version\": \"3.0\", \"application\": {\"app_id\": \"4d29e476a66b4a5da830b905c8bc5e80\", \"cognito_identity_pool_id\": \"us-east-1:2c0f73f6-f544-4db3-93e3-7df5d4bbe0a5\", \"package_name\": \"edu.stanford.MyHeartCounts\", \"sdk\": {\"name\": \"aws-sdk-iOS\", \"version\": \"2.3.2\"}, \"title\": \"MyHeart\", \"version_name\": \"101\", \"version_code\": \"2.0.3\"}, \"client\": {\"client_id\": \"E050292C-4CD7-42F5-8B22-4404EEB36ACB\", \"cognito_id\": \"us-east-1:c964ffaf-63ed-4a51-89d0-5fe3033f7dcb\"}, \"device\": {\"locale\": {\"code\": \"en_US\", \"country\": \"US\", \"language\": \"en\"}, \"make\": \"apple\", \"model\": \"iPhone\", \"platform\": {\"name\": \"iOS\", \"version\": \"11.2.5\"}}, \"session\": {\"session_id\": \"c8bc5e80-EEB36ACB-20180209-130655468\", \"start_timestamp\": 1518181615469}, \"attributes\": {\"version\": \"2.0.3 (101)\"}, \"metrics\": {}}\n",
      "\n"
     ]
    }
   ],
   "source": [
    "with open(r'/scratch/PI/euan/projects/mhc/code/daniel_code/aws/tables/VideoWatchActivities.txt', 'r') as file:\n",
    "    print(\"Loading in video watch data\")\n",
    "    for line in file:\n",
    "        print(line)\n",
    "        break"
   ]
  },
  {
   "cell_type": "code",
   "execution_count": 14,
   "metadata": {},
   "outputs": [],
   "source": [
    "#Examine video completion\n",
    "def video_watch():\n",
    "    \n",
    "    print(\"Generating video watch table\")\n",
    "    \n",
    "    start_times = defaultdict(list)\n",
    "    end_times = defaultdict(list)\n",
    "    \n",
    "    with open(r'/scratch/PI/euan/projects/mhc/code/daniel_code/aws/tables/VideoWatchActivities.txt', 'r') as file:\n",
    "        print(\"Loading in video watch data\")\n",
    "        for line in file:\n",
    "            \n",
    "            data = json.loads(line.rstrip())\n",
    "            aws_id = data[\"client\"][\"client_id\"]\n",
    "            time = int(data[\"event_timestamp\"])\n",
    "            \n",
    "            start_times[aws_id].append(time)\n",
    "            \n",
    "    with open(r'/scratch/PI/euan/projects/mhc/code/daniel_code/aws/tables/VideoCompletedActivities.txt', 'r') as file:\n",
    "        print(\"Loading in video completed data\")\n",
    "        for line in file:\n",
    "            \n",
    "            data = json.loads(line.rstrip())\n",
    "            aws_id = data[\"client\"][\"client_id\"]\n",
    "            time = int(data[\"event_timestamp\"])\n",
    "            \n",
    "            end_times[aws_id].append(time)\n",
    "            \n",
    "    print(\"Finished loading the data - beginning parsing\")\n",
    "    #Describe all the results\n",
    "    multi_start_cnt = 0\n",
    "    multi_finish_cnt = 0\n",
    "    incomplete_cnt = 0\n",
    "    one_watch_cnt = 0\n",
    "    watch_times = []\n",
    "    for key in start_times.keys():\n",
    "\n",
    "        # Count the incomplete folks\n",
    "        if key not in end_times:\n",
    "            incomplete_cnt += 1\n",
    "            \n",
    "        # Count the folks who started multiple times?\n",
    "        elif len(start_times[key]) >= 2:\n",
    "            multi_start_cnt += 1\n",
    "            if len(end_times[key]) >= 2:\n",
    "                multi_finish_cnt += 1\n",
    "                            \n",
    "        elif len(end_times[key]) >= 2:\n",
    "            print(f\"Error, user {key} has >= 2 ends but only 1 start\")\n",
    "            \n",
    "        # Profile the folks who watched the video once\n",
    "        else:\n",
    "            one_watch_cnt += 1\n",
    "            watch_times.append(end_times[key][0] - start_times[key][0])\n",
    "        \n",
    "    #Clean up the data\n",
    "    clean, num_less, num_more = reject_outliers(np.array(watch_times))\n",
    "    \n",
    "    print(f\"There were {multi_start_cnt} people that started a video multiple times, \" \n",
    "          + f\"and {multi_finish_cnt} people who finished multiple videos.\")\n",
    "    print(f\"There were {incomplete_cnt} people who started but didn't finish a video. \")\n",
    "    print(f\"Amongst {one_watch_cnt} people who watched once,\" \n",
    "          + f\" average video watch length is {np.average(clean)}, with \" + \n",
    "          f\"{num_less} outliers below and {num_more} outliers above.\")\n",
    "    \n",
    "    \n",
    "    #Plot everything\n",
    "    fig = sns.distplot(clean, kde=False, norm_hist = False)\n",
    "    plt.title(\"Time spent watching the video\")\n",
    "    plt.xlabel(\"Duration\")\n",
    "    plt.ylabel(\"# Occurences\")\n",
    "    plt.savefig(\"/scratch/PI/euan/projects/mhc/code/daniel_code/aws/figures/video_watch.png\")\n",
    "    plt.show()\n",
    "    \n",
    "        \n",
    "    #Plot small bit\n",
    "    plt.figure()\n",
    "    fig = sns.distplot(clean[clean < 50000], kde=False, norm_hist = False)\n",
    "    plt.title(\"Time spent watching the video (zoomed)\")\n",
    "    plt.xlabel(\"Duration\")\n",
    "    plt.ylabel(\"# Occurences\")\n",
    "    plt.savefig(\"/scratch/PI/euan/projects/mhc/code/daniel_code/aws/figures/video_watch_zoom.png\")\n",
    "    plt.show()\n",
    "    \n",
    "            \n",
    "    #Plot small bit\n",
    "    plt.figure()\n",
    "    fig = sns.distplot(clean[np.logical_and(clean > 34000, clean < 36000)], kde = False, norm_hist= False)\n",
    "    plt.title(\"Time spent watching the video (zoom zoomed)\")\n",
    "    plt.xlabel(\"Duration\")\n",
    "    plt.ylabel(\"# Occurences\")\n",
    "    #plt.savefig(\"/scratch/PI/euan/projects/mhc/code/daniel_code/aws/figures/duration_{}.png\".format(key))\n",
    "    plt.show()"
   ]
  },
  {
   "cell_type": "code",
   "execution_count": 15,
   "metadata": {},
   "outputs": [
    {
     "name": "stdout",
     "output_type": "stream",
     "text": [
      "Generating video watch table\n",
      "Loading in video watch data\n",
      "Loading in video completed data\n",
      "Finished loading the data - beginning parsing\n",
      "Error, user 964D7CD2-3E11-41D1-ADF9-D3480A8EB271 has >= 2 ends but only 1 start\n",
      "Error, user 7B5D89B0-CF5A-4060-B8DE-10CB803AF091 has >= 2 ends but only 1 start\n",
      "There were 134 people that started a video multiple times, and 125 people who finished multiple videos.\n",
      "There were 62 people who started but didn't finish a video. \n",
      "Amongst 448 people who watched once, average video watch length is 29545.267415730337, with 0 outliers below and 3 outliers above.\n"
     ]
    },
    {
     "data": {
      "image/png": "[encoded data removed]",
      "text/plain": [
       "<Figure size 432x288 with 1 Axes>"
      ]
     },
     "metadata": {
      "needs_background": "light"
     },
     "output_type": "display_data"
    },
    {
     "data": {
      "image/png": "[encoded data removed]",
      "text/plain": [
       "<Figure size 432x288 with 1 Axes>"
      ]
     },
     "metadata": {
      "needs_background": "light"
     },
     "output_type": "display_data"
    },
    {
     "data": {
      "image/png": "[encoded data removed]",
      "text/plain": [
       "<Figure size 432x288 with 1 Axes>"
      ]
     },
     "metadata": {
      "needs_background": "light"
     },
     "output_type": "display_data"
    }
   ],
   "source": [
    "video_watch()"
   ]
  },
  {
   "cell_type": "markdown",
   "metadata": {},
   "source": [
    "# Make some graphs"
   ]
  },
  {
   "cell_type": "code",
   "execution_count": null,
   "metadata": {},
   "outputs": [],
   "source": [
    "healthcode_map = map_aws_to_healthcode()\n",
    "#age_activity(healthcode_map)\n",
    "\n",
    "#page_duration()\n",
    "\n",
    "most_active = usage_graph(healthcode_map)\n",
    "\n",
    "journey_map(healthcode_map, most_active)"
   ]
  }
 ],
 "metadata": {
  "kernelspec": {
   "display_name": "Python 3",
   "language": "python",
   "name": "python3"
  },
  "language_info": {
   "codemirror_mode": {
    "name": "ipython",
    "version": 3
   },
   "file_extension": ".py",
   "mimetype": "text/x-python",
   "name": "python",
   "nbconvert_exporter": "python",
   "pygments_lexer": "ipython3",
   "version": "3.6.8"
  }
 },
 "nbformat": 4,
 "nbformat_minor": 2
}
