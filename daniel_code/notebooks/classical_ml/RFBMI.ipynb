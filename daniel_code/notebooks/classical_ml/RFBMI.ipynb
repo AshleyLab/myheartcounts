{
 "cells": [
  {
   "cell_type": "markdown",
   "metadata": {},
   "source": [
    "# XG Boosted Trees for BMI prediction"
   ]
  },
  {
   "cell_type": "code",
   "execution_count": 2,
   "metadata": {},
   "outputs": [],
   "source": [
    "import numpy as np\n",
    "import pandas as pd\n",
    "import os\n",
    "from scipy import stats\n",
    "from statsmodels.tsa import stattools\n",
    "from sklearn import preprocessing\n",
    "import xgboost as xgb"
   ]
  },
  {
   "cell_type": "code",
   "execution_count": 3,
   "metadata": {},
   "outputs": [
    {
     "data": {
      "text/plain": [
       "((516395, 14, 15), (516395,), (516395,))"
      ]
     },
     "execution_count": 3,
     "metadata": {},
     "output_type": "execute_result"
    }
   ],
   "source": [
    "feats = np.load('BMI_feats_15_aligned.npy')\n",
    "labels = np.load('../processed_datasets/BMI_y_15_aligned.npy')\n",
    "ids = np.load('../processed_datasets/BMI_ids_15_aligned.npy')\n",
    "feats.shape, labels.shape, ids.shape"
   ]
  },
  {
   "cell_type": "code",
   "execution_count": null,
   "metadata": {},
   "outputs": [],
   "source": [
    "#Optional, select only accel and gyro\n",
    "feats = feats[:, :, [0, 1, 2, 4, 5, 6]]\n",
    "feats.shape"
   ]
  },
  {
   "cell_type": "code",
   "execution_count": 4,
   "metadata": {},
   "outputs": [
    {
     "name": "stdout",
     "output_type": "stream",
     "text": [
      "(516395, 210) (516395,)\n",
      "Training Features Shape: (387296, 210)\n",
      "Training Labels Shape: (387296,)\n",
      "Testing Features Shape: (129099, 210)\n",
      "Testing Labels Shape: (129099,)\n"
     ]
    }
   ],
   "source": [
    "# Using Scikit-learn to split data into training and testing sets\n",
    "from sklearn.model_selection import train_test_split\n",
    "\n",
    "#Flatten the features\n",
    "feats = feats.reshape((feats.shape[0], -1))\n",
    "\n",
    "#Remove nans\n",
    "valid_idxs = ~np.isnan(feats).any(axis=1)\n",
    "feats = feats[valid_idxs]\n",
    "labels = labels[valid_idxs]\n",
    "ids = ids[valid_idxs]\n",
    "\n",
    "print(feats.shape, labels.shape)\n",
    "\n",
    "# Split the data into training and testing sets\n",
    "train_features, test_features, train_labels, test_labels, train_ids, test_ids = train_test_split(feats, labels, ids, test_size = 0.25, random_state = 42, shuffle = False)\n",
    "\n",
    "#Scale the features\n",
    "train_features_scaled = preprocessing.scale(train_features)\n",
    "test_features_scaled = preprocessing.scale(test_features)\n",
    "\n",
    "print('Training Features Shape:', train_features_scaled.shape)\n",
    "print('Training Labels Shape:', train_labels.shape)\n",
    "print('Testing Features Shape:', test_features_scaled.shape)\n",
    "print('Testing Labels Shape:', test_labels.shape)"
   ]
  },
  {
   "cell_type": "code",
   "execution_count": 5,
   "metadata": {},
   "outputs": [
    {
     "name": "stdout",
     "output_type": "stream",
     "text": [
      "Average baseline error:  3.87\n"
     ]
    }
   ],
   "source": [
    "# The baseline predictions are the train set averages\n",
    "baseline_preds = np.zeros_like(train_labels) + np.mean(train_labels)\n",
    "# Baseline errors, and display average baseline error\n",
    "baseline_errors = abs(baseline_preds - train_labels)\n",
    "print('Average baseline error: ', round(np.mean(baseline_errors), 2))"
   ]
  },
  {
   "cell_type": "code",
   "execution_count": 6,
   "metadata": {},
   "outputs": [
    {
     "data": {
      "text/plain": [
       "XGBRegressor(base_score=0.5, booster='gbtree', colsample_bylevel=1,\n",
       "             colsample_bynode=1, colsample_bytree=1, gamma=0,\n",
       "             importance_type='gain', learning_rate=0.1, max_delta_step=0,\n",
       "             max_depth=3, min_child_weight=1, missing=None, n_estimators=100,\n",
       "             n_jobs=1, nthread=None, objective='reg:squarederror',\n",
       "             random_state=0, reg_alpha=0, reg_lambda=1, scale_pos_weight=1,\n",
       "             seed=None, silent=None, subsample=1, tree_method='gpu_exact',\n",
       "             verbosity=1)"
      ]
     },
     "execution_count": 6,
     "metadata": {},
     "output_type": "execute_result"
    }
   ],
   "source": [
    "# Import the model we are using\n",
    "from xgboost import XGBRegressor\n",
    "# Instantiate model\n",
    "model = XGBRegressor(n_estimators=100, objective='reg:squarederror', gamma=0, reg_alpha=0, reg_lambda=1, tree_method='gpu_exact')\n",
    "model.fit(train_features_scaled, train_labels)"
   ]
  },
  {
   "cell_type": "code",
   "execution_count": 7,
   "metadata": {},
   "outputs": [
    {
     "name": "stdout",
     "output_type": "stream",
     "text": [
      "Mean Absolute Error: 3.5\n"
     ]
    }
   ],
   "source": [
    "# Use the model's predict method on the train data\n",
    "predictions = model.predict(train_features_scaled)\n",
    "# Calculate the absolute errors\n",
    "errors = abs(predictions - train_labels)\n",
    "# Print out the mean absolute error (mae)\n",
    "print('Mean Absolute Error:', round(np.mean(errors), 2))"
   ]
  },
  {
   "cell_type": "code",
   "execution_count": 8,
   "metadata": {},
   "outputs": [
    {
     "data": {
      "image/png": "[encoded data removed]",
      "text/plain": [
       "<Figure size 432x288 with 1 Axes>"
      ]
     },
     "metadata": {
      "needs_background": "light"
     },
     "output_type": "display_data"
    },
    {
     "data": {
      "text/plain": [
       "(SpearmanrResult(correlation=0.421931195968022, pvalue=0.0),\n",
       " (0.44897060083249796, 0.0))"
      ]
     },
     "execution_count": 8,
     "metadata": {},
     "output_type": "execute_result"
    }
   ],
   "source": [
    "import matplotlib.pyplot as plt\n",
    "%matplotlib inline\n",
    "plt.figure()\n",
    "plt.plot([0, 60], [0, 60], 'r')\n",
    "plt.scatter(train_labels, predictions, alpha = 0.2)\n",
    "plt.title('XGBoosted Tree Performance (Train)')\n",
    "plt.xlabel('True BMI')\n",
    "plt.ylabel('Predicted BMI')\n",
    "plt.show()\n",
    "\n",
    "import scipy\n",
    "scipy.stats.spearmanr(predictions, b=train_labels), scipy.stats.pearsonr(x=predictions, y=train_labels)"
   ]
  },
  {
   "cell_type": "code",
   "execution_count": 9,
   "metadata": {},
   "outputs": [
    {
     "name": "stdout",
     "output_type": "stream",
     "text": [
      "Mean Absolute Error: 3.92\n"
     ]
    }
   ],
   "source": [
    "# Use the forest's predict method on the test data\n",
    "predictions = model.predict(test_features_scaled)\n",
    "# Calculate the absolute errors\n",
    "errors = abs(predictions - test_labels)\n",
    "# Print out the mean absolute error (mae)\n",
    "print('Mean Absolute Error:', round(np.mean(errors), 2))"
   ]
  },
  {
   "cell_type": "code",
   "execution_count": 10,
   "metadata": {},
   "outputs": [
    {
     "data": {
      "image/png": "[encoded data removed]",
      "text/plain": [
       "<Figure size 432x288 with 1 Axes>"
      ]
     },
     "metadata": {
      "needs_background": "light"
     },
     "output_type": "display_data"
    },
    {
     "data": {
      "text/plain": [
       "(SpearmanrResult(correlation=0.25777492630819004, pvalue=0.0),\n",
       " (0.23214567393171295, 0.0))"
      ]
     },
     "execution_count": 10,
     "metadata": {},
     "output_type": "execute_result"
    }
   ],
   "source": [
    "plt.figure()\n",
    "plt.plot([0, 60], [0, 60], 'r')\n",
    "plt.scatter(test_labels, predictions, alpha = 0.2)\n",
    "plt.title('XGBoosted Tree Performance (Test)')\n",
    "plt.xlabel('True BMI')\n",
    "plt.ylabel('Predicted BMI')\n",
    "plt.show()\n",
    "\n",
    "import scipy\n",
    "scipy.stats.spearmanr(predictions, b=test_labels), scipy.stats.pearsonr(x=predictions, y=test_labels)"
   ]
  },
  {
   "cell_type": "code",
   "execution_count": 11,
   "metadata": {},
   "outputs": [
    {
     "name": "stdout",
     "output_type": "stream",
     "text": [
      "Accuracy: 81.98 %.\n"
     ]
    }
   ],
   "source": [
    "# Calculate mean absolute percentage error (MAPE)\n",
    "mape = 100 * (errors / test_labels)\n",
    "# Calculate and display accuracy\n",
    "accuracy = 100 - np.mean(mape)\n",
    "print('Accuracy:', round(accuracy, 2), '%.')"
   ]
  },
  {
   "cell_type": "code",
   "execution_count": 12,
   "metadata": {},
   "outputs": [
    {
     "name": "stdout",
     "output_type": "stream",
     "text": [
      "Variable:                  182 Importance: 0.20138733088970184\n",
      "Variable:                   16 Importance: 0.10266869515180588\n",
      "Variable:                   31 Importance: 0.09201431274414062\n",
      "Variable:                  158 Importance: 0.05752585083246231\n",
      "Variable:                  167 Importance: 0.055095456540584564\n",
      "Variable:                  152 Importance: 0.052859533578157425\n",
      "Variable:                  181 Importance: 0.05236038193106651\n",
      "Variable:                  164 Importance: 0.04910053312778473\n",
      "Variable:                  166 Importance: 0.03925938904285431\n",
      "Variable:                  168 Importance: 0.035091202706098557\n",
      "Variable:                  141 Importance: 0.025543203577399254\n",
      "Variable:                   44 Importance: 0.021959997713565826\n",
      "Variable:                  110 Importance: 0.0185394249856472\n",
      "Variable:                   95 Importance: 0.016924433410167694\n",
      "Variable:                  109 Importance: 0.01496775634586811\n",
      "Variable:                  101 Importance: 0.012660370208323002\n",
      "Variable:                   94 Importance: 0.01194076333194971\n",
      "Variable:                    3 Importance: 0.011872123926877975\n",
      "Variable:                  150 Importance: 0.011264655739068985\n",
      "Variable:                  160 Importance: 0.009729494340717793\n",
      "Variable:                   12 Importance: 0.007659341674298048\n",
      "Variable:                  151 Importance: 0.005960507318377495\n",
      "Variable:                    1 Importance: 0.005674322135746479\n",
      "Variable:                  156 Importance: 0.005465639755129814\n",
      "Variable:                   47 Importance: 0.005463308189064264\n",
      "Variable:                   63 Importance: 0.005364102777093649\n",
      "Variable:                   58 Importance: 0.005362051073461771\n",
      "Variable:                  183 Importance: 0.004621353931725025\n",
      "Variable:                   46 Importance: 0.004618811886757612\n",
      "Variable:                  161 Importance: 0.004158989060670137\n",
      "Variable:                  154 Importance: 0.003925092983990908\n",
      "Variable:                   62 Importance: 0.0032979624811559916\n",
      "Variable:                  155 Importance: 0.0029904828406870365\n",
      "Variable:                   57 Importance: 0.002832583151757717\n",
      "Variable:                  157 Importance: 0.0026230420917272568\n",
      "Variable:                   15 Importance: 0.002596205798909068\n",
      "Variable:                   29 Importance: 0.0025299908593297005\n",
      "Variable:                   93 Importance: 0.002483024727553129\n",
      "Variable:                  136 Importance: 0.002303115092217922\n",
      "Variable:                    8 Importance: 0.0023026512935757637\n",
      "Variable:                   20 Importance: 0.0022825882770121098\n",
      "Variable:                  104 Importance: 0.001992092002183199\n",
      "Variable:                   73 Importance: 0.0019310797797515988\n",
      "Variable:                  127 Importance: 0.0017466391436755657\n",
      "Variable:                   14 Importance: 0.0013166574062779546\n",
      "Variable:                   74 Importance: 0.0013133053435012698\n",
      "Variable:                   28 Importance: 0.0011775654274970293\n",
      "Variable:                   36 Importance: 0.0011433928739279509\n",
      "Variable:                   96 Importance: 0.0010875861626118422\n",
      "Variable:                  162 Importance: 0.001050403923727572\n",
      "Variable:                   64 Importance: 0.000983483507297933\n",
      "Variable:                   22 Importance: 0.0009135117288678885\n",
      "Variable:                  196 Importance: 0.0007869903929531574\n",
      "Variable:                  106 Importance: 0.0007624222198501229\n",
      "Variable:                   32 Importance: 0.0006844248855486512\n",
      "Variable:                  120 Importance: 0.0005481868283823133\n",
      "Variable:                   71 Importance: 0.0005393280880525708\n",
      "Variable:                   13 Importance: 0.0004982551909051836\n",
      "Variable:                  153 Importance: 0.0004192198975943029\n",
      "Variable:                  122 Importance: 0.0003884104953613132\n",
      "Variable:                    9 Importance: 0.0003440775035414845\n",
      "Variable:                   72 Importance: 0.00033605159842409194\n",
      "Variable:                  149 Importance: 0.00031202679383568466\n",
      "Variable:                    7 Importance: 0.00021543640468735248\n",
      "Variable:                   65 Importance: 0.0001957196946023032\n",
      "Variable:                  180 Importance: 0.00016703100118320435\n",
      "Variable:                  209 Importance: 0.00016346519987564534\n",
      "Variable:                   19 Importance: 0.0001593766937730834\n",
      "Variable:                  124 Importance: 0.00013878049503546208\n",
      "Variable:                   91 Importance: 0.00011756300227716565\n",
      "Variable:                   90 Importance: 0.00011207660281797871\n",
      "Variable:                   92 Importance: 0.00010890219709835947\n",
      "Variable:                   45 Importance: 9.062379831448197e-05\n",
      "Variable:                   25 Importance: 8.210039959521964e-05\n",
      "Variable:                   49 Importance: 7.149559678509831e-05\n",
      "Variable:                   67 Importance: 6.943679909454659e-05\n",
      "Variable:                   37 Importance: 6.893769750604406e-05\n",
      "Variable:                   54 Importance: 6.264060357352719e-05\n",
      "Variable:                  107 Importance: 4.879400148638524e-05\n",
      "Variable:                  186 Importance: 4.8400499508716166e-05\n",
      "Variable:                   61 Importance: 4.372460170998238e-05\n",
      "Variable:                   97 Importance: 2.4473700250382535e-05\n",
      "Variable:                   53 Importance: 2.4159200620488264e-05\n",
      "Variable:                  169 Importance: 2.324190063518472e-05\n",
      "Variable:                   68 Importance: 2.3030499505694024e-05\n",
      "Variable:                   55 Importance: 2.17928991332883e-05\n",
      "Variable:                    0 Importance: 2.1405399820650928e-05\n",
      "Variable:                   10 Importance: 2.009109994105529e-05\n",
      "Variable:                   50 Importance: 1.922430055856239e-05\n",
      "Variable:                  172 Importance: 1.6940799469011836e-05\n",
      "Variable:                   17 Importance: 1.570009953866247e-05\n",
      "Variable:                  135 Importance: 1.5294099284801632e-05\n",
      "Variable:                  199 Importance: 1.3959500392957125e-05\n",
      "Variable:                  145 Importance: 1.391869955114089e-05\n",
      "Variable:                   60 Importance: 1.3835199752065819e-05\n",
      "Variable:                   59 Importance: 1.3406300240603741e-05\n",
      "Variable:                   11 Importance: 1.2769200111506507e-05\n",
      "Variable:                  187 Importance: 1.187270027003251e-05\n",
      "Variable:                   38 Importance: 1.0730100257205777e-05\n",
      "Variable:                   27 Importance: 1.0540799848968163e-05\n",
      "Variable:                   21 Importance: 1.0357700375607237e-05\n",
      "Variable:                   51 Importance: 9.725399650051259e-06\n",
      "Variable:                  204 Importance: 9.114000022236723e-06\n",
      "Variable:                   70 Importance: 8.997900295071304e-06\n",
      "Variable:                   23 Importance: 8.94759978109505e-06\n",
      "Variable:                   48 Importance: 8.873999831848778e-06\n",
      "Variable:                   69 Importance: 8.56120004755212e-06\n",
      "Variable:                  198 Importance: 8.128899935400113e-06\n",
      "Variable:                   66 Importance: 7.928099876153283e-06\n",
      "Variable:                    2 Importance: 7.873500180721749e-06\n",
      "Variable:                  184 Importance: 7.872799869801383e-06\n",
      "Variable:                  165 Importance: 7.625800208188593e-06\n",
      "Variable:                  108 Importance: 7.168699994508643e-06\n",
      "Variable:                  163 Importance: 6.750400189048378e-06\n",
      "Variable:                  121 Importance: 6.142499842098914e-06\n",
      "Variable:                   56 Importance: 5.444599992188159e-06\n",
      "Variable:                   33 Importance: 3.968500095652416e-06\n",
      "Variable:                   18 Importance: 3.7842999063286697e-06\n",
      "Variable:                  147 Importance: 3.6100000215810724e-06\n",
      "Variable:                    6 Importance: 2.938699935839395e-06\n",
      "Variable:                  171 Importance: 2.8156000553281046e-06\n",
      "Variable:                   24 Importance: 2.433100007692701e-06\n",
      "Variable:                  192 Importance: 1.96979999600444e-06\n",
      "Variable:                  140 Importance: 1.195100026052387e-06\n",
      "Variable:                  200 Importance: 6.215000212250743e-07\n",
      "Variable:                  203 Importance: 3.0199998946045525e-07\n",
      "Variable:                  193 Importance: 2.7140001179759565e-07\n",
      "Variable:                   42 Importance: 2.0849999771144212e-07\n",
      "Variable:                  100 Importance: 1.6890000154035079e-07\n",
      "Variable:                  102 Importance: 6.150000331217598e-08\n",
      "Variable:                    4 Importance: 0.0\n",
      "Variable:                    5 Importance: 0.0\n",
      "Variable:                   26 Importance: 0.0\n",
      "Variable:                   30 Importance: 0.0\n",
      "Variable:                   34 Importance: 0.0\n",
      "Variable:                   35 Importance: 0.0\n",
      "Variable:                   39 Importance: 0.0\n",
      "Variable:                   40 Importance: 0.0\n",
      "Variable:                   41 Importance: 0.0\n",
      "Variable:                   43 Importance: 0.0\n",
      "Variable:                   52 Importance: 0.0\n",
      "Variable:                   75 Importance: 0.0\n",
      "Variable:                   76 Importance: 0.0\n",
      "Variable:                   77 Importance: 0.0\n",
      "Variable:                   78 Importance: 0.0\n",
      "Variable:                   79 Importance: 0.0\n",
      "Variable:                   80 Importance: 0.0\n",
      "Variable:                   81 Importance: 0.0\n",
      "Variable:                   82 Importance: 0.0\n",
      "Variable:                   83 Importance: 0.0\n",
      "Variable:                   84 Importance: 0.0\n",
      "Variable:                   85 Importance: 0.0\n",
      "Variable:                   86 Importance: 0.0\n",
      "Variable:                   87 Importance: 0.0\n",
      "Variable:                   88 Importance: 0.0\n",
      "Variable:                   89 Importance: 0.0\n",
      "Variable:                   98 Importance: 0.0\n",
      "Variable:                   99 Importance: 0.0\n",
      "Variable:                  103 Importance: 0.0\n",
      "Variable:                  105 Importance: 0.0\n",
      "Variable:                  111 Importance: 0.0\n",
      "Variable:                  112 Importance: 0.0\n",
      "Variable:                  113 Importance: 0.0\n",
      "Variable:                  114 Importance: 0.0\n",
      "Variable:                  115 Importance: 0.0\n",
      "Variable:                  116 Importance: 0.0\n",
      "Variable:                  117 Importance: 0.0\n",
      "Variable:                  118 Importance: 0.0\n",
      "Variable:                  119 Importance: 0.0\n",
      "Variable:                  123 Importance: 0.0\n",
      "Variable:                  125 Importance: 0.0\n",
      "Variable:                  126 Importance: 0.0\n",
      "Variable:                  128 Importance: 0.0\n",
      "Variable:                  129 Importance: 0.0\n",
      "Variable:                  130 Importance: 0.0\n",
      "Variable:                  131 Importance: 0.0\n",
      "Variable:                  132 Importance: 0.0\n",
      "Variable:                  133 Importance: 0.0\n",
      "Variable:                  134 Importance: 0.0\n",
      "Variable:                  137 Importance: 0.0\n",
      "Variable:                  138 Importance: 0.0\n",
      "Variable:                  139 Importance: 0.0\n",
      "Variable:                  142 Importance: 0.0\n",
      "Variable:                  143 Importance: 0.0\n",
      "Variable:                  144 Importance: 0.0\n",
      "Variable:                  146 Importance: 0.0\n",
      "Variable:                  148 Importance: 0.0\n",
      "Variable:                  159 Importance: 0.0\n",
      "Variable:                  170 Importance: 0.0\n",
      "Variable:                  173 Importance: 0.0\n",
      "Variable:                  174 Importance: 0.0\n",
      "Variable:                  175 Importance: 0.0\n",
      "Variable:                  176 Importance: 0.0\n",
      "Variable:                  177 Importance: 0.0\n",
      "Variable:                  178 Importance: 0.0\n",
      "Variable:                  179 Importance: 0.0\n",
      "Variable:                  185 Importance: 0.0\n",
      "Variable:                  188 Importance: 0.0\n",
      "Variable:                  189 Importance: 0.0\n",
      "Variable:                  190 Importance: 0.0\n",
      "Variable:                  191 Importance: 0.0\n",
      "Variable:                  194 Importance: 0.0\n",
      "Variable:                  195 Importance: 0.0\n",
      "Variable:                  197 Importance: 0.0\n",
      "Variable:                  201 Importance: 0.0\n",
      "Variable:                  202 Importance: 0.0\n",
      "Variable:                  205 Importance: 0.0\n",
      "Variable:                  206 Importance: 0.0\n",
      "Variable:                  207 Importance: 0.0\n",
      "Variable:                  208 Importance: 0.0\n"
     ]
    }
   ],
   "source": [
    "feature_list = np.arange(210)\n",
    "# Get numerical feature importances\n",
    "importances = list(model.feature_importances_)\n",
    "# List of tuples with variable and importance\n",
    "feature_importances = [(feature, round(importance, 10)) for feature, importance in zip(feature_list, importances)]\n",
    "# Sort the feature importances by most important first\n",
    "feature_importances = sorted(feature_importances, key = lambda x: x[1], reverse = True)\n",
    "# Print out the feature and importances \n",
    "[print('Variable: {:20} Importance: {}'.format(*pair)) for pair in feature_importances];"
   ]
  },
  {
   "cell_type": "markdown",
   "metadata": {},
   "source": [
    "# User Level Predictions"
   ]
  },
  {
   "cell_type": "code",
   "execution_count": 13,
   "metadata": {},
   "outputs": [
    {
     "name": "stdout",
     "output_type": "stream",
     "text": [
      "There are 866 unique ids in our val set.\n"
     ]
    }
   ],
   "source": [
    "unique_ids = np.unique(test_ids)\n",
    "print(f'There are {len(unique_ids)} unique ids in our val set.')\n",
    "\n",
    "overall_y_true = []\n",
    "overall_y_pred = []\n",
    "\n",
    "for usr_id in unique_ids:\n",
    "    \n",
    "    usr_idxs = np.nonzero(test_ids == usr_id)[0]\n",
    "    \n",
    "    #print(f'User {usr_id} has {len(usr_idxs)} in the val set.')\n",
    "\n",
    "    pred = np.mean(predictions[usr_idxs])\n",
    "    true = test_labels[usr_idxs[0]]\n",
    "    #print(f'This user has label {true} with vote {temp} leading to a aggregate prediction of {pred}.')\n",
    "    \n",
    "    overall_y_true.append(true)\n",
    "    overall_y_pred.append(pred)\n",
    "    \n",
    "overall_abs_err = np.abs(np.array(overall_y_true) - np.array(overall_y_pred))"
   ]
  },
  {
   "cell_type": "code",
   "execution_count": 14,
   "metadata": {},
   "outputs": [
    {
     "data": {
      "text/plain": [
       "3.7606144512318234"
      ]
     },
     "execution_count": 14,
     "metadata": {},
     "output_type": "execute_result"
    }
   ],
   "source": [
    "np.mean(overall_abs_err)"
   ]
  },
  {
   "cell_type": "code",
   "execution_count": 15,
   "metadata": {},
   "outputs": [
    {
     "data": {
      "image/png": "[encoded data removed]",
      "text/plain": [
       "<Figure size 432x288 with 1 Axes>"
      ]
     },
     "metadata": {
      "needs_background": "light"
     },
     "output_type": "display_data"
    },
    {
     "name": "stdout",
     "output_type": "stream",
     "text": [
      "SpearmanrResult(correlation=0.30629035034061347, pvalue=2.888339353225467e-20) (0.2861531345927519, 8.776664199532582e-18)\n"
     ]
    }
   ],
   "source": [
    "plt.figure()\n",
    "plt.scatter(overall_y_true, overall_y_pred, s = 1)\n",
    "plt.plot([0, 90], [0, 90], 'r-')\n",
    "plt.xlim([0, 90])\n",
    "plt.ylim([0, 90])\n",
    "plt.title(\"Age Predictions (User level ensembling)\")\n",
    "plt.xlabel(\"Actual Age\")\n",
    "plt.ylabel(\"Predicted Age\")\n",
    "plt.show()\n",
    "\n",
    "import scipy\n",
    "print(scipy.stats.spearmanr(overall_y_true, b=overall_y_pred), \n",
    "      scipy.stats.pearsonr(x=overall_y_true, y=overall_y_pred))"
   ]
  },
  {
   "cell_type": "code",
   "execution_count": null,
   "metadata": {},
   "outputs": [],
   "source": []
  }
 ],
 "metadata": {
  "kernelspec": {
   "display_name": "Python 3",
   "language": "python",
   "name": "python3"
  },
  "language_info": {
   "codemirror_mode": {
    "name": "ipython",
    "version": 3
   },
   "file_extension": ".py",
   "mimetype": "text/x-python",
   "name": "python",
   "nbconvert_exporter": "python",
   "pygments_lexer": "ipython3",
   "version": "3.6.7"
  }
 },
 "nbformat": 4,
 "nbformat_minor": 4
}
