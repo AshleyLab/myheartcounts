{
 "cells": [
  {
   "cell_type": "markdown",
   "metadata": {},
   "source": [
    "# BMI table"
   ]
  },
  {
   "cell_type": "code",
   "execution_count": 2,
   "metadata": {},
   "outputs": [],
   "source": [
    "# Imports\n",
    "import numpy as np\n",
    "import pandas as pd\n",
    "import os\n",
    "\n",
    "from matplotlib import pyplot as plt\n",
    "%matplotlib inline"
   ]
  },
  {
   "cell_type": "code",
   "execution_count": 8,
   "metadata": {},
   "outputs": [
    {
     "name": "stdout",
     "output_type": "stream",
     "text": [
      "Starting with 48285 records\n",
      "Dropping NaNs gives 41982 users\n",
      "Dropping duplicate healthcodes gives 23448 users\n",
      "Dropping invalid weights (10 > w or w > 1000 pounds) gives 21127 users\n",
      "Dropping invalid weights (36 inches (3ft) > h or h > 96 inches (8ft)) gives 21042 users\n"
     ]
    },
    {
     "data": {
      "image/png": "[encoded data removed]",
      "text/plain": [
       "<Figure size 432x288 with 1 Axes>"
      ]
     },
     "metadata": {
      "needs_background": "light"
     },
     "output_type": "display_data"
    },
    {
     "data": {
      "text/plain": [
       "(array([6.0000e+00, 6.0000e+00, 1.1000e+01, 3.2500e+02, 4.9990e+03,\n",
       "        1.2178e+04, 3.3720e+03, 1.2000e+02, 1.7000e+01, 8.0000e+00]),\n",
       " array([38. , 43.7, 49.4, 55.1, 60.8, 66.5, 72.2, 77.9, 83.6, 89.3, 95. ]),\n",
       " <a list of 10 Patch objects>)"
      ]
     },
     "execution_count": 8,
     "metadata": {},
     "output_type": "execute_result"
    },
    {
     "data": {
      "image/png": "[encoded data removed]",
      "text/plain": [
       "<Figure size 432x288 with 1 Axes>"
      ]
     },
     "metadata": {
      "needs_background": "light"
     },
     "output_type": "display_data"
    }
   ],
   "source": [
    "table_folder = \"/scratch/PI/euan/projects/mhc/data/tables\"\n",
    "table_path = os.path.join(table_folder, 'cardiovascular-NonIdentifiableDemographicsTask-v2.tsv')\n",
    "\n",
    "df = pd.read_csv(table_path, sep='\\t')\n",
    "df = df[['healthCode', \n",
    "         'NonIdentifiableDemographics.json.patientWeightPounds',\n",
    "         'NonIdentifiableDemographics.json.patientHeightInches', \n",
    "         'NonIdentifiableDemographics.patientWeightPounds',\n",
    "         'NonIdentifiableDemographics.patientHeightInches',]]\n",
    "         #'NonIdentifiableDemographics.json.patientWakeUpTime',\n",
    "         #'NonIdentifiableDemographics.json.patientCurrentAge', \n",
    "         #'NonIdentifiableDemographics.json.patientGoSleepTime']]\n",
    "\n",
    "print(f\"Starting with {df.shape[0]} records\")\n",
    "\n",
    "#Merge weights and heights\n",
    "df['Weight'] = df['NonIdentifiableDemographics.patientWeightPounds'].fillna(df['NonIdentifiableDemographics.json.patientWeightPounds'])\n",
    "df['Height'] = df['NonIdentifiableDemographics.patientHeightInches'].fillna(df['NonIdentifiableDemographics.json.patientHeightInches'])\n",
    "df = df[['healthCode', 'Weight', 'Height']]\n",
    "            \n",
    "df = df.dropna()\n",
    "print(f\"Dropping NaNs gives {df.shape[0]} users\")\n",
    "\n",
    "#Drop duplicates\n",
    "df = df.set_index('healthCode')\n",
    "df = df.loc[~df.index.duplicated(keep='last')]\n",
    "print(f\"Dropping duplicate healthcodes gives {df.shape[0]} users\")\n",
    "\n",
    "\n",
    "df = df[df['Weight'] < 1000]\n",
    "df = df[df['Weight'] > 10]\n",
    "print(f\"Dropping invalid weights (10 > w or w > 1000 pounds) gives {df.shape[0]} users\")\n",
    "\n",
    "df = df[df['Height'] < 96]\n",
    "df = df[df['Height'] > 36]\n",
    "print(f\"Dropping invalid weights (36 inches (3ft) > h or h > 96 inches (8ft)) gives {df.shape[0]} users\")\n",
    "\n",
    "\n",
    "plt.hist(df['Weight'])\n",
    "plt.show()\n",
    "plt.hist(df['Height'])"
   ]
  },
  {
   "cell_type": "markdown",
   "metadata": {},
   "source": [
    "# Make a function that does this"
   ]
  },
  {
   "cell_type": "code",
   "execution_count": null,
   "metadata": {},
   "outputs": [],
   "source": [
    "def get_BMI_hcs():\n",
    "    table_folder = \"/scratch/PI/euan/projects/mhc/data/tables\"\n",
    "    table_path = os.path.join(table_folder, 'cardiovascular-NonIdentifiableDemographicsTask-v2.tsv')\n",
    "\n",
    "    df = pd.read_csv(table_path, sep='\\t')\n",
    "    df = df[['healthCode', \n",
    "             'NonIdentifiableDemographics.json.patientWeightPounds',\n",
    "             'NonIdentifiableDemographics.json.patientHeightInches', \n",
    "             'NonIdentifiableDemographics.patientWeightPounds',\n",
    "             'NonIdentifiableDemographics.patientHeightInches',]]\n",
    "             #'NonIdentifiableDemographics.json.patientWakeUpTime',\n",
    "             #'NonIdentifiableDemographics.json.patientCurrentAge', \n",
    "             #'NonIdentifiableDemographics.json.patientGoSleepTime']]\n",
    "\n",
    "    print(f\"Starting with {df.shape[0]} records\")\n",
    "\n",
    "    #Merge weights and heights\n",
    "    df['Weight'] = df['NonIdentifiableDemographics.patientWeightPounds'].fillna(df['NonIdentifiableDemographics.json.patientWeightPounds'])\n",
    "    df['Height'] = df['NonIdentifiableDemographics.patientHeightInches'].fillna(df['NonIdentifiableDemographics.json.patientHeightInches'])\n",
    "    df = df[['healthCode', 'Weight', 'Height']]\n",
    "\n",
    "    df = df.dropna()\n",
    "    print(f\"Dropping NaNs gives {df.shape[0]} users\")\n",
    "\n",
    "    #Drop duplicates\n",
    "    df = df.set_index('healthCode')\n",
    "    df = df.loc[~df.index.duplicated(keep='last')]\n",
    "    print(f\"Dropping duplicate healthcodes gives {df.shape[0]} users\")\n",
    "\n",
    "\n",
    "    df = df[df['Weight'] < 1000]\n",
    "    df = df[df['Weight'] > 10]\n",
    "    print(f\"Dropping invalid weights (10 > w or w > 1000 pounds) gives {df.shape[0]} users\")\n",
    "\n",
    "    df = df[df['Height'] < 96]\n",
    "    df = df[df['Height'] > 36]\n",
    "    print(f\"Dropping invalid weights (36 inches (3ft) > h or h > 96 inches (8ft)) gives {df.shape[0]} users\")\n",
    "    \n",
    "    #Calculate BMI like so\n",
    "    # df['BMI'] = 703*(df['Weight'] / df['Height']) / df['Height']\n",
    "\n",
    "\n",
    "    return list(df.index)"
   ]
  }
 ],
 "metadata": {
  "kernelspec": {
   "display_name": "Python 3",
   "language": "python",
   "name": "python3"
  },
  "language_info": {
   "codemirror_mode": {
    "name": "ipython",
    "version": 3
   },
   "file_extension": ".py",
   "mimetype": "text/x-python",
   "name": "python",
   "nbconvert_exporter": "python",
   "pygments_lexer": "ipython3",
   "version": "3.6.8"
  }
 },
 "nbformat": 4,
 "nbformat_minor": 2
}
