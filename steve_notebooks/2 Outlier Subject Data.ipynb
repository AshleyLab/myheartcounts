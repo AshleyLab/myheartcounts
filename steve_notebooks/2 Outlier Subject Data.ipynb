{
 "cells": [
  {
   "cell_type": "code",
   "execution_count": 47,
   "metadata": {},
   "outputs": [
    {
     "name": "stdout",
     "output_type": "stream",
     "text": [
      "89a190e2-6b78-46b5-b469-27d231bbf123\n"
     ]
    }
   ],
   "source": [
    "%matplotlib inline\n",
    "import matplotlib\n",
    "import matplotlib.pyplot as plt\n",
    "import csv, os, pickle\n",
    "from os.path import isfile, join\n",
    "from os import listdir\n",
    "import numpy as np\n",
    "from table_loader import *\n",
    "from datetime import datetime,timedelta\n",
    "from dateutil.parser import parse\n",
    "#from synapse_parser import *\n",
    "\n",
    "synapseCacheDir = \"/scratch/PI/euan/projects/mhc/data/synapseCache_v2/\"\n",
    "table_path = \"/scratch/PI/euan/projects/mhc/data/tables/v2_data_subset/cardiovascular-HealthKitDataCollector-v1.tsv\"\n",
    "subjects = \"/scratch/PI/euan/projects/mhc/data/tables/v2_data_subset/subjects/healthkit_data/x0\"\n",
    "\n",
    "\n",
    "def parse_healthkit_steps(file_path):\n",
    "    tally_dict=dict()\n",
    "    #read in the data\n",
    "    dtype_dict=dict()\n",
    "    dtype_dict['names']=('startTime',\n",
    "                         'endTime',\n",
    "                         'type',\n",
    "                         'value',\n",
    "                         'unit',\n",
    "                         'source',\n",
    "                         'sourceIdentifier')\n",
    "    dtype_dict['formats']=(datetime,\n",
    "                           datetime,\n",
    "                           'S36',\n",
    "                           'i',\n",
    "                           'S36',\n",
    "                           'S36',\n",
    "                           'S36')\n",
    "    try:\n",
    "        data=np.genfromtxt(file_path,\n",
    "                           dtype=dtype_dict['formats'],\n",
    "                           names=dtype_dict['names'],\n",
    "                           delimiter=',',\n",
    "                           skip_header=True,\n",
    "                           loose=True,\n",
    "                           invalid_raise=False,\n",
    "                           converters={0:lambda x: parse(x),\n",
    "                                       1:lambda x: parse(x)})\n",
    "    except:\n",
    "        return tally_dict\n",
    "    #get the duration of each activity by day\n",
    "    try:\n",
    "        num_rows=len(data)\n",
    "    except:\n",
    "        return tally_dict\n",
    "    for row in range(len(data)):\n",
    "        try:\n",
    "            day=data['startTime'][row].date()\n",
    "            value=data['value'][row]\n",
    "            datatype=data['sourceIdentifier'][row]\n",
    "            if day not in tally_dict:\n",
    "                tally_dict[day]=dict()\n",
    "            if datatype not in tally_dict[day]:\n",
    "                tally_dict[day][datatype]=value\n",
    "            else:\n",
    "                tally_dict[day][datatype]+=value\n",
    "        except:\n",
    "            print \"ERROR\"\n",
    "            continue\n",
    "    return tally_dict\n",
    "\n",
    "\n",
    "#we assume a subject will rarely have multiple table entries for motion tracker and health kit data in one day,\n",
    "#but this is possible in the app, so we handle it: \n",
    "#sum minute durations together if there is a key conflict for a given day \n",
    "def merge_duration_dict(d1,d2):\n",
    "    #merge duration values \n",
    "    d3=dict()\n",
    "    for entry in d1:\n",
    "        d3[entry]=d1[entry]\n",
    "    for entry in d2:\n",
    "        if entry in d3:\n",
    "            #sum by key\n",
    "            for key in d2[entry]:\n",
    "                if key in d3[entry]:\n",
    "                    d3[entry][key]+=d2[entry][key]\n",
    "                else:\n",
    "                    d3[entry][key]=d2[entry][key]\n",
    "        else:\n",
    "            d3[entry]=d2[entry]\n",
    "    return d3\n",
    "    #update fraction values\n",
    "\n",
    "def get_synapse_cache_entry(synapseCacheDir,blob_name):\n",
    "    #print(str(blob_name)) \n",
    "    parent_dir=blob_name[-3::].lstrip('0')\n",
    "    if parent_dir==\"\":\n",
    "        parent_dir=\"0\" \n",
    "    mypath=synapseCacheDir+parent_dir+\"/\"+blob_name\n",
    "    onlyfiles = [f for f in listdir(mypath) if isfile(join(mypath, f))]\n",
    "    for f in onlyfiles:\n",
    "        if f.startswith('data'):\n",
    "            return mypath+'/'+f\n",
    "        \n",
    "        \n",
    "outlier_subjects =  ['89a190e2-6b78-46b5-b469-27d231bbf123',\n",
    " '441a70b9-9b56-48d5-935a-a7a844abbf57',\n",
    " 'b5eeefec-7f4a-48c5-aef4-0db7030fb532',\n",
    " '105de5d8-e264-47cc-8bdc-d4aff7d568bb',\n",
    " '6e070717-16ee-4485-8c05-a6f376b5d1bf',\n",
    " '54be93b9-8d7b-4640-b592-956891955dde',\n",
    " '6bcb2e5c-cfcf-48c5-bc3a-a0ef78fd4c25',\n",
    " '92d1c57e-5cce-4738-89d6-a7f67ed9baf7',\n",
    " 'df3f739a-35a1-48c5-a64b-a010b952ac35',\n",
    " 'bcfa41b8-8e9f-48f9-81e1-c27831cadecf']\n",
    "subject = outlier_subjects[0]\n",
    "print subject\n",
    "cur_subject=subject"
   ]
  },
  {
   "cell_type": "code",
   "execution_count": null,
   "metadata": {
    "collapsed": true
   },
   "outputs": [],
   "source": [
    "data_table=load_health_kit(table_path)\n",
    "pickle.dump(data_table,open(\"cardiovascular-HealthKitDataCollector-v1.p\",'wb'))"
   ]
  },
  {
   "cell_type": "code",
   "execution_count": 2,
   "metadata": {},
   "outputs": [
    {
     "name": "stdout",
     "output_type": "stream",
     "text": [
      "208\n"
     ]
    }
   ],
   "source": [
    "data_table= pickle.load( open( \"cardiovascular-HealthKitDataCollector-v1.p\", \"rb\" ) )\n",
    "data_subject = data_table[data_table[\"healthCode\"]==subject]\n",
    "print len(data_subject)"
   ]
  },
  {
   "cell_type": "code",
   "execution_count": 51,
   "metadata": {},
   "outputs": [
    {
     "name": "stdout",
     "output_type": "stream",
     "text": [
      "ERROR\n",
      "ERROR\n",
      "ERROR\n",
      "ERROR\n",
      "ERROR\n",
      "ERROR\n",
      "ERROR\n",
      "ERROR\n",
      "ERROR\n",
      "ERROR\n"
     ]
    },
    {
     "data": {
      "text/plain": [
       "{datetime.date(2017, 1, 3): {'com.garmin.connect.mobile': 174},\n",
       " datetime.date(2017, 1, 6): {'com.apple.health.8FDEFD3C-0CB4-49EF-': 11154,\n",
       "  'com.garmin.connect.mobile': 5712760,\n",
       "  'edu.stanford.MyHeartCounts': 88},\n",
       " datetime.date(2017, 1, 15): {'com.garmin.connect.mobile': 173},\n",
       " datetime.date(2017, 1, 17): {'com.apple.health.8FDEFD3C-0CB4-49EF-': 456,\n",
       "  'com.garmin.connect.mobile': 20076},\n",
       " datetime.date(2017, 1, 18): {'com.apple.health.8FDEFD3C-0CB4-49EF-': 1802,\n",
       "  'com.garmin.connect.mobile': 2351560}}"
      ]
     },
     "execution_count": 51,
     "metadata": {},
     "output_type": "execute_result"
    }
   ],
   "source": [
    "subject_distance_vals = {}\n",
    "for row in data_subject:\n",
    "    blob_name=row['data']\n",
    "    if blob_name.endswith('NA'):\n",
    "        continue \n",
    "    synapseCacheFile=get_synapse_cache_entry(synapseCacheDir,blob_name)\n",
    "    health_kit_distance=parse_healthkit_steps(synapseCacheFile)    \n",
    "    #continue\n",
    "    if cur_subject not in subject_distance_vals:\n",
    "        subject_distance_vals[cur_subject]=health_kit_distance\n",
    "    else: \n",
    "        result = merge_duration_dict(subject_distance_vals[cur_subject],health_kit_distance)\n",
    "result"
   ]
  },
  {
   "cell_type": "code",
   "execution_count": 4,
   "metadata": {},
   "outputs": [
    {
     "name": "stdout",
     "output_type": "stream",
     "text": [
      "1 Exploring MHC Pipeline to find outliers.ipynb\r\n",
      "2 Outlier Subject Data.ipynb\r\n",
      "aggregators.py\r\n",
      "aggregators.pyc\r\n",
      "assemble_results_across_subjects.py\r\n",
      "assemble_results_across_subjects.sh\r\n",
      "cache.p\r\n",
      "filter_and_qc.py\r\n",
      "filter_and_qc.sh\r\n",
      "filters.py\r\n",
      "get_activity_fraction_and_duration_appv2.activity_only.sh\r\n",
      "get_activity_fraction_and_duration_appv2.healthkit.sh\r\n",
      "get_activity_fraction_and_duration_appv2.py\r\n",
      "get_objective_metrics_for_gwas.py\r\n",
      "get_objective_metrics_for_gwas.sh\r\n",
      "health_kit_metrics.py\r\n",
      "load_summaries.py\r\n",
      "measure_intervention_effects.R\r\n",
      "motion_tracker_metrics.py\r\n",
      "\u001b[0m\u001b[38;5;27mmyheartcounts-master\u001b[0m/\r\n",
      "outprefix\r\n",
      "qc_metrics.py\r\n",
      "\u001b[38;5;27mR\u001b[0m/\r\n",
      "R test (crashes).ipynb\r\n",
      "sbatch.healthkit.sh\r\n",
      "sbatch.motiontracker.sh\r\n",
      "synapse_parser.py\r\n",
      "synapse_parser.pyc\r\n",
      "table_loader.py\r\n",
      "table_loader.pyc\r\n",
      "table_parser.py\r\n",
      "table_parser.pyc\r\n",
      "\u001b[m"
     ]
    }
   ],
   "source": [
    " blob_name=data_table['data'][row]\n",
    "            if blob_name.endswith(\"NA\"):\n",
    "                continue\n",
    "            synapseCacheFile=get_synapse_cache_entry(synapseCacheDir,blob_name)\n",
    "            try:\n",
    "                health_kit_distance=parse_healthkit_steps(synapseCacheFile)\n",
    "                if cur_subject not in subject_distance_vals:\n",
    "                    subject_distance_vals[cur_subject]=health_kit_distance\n",
    "                else: \n",
    "                    subject_distance_vals[cur_subject]=merge_duration_dict(subject_distance_vals[cur_subject],health_kit_distance)\n",
    "            except:\n",
    "                continue "
   ]
  },
  {
   "cell_type": "code",
   "execution_count": null,
   "metadata": {
    "collapsed": true
   },
   "outputs": [],
   "source": [
    "python get_activity_fraction_and_duration_appv2.py --tables /scratch/PI/euan/projects/mhc/data/tables/v2_data_subset/cardiovascular-HealthKitDataCollector-v1.tsv\\\n",
    "       --synapseCacheDir /scratch/PI/euan/projects/mhc/data/synapseCache_v2/\\\n",
    "       --out_prefixes parsed_v2_HealthKitData.$subject_set\\\n",
    "       --data_types health_kit_data_collector\\\n",
    "       --subjects /scratch/PI/euan/projects/mhc/data/tables/v2_data_subset/subjects/healthkit_data/x$subject_set\\\n",
    "       --intervention_metadata /scratch/PI/euan/projects/mhc/data/tables/v2_data_subset/cardiovascular-ABTestResults-v1.tsv\n"
   ]
  },
  {
   "cell_type": "code",
   "execution_count": 12,
   "metadata": {},
   "outputs": [
    {
     "name": "stdout",
     "output_type": "stream",
     "text": [
      "/scratch/PI/euan/projects/mhc/data/synapseCache_v2/756/14337756/data-7f7f8698-be31-494c-a47a-f7676499504b.csv\n"
     ]
    },
    {
     "name": "stderr",
     "output_type": "stream",
     "text": [
      "/opt/rh/python27/root/usr/lib64/python2.7/site-packages/numpy/lib/npyio.py:1641: ConversionWarning: Some errors were detected !\n",
      "    Line #94 (got 1 columns instead of 7)\n",
      "    Line #301 (got 1 columns instead of 7)\n",
      "    Line #337 (got 1 columns instead of 7)\n",
      "    Line #370 (got 1 columns instead of 7)\n",
      "  warnings.warn(errmsg, ConversionWarning)\n"
     ]
    }
   ],
   "source": [
    "synapseCacheFile=get_synapse_cache_entry(synapseCacheDir,\"14337756\")\n",
    "print synapseCacheFile\n",
    "\n",
    "#read in the data\n",
    "dtype_dict=dict()\n",
    "dtype_dict['names']=('startTime',\n",
    "                     'endTime',\n",
    "                     'type',\n",
    "                     'value',\n",
    "                     'unit',\n",
    "                     'source',\n",
    "                     'sourceIdentifier')\n",
    "dtype_dict['formats']=(datetime,\n",
    "                       datetime,\n",
    "                       'S36',\n",
    "                       'i',\n",
    "                       'S36',\n",
    "                       'S36',\n",
    "                       'S36')\n",
    "data=np.genfromtxt(synapseCacheFile,\n",
    "                       dtype=dtype_dict['formats'],\n",
    "                       names=dtype_dict['names'],\n",
    "                       delimiter=',',\n",
    "                       skip_header=True,\n",
    "                       loose=True,\n",
    "                       invalid_raise=False,\n",
    "                       converters={0:lambda x: parse(x),\n",
    "                                   1:lambda x: parse(x)})\n",
    "\n",
    "#get the duration of each activity by day\n"
   ]
  },
  {
   "cell_type": "code",
   "execution_count": 13,
   "metadata": {},
   "outputs": [
    {
     "data": {
      "text/plain": [
       "407"
      ]
     },
     "execution_count": 13,
     "metadata": {},
     "output_type": "execute_result"
    }
   ],
   "source": [
    "tally_dict=dict()\n",
    "num_rows=len(data)\n",
    "num_rows"
   ]
  },
  {
   "cell_type": "code",
   "execution_count": 27,
   "metadata": {},
   "outputs": [],
   "source": [
    "for row in range(len(data)):\n",
    "    day=data['startTime'][row].date()\n",
    "    value=data['value'][row]\n",
    "    datatype=data['type'][row]\n",
    "        sourceIdentifier=data['sourceIdentifier'][row]\n",
    "    if day not in tally_dict:\n",
    "        tally_dict[day]=dict()\n",
    "    if datatype not in tally_dict[day]:\n",
    "        tally_dict[day][datatype]=value\n",
    "    else:\n",
    "        tally_dict[day][datatype]+=value\n",
    "\n",
    "    if datatype == \"HKQuantityTypeIdentifierStepCount\":\n",
    "        start=data['startTime'][row]\n",
    "        stop=data['endTime'][row]\n",
    "        source=data['source'][row]\n",
    "        sourceIdentifier=data['sourceIdentifier'][row]\n",
    "        steps_per_second = float(value)/(stop-start).seconds\n",
    "        if steps_per_second > 4:\n",
    "            print steps_per_second\n"
   ]
  },
  {
   "cell_type": "code",
   "execution_count": 22,
   "metadata": {
    "collapsed": true
   },
   "outputs": [],
   "source": [
    "#user, average steps, grid of devices giving data"
   ]
  },
  {
   "cell_type": "code",
   "execution_count": 28,
   "metadata": {},
   "outputs": [],
   "source": [
    "a=set()"
   ]
  },
  {
   "cell_type": "code",
   "execution_count": 24,
   "metadata": {
    "collapsed": true
   },
   "outputs": [],
   "source": [
    "a.add()"
   ]
  },
  {
   "cell_type": "code",
   "execution_count": 25,
   "metadata": {},
   "outputs": [
    {
     "data": {
      "text/plain": [
       "899"
      ]
     },
     "execution_count": 25,
     "metadata": {},
     "output_type": "execute_result"
    }
   ],
   "source": [
    "a.seconds"
   ]
  },
  {
   "cell_type": "code",
   "execution_count": 33,
   "metadata": {},
   "outputs": [
    {
     "name": "stdout",
     "output_type": "stream",
     "text": [
      "HELLO\n"
     ]
    },
    {
     "data": {
      "text/plain": [
       "{'com.garmin.connect.mobile'}"
      ]
     },
     "execution_count": 33,
     "metadata": {},
     "output_type": "execute_result"
    }
   ],
   "source": [
    "def parse_healthkit_sources(file_path, HK_datatype):\n",
    "    tally_set=set()\n",
    "    #read in the data\n",
    "    dtype_dict=dict()\n",
    "    dtype_dict['names']=('startTime',\n",
    "                         'endTime',\n",
    "                         'type',\n",
    "                         'value',\n",
    "                         'unit',\n",
    "                         'source',\n",
    "                         'sourceIdentifier')\n",
    "    dtype_dict['formats']=(datetime,\n",
    "                           datetime,\n",
    "                           'S36',\n",
    "                           'i',\n",
    "                           'S36',\n",
    "                           'S36',\n",
    "                           'S36')\n",
    "    try:\n",
    "        data=np.genfromtxt(file_path,\n",
    "                           dtype=dtype_dict['formats'],\n",
    "                           names=dtype_dict['names'],\n",
    "                           delimiter=',',\n",
    "                           skip_header=True,\n",
    "                           loose=True,\n",
    "                           invalid_raise=False,\n",
    "                           converters={0:lambda x: parse(x),\n",
    "                                       1:lambda x: parse(x)})\n",
    "    except:\n",
    "        return tally_set\n",
    "    #get the duration of each activity by day\n",
    "    for row in range(len(data)):\n",
    "        datatype = data['type'][row]\n",
    "        sourceIdentifier = data['sourceIdentifier'][row]\n",
    "        if datatype == HK_datatype:\n",
    "            tally_set.add(data['sourceIdentifier'][row])\n",
    "    return tally_set\n",
    "\n",
    "parse_healthkit_sources(get_synapse_cache_entry(synapseCacheDir,\"14337756\"),\\\n",
    "                        \"HKQuantityTypeIdentifierStepCount\")"
   ]
  },
  {
   "cell_type": "code",
   "execution_count": 35,
   "metadata": {},
   "outputs": [
    {
     "name": "stdout",
     "output_type": "stream",
     "text": [
      "14337750 ('616170_634', 'e8a7cefe-045f-483e-a2f2-ae5ada6dd424', 'version 2.0.0, build 3', 'iPhone 6', datetime.datetime(2017, 1, 8, 0, 0), '89a190e2-6b78-46b5-b469-27d231bbf123', 'NA', 'NA', datetime.datetime(2017, 1, 7, 3, 9, 15), 'NA', 'NA', '14337750')\n",
      "HELLO\n",
      "14337756 ('616176_634', 'eb93bac0-2b0d-4ea1-a04f-63a9c7f527dc', 'version 2.0.0, build 3', 'iPhone 6', datetime.datetime(2017, 1, 8, 0, 0), '89a190e2-6b78-46b5-b469-27d231bbf123', 'NA', 'NA', datetime.datetime(2017, 1, 7, 3, 4, 4), 'NA', 'NA', '14337756')\n",
      "HELLO\n",
      "14337817 ('616204_634', '2db4d8e7-7640-4374-a5a1-f33e46e336ee', 'version 2.0.0, build 3', 'iPhone 6', datetime.datetime(2017, 1, 8, 0, 0), '89a190e2-6b78-46b5-b469-27d231bbf123', 'NA', 'NA', datetime.datetime(2017, 1, 7, 3, 14, 7), 'NA', 'NA', '14337817')\n",
      "HELLO\n",
      "14337831 ('616213_634', '80ebfb0f-d255-4bd1-88f9-f05be4a38ee0', 'version 2.0.0, build 3', 'iPhone 6', datetime.datetime(2017, 1, 8, 0, 0), '89a190e2-6b78-46b5-b469-27d231bbf123', 'NA', 'NA', datetime.datetime(2017, 1, 7, 3, 7, 30), 'NA', 'NA', '14337831')\n",
      "HELLO\n",
      "14337858 ('616232_634', '39b32e69-6668-40c5-97d3-3669d05878ba', 'version 2.0.0, build 3', 'iPhone 6', datetime.datetime(2017, 1, 8, 0, 0), '89a190e2-6b78-46b5-b469-27d231bbf123', 'NA', 'NA', datetime.datetime(2017, 1, 7, 3, 3, 7), 'NA', 'NA', '14337858')\n",
      "HELLO\n",
      "14337862 ('616234_634', 'd2706ccf-8dbb-451e-97cd-f0e101009fca', 'version 2.0.0, build 3', 'iPhone 6', datetime.datetime(2017, 1, 8, 0, 0), '89a190e2-6b78-46b5-b469-27d231bbf123', 'NA', 'NA', datetime.datetime(2017, 1, 7, 3, 2, 37), 'NA', 'NA', '14337862')\n",
      "HELLO\n"
     ]
    },
    {
     "name": "stderr",
     "output_type": "stream",
     "text": [
      "/opt/rh/python27/root/usr/lib64/python2.7/site-packages/numpy/lib/npyio.py:1641: ConversionWarning: Some errors were detected !\n",
      "    Line #95 (got 1 columns instead of 7)\n",
      "    Line #118 (got 1 columns instead of 7)\n",
      "    Line #129 (got 1 columns instead of 7)\n",
      "    Line #166 (got 1 columns instead of 7)\n",
      "    Line #169 (got 1 columns instead of 7)\n",
      "    Line #172 (got 1 columns instead of 7)\n",
      "    Line #224 (got 1 columns instead of 7)\n",
      "    Line #239 (got 1 columns instead of 7)\n",
      "    Line #316 (got 1 columns instead of 7)\n",
      "    Line #319 (got 1 columns instead of 7)\n",
      "    Line #325 (got 1 columns instead of 7)\n",
      "  warnings.warn(errmsg, ConversionWarning)\n",
      "/opt/rh/python27/root/usr/lib64/python2.7/site-packages/numpy/lib/npyio.py:1641: ConversionWarning: Some errors were detected !\n",
      "    Line #89 (got 1 columns instead of 7)\n",
      "    Line #181 (got 1 columns instead of 7)\n",
      "    Line #270 (got 1 columns instead of 7)\n",
      "    Line #275 (got 1 columns instead of 7)\n",
      "    Line #342 (got 1 columns instead of 7)\n",
      "    Line #350 (got 1 columns instead of 7)\n",
      "    Line #381 (got 1 columns instead of 7)\n",
      "    Line #383 (got 1 columns instead of 7)\n",
      "    Line #401 (got 1 columns instead of 7)\n",
      "  warnings.warn(errmsg, ConversionWarning)\n"
     ]
    },
    {
     "name": "stdout",
     "output_type": "stream",
     "text": [
      "14337888 ('616245_634', '50b57053-54c5-401d-a7db-f8cc1c9feea2', 'version 2.0.0, build 3', 'iPhone 6', datetime.datetime(2017, 1, 8, 0, 0), '89a190e2-6b78-46b5-b469-27d231bbf123', 'NA', 'NA', datetime.datetime(2017, 1, 7, 3, 8, 9), 'NA', 'NA', '14337888')\n",
      "HELLO\n",
      "14337909 ('616252_634', '1e3e911f-55de-47f4-b37c-59bb6dba7da4', 'version 2.0.0, build 3', 'iPhone 6', datetime.datetime(2017, 1, 8, 0, 0), '89a190e2-6b78-46b5-b469-27d231bbf123', 'NA', 'NA', datetime.datetime(2017, 1, 7, 3, 14, 5), 'NA', 'NA', '14337909')\n",
      "HELLO\n",
      "14338003 ('616293_634', 'cf84d364-f69c-463c-8dfd-5609f1b98b2f', 'version 2.0.0, build 3', 'iPhone 6', datetime.datetime(2017, 1, 8, 0, 0), '89a190e2-6b78-46b5-b469-27d231bbf123', 'NA', 'NA', datetime.datetime(2017, 1, 7, 3, 8, 23), 'NA', 'NA', '14338003')\n",
      "HELLO\n",
      "14338074 ('616339_634', '6b9f2071-5f1b-40b6-9fe8-a28edb9903fd', 'version 2.0.0, build 3', 'iPhone 6', datetime.datetime(2017, 1, 8, 0, 0), '89a190e2-6b78-46b5-b469-27d231bbf123', 'NA', 'NA', datetime.datetime(2017, 1, 7, 3, 3, 25), 'NA', 'NA', '14338074')\n",
      "HELLO\n"
     ]
    },
    {
     "name": "stderr",
     "output_type": "stream",
     "text": [
      "/opt/rh/python27/root/usr/lib64/python2.7/site-packages/numpy/lib/npyio.py:1641: ConversionWarning: Some errors were detected !\n",
      "    Line #35 (got 1 columns instead of 7)\n",
      "    Line #61 (got 1 columns instead of 7)\n",
      "    Line #208 (got 1 columns instead of 7)\n",
      "  warnings.warn(errmsg, ConversionWarning)\n"
     ]
    },
    {
     "name": "stdout",
     "output_type": "stream",
     "text": [
      "14338086 ('616347_634', '622b8346-3bc8-442d-b0d4-b4ac6cbb4515', 'version 2.0.0, build 3', 'iPhone 6', datetime.datetime(2017, 1, 8, 0, 0), '89a190e2-6b78-46b5-b469-27d231bbf123', 'NA', 'NA', datetime.datetime(2017, 1, 7, 3, 7, 36), 'NA', 'NA', '14338086')\n",
      "HELLO\n",
      "14338100 ('616356_634', '2fbafee5-b473-49b3-9780-5ddc45796dd7', 'version 2.0.0, build 3', 'iPhone 6', datetime.datetime(2017, 1, 8, 0, 0), '89a190e2-6b78-46b5-b469-27d231bbf123', 'NA', 'NA', datetime.datetime(2017, 1, 7, 3, 9, 37), 'NA', 'NA', '14338100')\n",
      "HELLO\n",
      "14338109 ('616361_634', '33180450-be20-41e8-84a3-075fa7dcdbe7', 'version 2.0.0, build 3', 'iPhone 6', datetime.datetime(2017, 1, 8, 0, 0), '89a190e2-6b78-46b5-b469-27d231bbf123', 'NA', 'NA', datetime.datetime(2017, 1, 7, 3, 9, 7), 'NA', 'NA', '14338109')\n",
      "HELLO\n",
      "14338147 ('616380_634', '21a705d8-13c3-4894-bcdf-cefa3308941a', 'version 2.0.0, build 3', 'iPhone 6', datetime.datetime(2017, 1, 8, 0, 0), '89a190e2-6b78-46b5-b469-27d231bbf123', 'NA', 'NA', datetime.datetime(2017, 1, 7, 3, 8, 18), 'NA', 'NA', '14338147')\n",
      "HELLO\n",
      "14338158 ('616388_634', 'a25e49c3-d282-4b82-8e42-9e1973202856', 'version 2.0.0, build 3', 'iPhone 6', datetime.datetime(2017, 1, 8, 0, 0), '89a190e2-6b78-46b5-b469-27d231bbf123', 'NA', 'NA', datetime.datetime(2017, 1, 7, 3, 8, 12), 'NA', 'NA', '14338158')\n",
      "HELLO\n",
      "14338173 ('616395_634', 'b66e7de1-4d12-4c52-a21f-951ae7286784', 'version 2.0.0, build 3', 'iPhone 6', datetime.datetime(2017, 1, 8, 0, 0), '89a190e2-6b78-46b5-b469-27d231bbf123', 'NA', 'NA', datetime.datetime(2017, 1, 7, 3, 3, 44), 'NA', 'NA', '14338173')\n",
      "HELLO\n"
     ]
    },
    {
     "name": "stderr",
     "output_type": "stream",
     "text": [
      "/opt/rh/python27/root/usr/lib64/python2.7/site-packages/numpy/lib/npyio.py:1641: ConversionWarning: Some errors were detected !\n",
      "    Line #365 (got 1 columns instead of 7)\n",
      "  warnings.warn(errmsg, ConversionWarning)\n"
     ]
    },
    {
     "name": "stdout",
     "output_type": "stream",
     "text": [
      "14338239 ('616437_634', '0d27cb1d-ea02-48e0-8d5a-50796eaedeb2', 'version 2.0.0, build 3', 'iPhone 6', datetime.datetime(2017, 1, 8, 0, 0), '89a190e2-6b78-46b5-b469-27d231bbf123', 'NA', 'NA', datetime.datetime(2017, 1, 7, 3, 8, 41), 'NA', 'NA', '14338239')\n",
      "HELLO\n",
      "14338260 ('616452_634', 'f2ac8bee-3df1-4e7d-be71-9b821280669c', 'version 2.0.0, build 3', 'iPhone 6', datetime.datetime(2017, 1, 8, 0, 0), '89a190e2-6b78-46b5-b469-27d231bbf123', 'NA', 'NA', datetime.datetime(2017, 1, 7, 3, 8, 51), 'NA', 'NA', '14338260')\n",
      "HELLO\n",
      "14338277 ('616466_634', 'd9f2e8ed-f6a9-461f-9712-5ad3438b64ca', 'version 2.0.0, build 3', 'iPhone 6', datetime.datetime(2017, 1, 8, 0, 0), '89a190e2-6b78-46b5-b469-27d231bbf123', 'NA', 'NA', datetime.datetime(2017, 1, 7, 3, 8, 30), 'NA', 'NA', '14338277')\n",
      "HELLO\n",
      "14338278 ('616467_634', '34ee449e-d826-46b3-bafd-06be14ea9963', 'version 2.0.0, build 3', 'iPhone 6', datetime.datetime(2017, 1, 8, 0, 0), '89a190e2-6b78-46b5-b469-27d231bbf123', 'NA', 'NA', datetime.datetime(2017, 1, 7, 3, 14, 16), 'NA', 'NA', '14338278')\n",
      "HELLO\n",
      "14338295 ('616478_634', 'a8b897c4-1e1f-494c-aeea-77d66f7431df', 'version 2.0.0, build 3', 'iPhone 6', datetime.datetime(2017, 1, 8, 0, 0), '89a190e2-6b78-46b5-b469-27d231bbf123', 'NA', 'NA', datetime.datetime(2017, 1, 7, 3, 7, 49), 'NA', 'NA', '14338295')\n",
      "HELLO\n",
      "14338301 ('616482_634', '569a105d-7077-4117-88cc-db48819bf68d', 'version 2.0.0, build 3', 'iPhone 6', datetime.datetime(2017, 1, 8, 0, 0), '89a190e2-6b78-46b5-b469-27d231bbf123', 'NA', 'NA', datetime.datetime(2017, 1, 7, 3, 3, 57), 'NA', 'NA', '14338301')\n",
      "HELLO\n"
     ]
    },
    {
     "name": "stderr",
     "output_type": "stream",
     "text": [
      "/opt/rh/python27/root/usr/lib64/python2.7/site-packages/numpy/lib/npyio.py:1641: ConversionWarning: Some errors were detected !\n",
      "    Line #15 (got 1 columns instead of 7)\n",
      "    Line #99 (got 1 columns instead of 7)\n",
      "    Line #104 (got 1 columns instead of 7)\n",
      "    Line #398 (got 1 columns instead of 7)\n",
      "    Line #416 (got 1 columns instead of 7)\n",
      "  warnings.warn(errmsg, ConversionWarning)\n"
     ]
    },
    {
     "name": "stdout",
     "output_type": "stream",
     "text": [
      "14338302 ('616483_634', '60ee6fa6-c2d6-44bc-8b6d-1edebec2cae7', 'version 2.0.0, build 3', 'iPhone 6', datetime.datetime(2017, 1, 8, 0, 0), '89a190e2-6b78-46b5-b469-27d231bbf123', 'NA', 'NA', datetime.datetime(2017, 1, 7, 3, 9, 1), 'NA', 'NA', '14338302')\n",
      "HELLO\n",
      "14338336 ('616496_634', 'c178b9c8-7cce-46ac-9d3e-327b7d053927', 'version 2.0.0, build 3', 'iPhone 6', datetime.datetime(2017, 1, 8, 0, 0), '89a190e2-6b78-46b5-b469-27d231bbf123', 'NA', 'NA', datetime.datetime(2017, 1, 7, 3, 14, 1), 'NA', 'NA', '14338336')\n",
      "HELLO\n",
      "14338358 ('616504_634', 'a38711ac-e4d3-4ccc-aae4-d8d45f0d4f27', 'version 2.0.0, build 3', 'iPhone 6', datetime.datetime(2017, 1, 8, 0, 0), '89a190e2-6b78-46b5-b469-27d231bbf123', 'NA', 'NA', datetime.datetime(2017, 1, 7, 3, 8, 5), 'NA', 'NA', '14338358')\n",
      "HELLO\n",
      "14338368 ('616511_634', 'fef155a5-7acd-4ef6-994a-51d8bd1d9bb5', 'version 2.0.0, build 3', 'iPhone 6', datetime.datetime(2017, 1, 8, 0, 0), '89a190e2-6b78-46b5-b469-27d231bbf123', 'NA', 'NA', datetime.datetime(2017, 1, 7, 3, 8, 32), 'NA', 'NA', '14338368')\n",
      "HELLO\n",
      "14338396 ('616527_634', 'e89ec3e6-e1b1-4594-82e3-9a4aeb08e6bf', 'version 2.0.0, build 3', 'iPhone 6', datetime.datetime(2017, 1, 8, 0, 0), '89a190e2-6b78-46b5-b469-27d231bbf123', 'NA', 'NA', datetime.datetime(2017, 1, 7, 3, 8, 40), 'NA', 'NA', '14338396')\n",
      "HELLO\n",
      "14338416 ('616540_634', '07494d17-8842-4007-af59-b704f5918687', 'version 2.0.0, build 3', 'iPhone 6', datetime.datetime(2017, 1, 8, 0, 0), '89a190e2-6b78-46b5-b469-27d231bbf123', 'NA', 'NA', datetime.datetime(2017, 1, 7, 3, 7, 32), 'NA', 'NA', '14338416')\n",
      "HELLO\n",
      "14338430 ('616549_634', 'c1ed1d87-305f-45f5-8dab-50b30e629499', 'version 2.0.0, build 3', 'iPhone 6', datetime.datetime(2017, 1, 8, 0, 0), '89a190e2-6b78-46b5-b469-27d231bbf123', 'NA', 'NA', datetime.datetime(2017, 1, 7, 3, 2, 20), 'NA', 'NA', '14338430')\n",
      "HELLO\n",
      "14338522 ('616612_634', 'cf38f96f-4957-46e8-a6e7-74d59053de4e', 'version 2.0.0, build 3', 'iPhone 6', datetime.datetime(2017, 1, 8, 0, 0), '89a190e2-6b78-46b5-b469-27d231bbf123', 'NA', 'NA', datetime.datetime(2017, 1, 7, 3, 8, 21), 'NA', 'NA', '14338522')\n",
      "HELLO\n",
      "14338561 ('616639_634', 'bdbdadad-a2cb-4294-befa-1924747c74cd', 'version 2.0.0, build 3', 'iPhone 6', datetime.datetime(2017, 1, 8, 0, 0), '89a190e2-6b78-46b5-b469-27d231bbf123', 'NA', 'NA', datetime.datetime(2017, 1, 7, 3, 8, 47), 'NA', 'NA', '14338561')\n",
      "HELLO\n",
      "14338642 ('616685_634', '288dcd4d-0305-4ef7-adb3-fba5565e3790', 'version 2.0.0, build 3', 'iPhone 6', datetime.datetime(2017, 1, 8, 0, 0), '89a190e2-6b78-46b5-b469-27d231bbf123', 'NA', 'NA', datetime.datetime(2017, 1, 7, 3, 7, 38), 'NA', 'NA', '14338642')\n",
      "HELLO\n",
      "14338687 ('616717_634', 'cbcb16ad-8f63-4126-b16d-5518ca3e1af2', 'version 2.0.0, build 3', 'iPhone 6', datetime.datetime(2017, 1, 8, 0, 0), '89a190e2-6b78-46b5-b469-27d231bbf123', 'NA', 'NA', datetime.datetime(2017, 1, 7, 3, 3, 38), 'NA', 'NA', '14338687')\n",
      "HELLO\n",
      "14338727 ('616736_634', '4d184230-20fe-4ef8-bc5e-fa889a8443e5', 'version 2.0.0, build 3', 'iPhone 6', datetime.datetime(2017, 1, 8, 0, 0), '89a190e2-6b78-46b5-b469-27d231bbf123', 'NA', 'NA', datetime.datetime(2017, 1, 7, 3, 14, 18), 'NA', 'NA', '14338727')\n",
      "HELLO\n"
     ]
    },
    {
     "name": "stderr",
     "output_type": "stream",
     "text": [
      "/opt/rh/python27/root/usr/lib64/python2.7/site-packages/numpy/lib/npyio.py:1641: ConversionWarning: Some errors were detected !\n",
      "    Line #71 (got 1 columns instead of 7)\n",
      "    Line #84 (got 1 columns instead of 7)\n",
      "    Line #87 (got 1 columns instead of 7)\n",
      "    Line #90 (got 1 columns instead of 7)\n",
      "    Line #94 (got 1 columns instead of 7)\n",
      "    Line #129 (got 1 columns instead of 7)\n",
      "    Line #196 (got 1 columns instead of 7)\n",
      "    Line #287 (got 1 columns instead of 7)\n",
      "    Line #292 (got 1 columns instead of 7)\n",
      "    Line #367 (got 1 columns instead of 7)\n",
      "  warnings.warn(errmsg, ConversionWarning)\n"
     ]
    },
    {
     "name": "stdout",
     "output_type": "stream",
     "text": [
      "14338821 ('616786_634', 'e929cd55-8f7f-4869-bce3-09bf56832824', 'version 2.0.0, build 3', 'iPhone 6', datetime.datetime(2017, 1, 8, 0, 0), '89a190e2-6b78-46b5-b469-27d231bbf123', 'NA', 'NA', datetime.datetime(2017, 1, 7, 3, 8, 43), 'NA', 'NA', '14338821')\n",
      "HELLO\n",
      "14338837 ('616795_634', 'd7488450-a48b-43f8-8035-9f626813c6c1', 'version 2.0.0, build 3', 'iPhone 6', datetime.datetime(2017, 1, 8, 0, 0), '89a190e2-6b78-46b5-b469-27d231bbf123', 'NA', 'NA', datetime.datetime(2017, 1, 7, 3, 3, 29), 'NA', 'NA', '14338837')\n",
      "HELLO\n"
     ]
    },
    {
     "name": "stderr",
     "output_type": "stream",
     "text": [
      "/opt/rh/python27/root/usr/lib64/python2.7/site-packages/numpy/lib/npyio.py:1641: ConversionWarning: Some errors were detected !\n",
      "    Line #24 (got 1 columns instead of 7)\n",
      "    Line #60 (got 1 columns instead of 7)\n",
      "    Line #150 (got 1 columns instead of 7)\n",
      "    Line #199 (got 1 columns instead of 7)\n",
      "    Line #243 (got 1 columns instead of 7)\n",
      "  warnings.warn(errmsg, ConversionWarning)\n",
      "/opt/rh/python27/root/usr/lib64/python2.7/site-packages/numpy/lib/npyio.py:1641: ConversionWarning: Some errors were detected !\n",
      "    Line #34 (got 1 columns instead of 7)\n",
      "  warnings.warn(errmsg, ConversionWarning)\n"
     ]
    },
    {
     "name": "stdout",
     "output_type": "stream",
     "text": [
      "14338866 ('616808_634', 'a27eca7c-2829-4d80-b379-368791d841d5', 'version 2.0.0, build 3', 'iPhone 6', datetime.datetime(2017, 1, 8, 0, 0), '89a190e2-6b78-46b5-b469-27d231bbf123', 'NA', 'NA', datetime.datetime(2017, 1, 7, 3, 3, 24), 'NA', 'NA', '14338866')\n",
      "HELLO\n",
      "14338883 ('616821_634', '093bb143-d797-4bfe-aa78-ceaabb83b86e', 'version 2.0.0, build 3', 'iPhone 6', datetime.datetime(2017, 1, 8, 0, 0), '89a190e2-6b78-46b5-b469-27d231bbf123', 'NA', 'NA', datetime.datetime(2017, 1, 7, 3, 2, 35), 'NA', 'NA', '14338883')\n",
      "HELLO\n"
     ]
    },
    {
     "name": "stderr",
     "output_type": "stream",
     "text": [
      "/opt/rh/python27/root/usr/lib64/python2.7/site-packages/numpy/lib/npyio.py:1641: ConversionWarning: Some errors were detected !\n",
      "    Line #94 (got 1 columns instead of 7)\n",
      "    Line #135 (got 1 columns instead of 7)\n",
      "    Line #149 (got 1 columns instead of 7)\n",
      "    Line #163 (got 1 columns instead of 7)\n",
      "    Line #169 (got 1 columns instead of 7)\n",
      "    Line #206 (got 1 columns instead of 7)\n",
      "    Line #240 (got 1 columns instead of 7)\n",
      "  warnings.warn(errmsg, ConversionWarning)\n"
     ]
    },
    {
     "name": "stdout",
     "output_type": "stream",
     "text": [
      "14338941 ('616857_634', '9f6fb82f-94d7-4c18-859a-ee2567a2b75b', 'version 2.0.0, build 3', 'iPhone 6', datetime.datetime(2017, 1, 8, 0, 0), '89a190e2-6b78-46b5-b469-27d231bbf123', 'NA', 'NA', datetime.datetime(2017, 1, 7, 3, 7, 12), 'NA', 'NA', '14338941')\n",
      "HELLO\n",
      "14338958 ('616869_634', '9b67e3d2-5dd7-49ec-af02-fca006aa1c12', 'version 2.0.0, build 3', 'iPhone 6', datetime.datetime(2017, 1, 8, 0, 0), '89a190e2-6b78-46b5-b469-27d231bbf123', 'NA', 'NA', datetime.datetime(2017, 1, 7, 3, 9, 17), 'NA', 'NA', '14338958')\n",
      "HELLO\n",
      "14338969 ('616876_634', '66f00a6e-edb7-405b-a13e-07301d490c67', 'version 2.0.0, build 3', 'iPhone 6', datetime.datetime(2017, 1, 8, 0, 0), '89a190e2-6b78-46b5-b469-27d231bbf123', 'NA', 'NA', datetime.datetime(2017, 1, 7, 3, 7, 28), 'NA', 'NA', '14338969')\n",
      "HELLO\n",
      "14338971 ('616878_634', 'd76cbaaa-38fd-4a4b-8d1c-e22defc115b7', 'version 2.0.0, build 3', 'iPhone 6', datetime.datetime(2017, 1, 8, 0, 0), '89a190e2-6b78-46b5-b469-27d231bbf123', 'NA', 'NA', datetime.datetime(2017, 1, 7, 3, 3, 34), 'NA', 'NA', '14338971')\n",
      "HELLO\n"
     ]
    },
    {
     "name": "stderr",
     "output_type": "stream",
     "text": [
      "/opt/rh/python27/root/usr/lib64/python2.7/site-packages/numpy/lib/npyio.py:1641: ConversionWarning: Some errors were detected !\n",
      "    Line #21 (got 1 columns instead of 7)\n",
      "    Line #26 (got 1 columns instead of 7)\n",
      "    Line #55 (got 1 columns instead of 7)\n",
      "    Line #87 (got 1 columns instead of 7)\n",
      "    Line #93 (got 1 columns instead of 7)\n",
      "    Line #168 (got 1 columns instead of 7)\n",
      "    Line #208 (got 1 columns instead of 7)\n",
      "    Line #232 (got 1 columns instead of 7)\n",
      "    Line #308 (got 1 columns instead of 7)\n",
      "    Line #381 (got 1 columns instead of 7)\n",
      "    Line #418 (got 1 columns instead of 7)\n",
      "  warnings.warn(errmsg, ConversionWarning)\n"
     ]
    },
    {
     "name": "stdout",
     "output_type": "stream",
     "text": [
      "14338991 ('616888_634', '761840b0-ed90-4bf6-bf68-fd6d79be91e8', 'version 2.0.0, build 3', 'iPhone 6', datetime.datetime(2017, 1, 8, 0, 0), '89a190e2-6b78-46b5-b469-27d231bbf123', 'NA', 'NA', datetime.datetime(2017, 1, 7, 3, 2, 31), 'NA', 'NA', '14338991')\n",
      "HELLO\n",
      "14339009 ('616895_634', '2cf0003d-19fc-4661-8ec8-3a3d3f25a2bb', 'version 2.0.0, build 3', 'iPhone 6', datetime.datetime(2017, 1, 8, 0, 0), '89a190e2-6b78-46b5-b469-27d231bbf123', 'NA', 'NA', datetime.datetime(2017, 1, 7, 3, 4, 8), 'NA', 'NA', '14339009')\n",
      "HELLO\n"
     ]
    },
    {
     "name": "stderr",
     "output_type": "stream",
     "text": [
      "/opt/rh/python27/root/usr/lib64/python2.7/site-packages/numpy/lib/npyio.py:1641: ConversionWarning: Some errors were detected !\n",
      "    Line #77 (got 1 columns instead of 7)\n",
      "    Line #263 (got 1 columns instead of 7)\n",
      "    Line #356 (got 1 columns instead of 7)\n",
      "  warnings.warn(errmsg, ConversionWarning)\n",
      "/opt/rh/python27/root/usr/lib64/python2.7/site-packages/numpy/lib/npyio.py:1641: ConversionWarning: Some errors were detected !\n",
      "    Line #9 (got 1 columns instead of 7)\n",
      "    Line #72 (got 1 columns instead of 7)\n",
      "  warnings.warn(errmsg, ConversionWarning)\n"
     ]
    },
    {
     "name": "stdout",
     "output_type": "stream",
     "text": [
      "14339020 ('616901_634', '2e121550-1795-4e72-b637-b1c5820a9a28', 'version 2.0.0, build 3', 'iPhone 6', datetime.datetime(2017, 1, 8, 0, 0), '89a190e2-6b78-46b5-b469-27d231bbf123', 'NA', 'NA', datetime.datetime(2017, 1, 7, 3, 4, 3), 'NA', 'NA', '14339020')\n",
      "HELLO\n",
      "14339064 ('616920_634', 'fd236f31-a93b-4fb4-8602-97244a3237cc', 'version 2.0.0, build 3', 'iPhone 6', datetime.datetime(2017, 1, 8, 0, 0), '89a190e2-6b78-46b5-b469-27d231bbf123', 'NA', 'NA', datetime.datetime(2017, 1, 7, 3, 3, 55), 'NA', 'NA', '14339064')\n",
      "HELLO\n"
     ]
    },
    {
     "name": "stderr",
     "output_type": "stream",
     "text": [
      "/opt/rh/python27/root/usr/lib64/python2.7/site-packages/numpy/lib/npyio.py:1641: ConversionWarning: Some errors were detected !\n",
      "    Line #22 (got 1 columns instead of 7)\n",
      "    Line #27 (got 1 columns instead of 7)\n",
      "  warnings.warn(errmsg, ConversionWarning)\n",
      "/opt/rh/python27/root/usr/lib64/python2.7/site-packages/numpy/lib/npyio.py:1641: ConversionWarning: Some errors were detected !\n",
      "    Line #5 (got 1 columns instead of 7)\n",
      "    Line #138 (got 1 columns instead of 7)\n",
      "    Line #301 (got 1 columns instead of 7)\n",
      "    Line #348 (got 1 columns instead of 7)\n",
      "  warnings.warn(errmsg, ConversionWarning)\n"
     ]
    },
    {
     "name": "stdout",
     "output_type": "stream",
     "text": [
      "14339071 ('616924_634', 'a5169e3b-da02-42ed-8924-80a14e2342a3', 'version 2.0.0, build 3', 'iPhone 6', datetime.datetime(2017, 1, 8, 0, 0), '89a190e2-6b78-46b5-b469-27d231bbf123', 'NA', 'NA', datetime.datetime(2017, 1, 7, 3, 3, 49), 'NA', 'NA', '14339071')\n",
      "HELLO\n",
      "14339091 ('616935_634', '8f97dfcb-3f93-4ab1-8f23-95b7abf1da84', 'version 2.0.0, build 3', 'iPhone 6', datetime.datetime(2017, 1, 8, 0, 0), '89a190e2-6b78-46b5-b469-27d231bbf123', 'NA', 'NA', datetime.datetime(2017, 1, 7, 3, 7, 10), 'NA', 'NA', '14339091')\n",
      "HELLO\n",
      "14339107 ('616943_634', '31180615-fb74-47ab-96a6-ad8cc11693ea', 'version 2.0.0, build 3', 'iPhone 6', datetime.datetime(2017, 1, 8, 0, 0), '89a190e2-6b78-46b5-b469-27d231bbf123', 'NA', 'NA', datetime.datetime(2017, 1, 7, 3, 13, 35), 'NA', 'NA', '14339107')\n",
      "HELLO\n",
      "14339129 ('616957_634', '0d9b80ac-dba4-45cb-98ba-2d391c3463fe', 'version 2.0.0, build 3', 'iPhone 6', datetime.datetime(2017, 1, 8, 0, 0), '89a190e2-6b78-46b5-b469-27d231bbf123', 'NA', 'NA', datetime.datetime(2017, 1, 7, 3, 14, 14), 'NA', 'NA', '14339129')\n",
      "HELLO\n",
      "14339147 ('616970_634', '53b3cdff-72a8-477d-b62b-1cac2431293e', 'version 2.0.0, build 3', 'iPhone 6', datetime.datetime(2017, 1, 8, 0, 0), '89a190e2-6b78-46b5-b469-27d231bbf123', 'NA', 'NA', datetime.datetime(2017, 1, 7, 3, 3, 35), 'NA', 'NA', '14339147')\n",
      "HELLO\n",
      "14339159 ('616978_634', 'fa30b993-7fdc-481e-b782-77cd8cb49e4c', 'version 2.0.0, build 3', 'iPhone 6', datetime.datetime(2017, 1, 8, 0, 0), '89a190e2-6b78-46b5-b469-27d231bbf123', 'NA', 'NA', datetime.datetime(2017, 1, 7, 3, 9, 23), 'NA', 'NA', '14339159')\n",
      "HELLO\n"
     ]
    },
    {
     "name": "stderr",
     "output_type": "stream",
     "text": [
      "/opt/rh/python27/root/usr/lib64/python2.7/site-packages/numpy/lib/npyio.py:1641: ConversionWarning: Some errors were detected !\n",
      "    Line #22 (got 1 columns instead of 7)\n",
      "    Line #313 (got 1 columns instead of 7)\n",
      "  warnings.warn(errmsg, ConversionWarning)\n"
     ]
    },
    {
     "name": "stdout",
     "output_type": "stream",
     "text": [
      "14339163 ('616982_634', 'b721ff81-30ff-42a2-ad24-9a69aa2b636e', 'version 2.0.0, build 3', 'iPhone 6', datetime.datetime(2017, 1, 8, 0, 0), '89a190e2-6b78-46b5-b469-27d231bbf123', 'NA', 'NA', datetime.datetime(2017, 1, 7, 3, 4, 9), 'NA', 'NA', '14339163')\n",
      "HELLO\n",
      "14339171 ('616986_634', '53a755f9-72d5-44ab-980d-40c3577c272c', 'version 2.0.0, build 3', 'iPhone 6', datetime.datetime(2017, 1, 8, 0, 0), '89a190e2-6b78-46b5-b469-27d231bbf123', 'NA', 'NA', datetime.datetime(2017, 1, 7, 3, 8, 38), 'NA', 'NA', '14339171')\n",
      "HELLO\n"
     ]
    },
    {
     "name": "stderr",
     "output_type": "stream",
     "text": [
      "/opt/rh/python27/root/usr/lib64/python2.7/site-packages/numpy/lib/npyio.py:1641: ConversionWarning: Some errors were detected !\n",
      "    Line #4 (got 1 columns instead of 7)\n",
      "    Line #149 (got 1 columns instead of 7)\n",
      "    Line #154 (got 1 columns instead of 7)\n",
      "    Line #300 (got 1 columns instead of 7)\n",
      "    Line #310 (got 1 columns instead of 7)\n",
      "    Line #337 (got 1 columns instead of 7)\n",
      "    Line #342 (got 1 columns instead of 7)\n",
      "    Line #348 (got 1 columns instead of 7)\n",
      "  warnings.warn(errmsg, ConversionWarning)\n"
     ]
    },
    {
     "name": "stdout",
     "output_type": "stream",
     "text": [
      "14339177 ('616989_634', '7cb350c0-fff3-4126-be16-7a330ddb6b8b', 'version 2.0.0, build 3', 'iPhone 6', datetime.datetime(2017, 1, 8, 0, 0), '89a190e2-6b78-46b5-b469-27d231bbf123', 'NA', 'NA', datetime.datetime(2017, 1, 7, 3, 8, 27), 'NA', 'NA', '14339177')\n",
      "HELLO\n",
      "14339178 ('616990_634', '69e21c80-4f2d-4a05-9713-38da93dd7f13', 'version 2.0.0, build 3', 'iPhone 6', datetime.datetime(2017, 1, 8, 0, 0), '89a190e2-6b78-46b5-b469-27d231bbf123', 'NA', 'NA', datetime.datetime(2017, 1, 7, 3, 7, 42), 'NA', 'NA', '14339178')\n",
      "HELLO\n",
      "14339181 ('616991_634', 'e70252cc-8497-4826-beb4-f0b7c8c362b8', 'version 2.0.0, build 3', 'iPhone 6', datetime.datetime(2017, 1, 8, 0, 0), '89a190e2-6b78-46b5-b469-27d231bbf123', 'NA', 'NA', datetime.datetime(2017, 1, 7, 3, 4, 11), 'NA', 'NA', '14339181')\n",
      "HELLO\n",
      "14339195 ('616999_634', '602384ab-a18b-4a6e-91c4-631b15580ed2', 'version 2.0.0, build 3', 'iPhone 6', datetime.datetime(2017, 1, 8, 0, 0), '89a190e2-6b78-46b5-b469-27d231bbf123', 'NA', 'NA', datetime.datetime(2017, 1, 7, 3, 8, 34), 'NA', 'NA', '14339195')\n",
      "HELLO\n"
     ]
    },
    {
     "name": "stderr",
     "output_type": "stream",
     "text": [
      "/opt/rh/python27/root/usr/lib64/python2.7/site-packages/numpy/lib/npyio.py:1641: ConversionWarning: Some errors were detected !\n",
      "    Line #223 (got 1 columns instead of 7)\n",
      "    Line #343 (got 1 columns instead of 7)\n",
      "    Line #348 (got 1 columns instead of 7)\n",
      "    Line #381 (got 1 columns instead of 7)\n",
      "  warnings.warn(errmsg, ConversionWarning)\n"
     ]
    },
    {
     "name": "stdout",
     "output_type": "stream",
     "text": [
      "14339197 ('617001_634', '47ccc953-b98e-4b7c-a792-4f867420643a', 'version 2.0.0, build 3', 'iPhone 6', datetime.datetime(2017, 1, 8, 0, 0), '89a190e2-6b78-46b5-b469-27d231bbf123', 'NA', 'NA', datetime.datetime(2017, 1, 7, 3, 8, 16), 'NA', 'NA', '14339197')\n",
      "HELLO\n",
      "14339208 ('617009_634', '771ad836-5d85-47a4-82cb-d9c0f627c332', 'version 2.0.0, build 3', 'iPhone 6', datetime.datetime(2017, 1, 8, 0, 0), '89a190e2-6b78-46b5-b469-27d231bbf123', 'NA', 'NA', datetime.datetime(2017, 1, 7, 3, 3, 4), 'NA', 'NA', '14339208')\n",
      "HELLO\n"
     ]
    },
    {
     "name": "stderr",
     "output_type": "stream",
     "text": [
      "/opt/rh/python27/root/usr/lib64/python2.7/site-packages/numpy/lib/npyio.py:1641: ConversionWarning: Some errors were detected !\n",
      "    Line #114 (got 1 columns instead of 7)\n",
      "    Line #193 (got 1 columns instead of 7)\n",
      "    Line #200 (got 1 columns instead of 7)\n",
      "    Line #207 (got 1 columns instead of 7)\n",
      "    Line #278 (got 1 columns instead of 7)\n",
      "    Line #286 (got 1 columns instead of 7)\n",
      "    Line #288 (got 1 columns instead of 7)\n",
      "    Line #290 (got 1 columns instead of 7)\n",
      "    Line #292 (got 1 columns instead of 7)\n",
      "    Line #312 (got 1 columns instead of 7)\n",
      "    Line #319 (got 1 columns instead of 7)\n",
      "    Line #321 (got 1 columns instead of 7)\n",
      "    Line #351 (got 1 columns instead of 7)\n",
      "    Line #358 (got 1 columns instead of 7)\n",
      "    Line #367 (got 1 columns instead of 7)\n",
      "    Line #392 (got 1 columns instead of 7)\n",
      "    Line #400 (got 1 columns instead of 7)\n",
      "    Line #414 (got 1 columns instead of 7)\n",
      "  warnings.warn(errmsg, ConversionWarning)\n"
     ]
    },
    {
     "name": "stdout",
     "output_type": "stream",
     "text": [
      "14339237 ('617026_634', '1712d9b9-af6a-405e-8d41-05255efb9e15', 'version 2.0.0, build 3', 'iPhone 6', datetime.datetime(2017, 1, 8, 0, 0), '89a190e2-6b78-46b5-b469-27d231bbf123', 'NA', 'NA', datetime.datetime(2017, 1, 7, 3, 2, 25), 'NA', 'NA', '14339237')\n",
      "HELLO\n",
      "14339266 ('617042_634', 'c187d1e7-c3bf-4937-8f9d-cdf9958dd982', 'version 2.0.0, build 3', 'iPhone 6', datetime.datetime(2017, 1, 8, 0, 0), '89a190e2-6b78-46b5-b469-27d231bbf123', 'NA', 'NA', datetime.datetime(2017, 1, 7, 3, 14, 27), 'NA', 'NA', '14339266')\n",
      "HELLO\n",
      "14339279 ('617051_634', 'c214f314-6425-4449-b510-b6ea14499796', 'version 2.0.0, build 3', 'iPhone 6', datetime.datetime(2017, 1, 8, 0, 0), '89a190e2-6b78-46b5-b469-27d231bbf123', 'NA', 'NA', datetime.datetime(2017, 1, 7, 3, 8, 36), 'NA', 'NA', '14339279')\n",
      "HELLO\n",
      "14339306 ('617064_634', '21f71865-5fe3-49a1-9886-dd0f25b26e15', 'version 2.0.0, build 3', 'iPhone 6', datetime.datetime(2017, 1, 8, 0, 0), '89a190e2-6b78-46b5-b469-27d231bbf123', 'NA', 'NA', datetime.datetime(2017, 1, 7, 3, 4, 26), 'NA', 'NA', '14339306')\n",
      "HELLO\n",
      "14339307 ('617065_634', '2d355ba5-e6dd-4720-9794-d2c42c3c0a58', 'version 2.0.0, build 3', 'iPhone 6', datetime.datetime(2017, 1, 8, 0, 0), '89a190e2-6b78-46b5-b469-27d231bbf123', 'NA', 'NA', datetime.datetime(2017, 1, 7, 3, 13, 53), 'NA', 'NA', '14339307')\n",
      "HELLO\n",
      "14339321 ('617074_634', 'e02eef2d-074a-4f8a-8188-0bd51562aa3f', 'version 2.0.0, build 3', 'iPhone 6', datetime.datetime(2017, 1, 8, 0, 0), '89a190e2-6b78-46b5-b469-27d231bbf123', 'NA', 'NA', datetime.datetime(2017, 1, 7, 3, 4, 16), 'NA', 'NA', '14339321')\n",
      "HELLO\n"
     ]
    },
    {
     "name": "stderr",
     "output_type": "stream",
     "text": [
      "/opt/rh/python27/root/usr/lib64/python2.7/site-packages/numpy/lib/npyio.py:1641: ConversionWarning: Some errors were detected !\n",
      "    Line #9 (got 1 columns instead of 7)\n",
      "    Line #39 (got 1 columns instead of 7)\n",
      "    Line #150 (got 1 columns instead of 7)\n",
      "    Line #301 (got 1 columns instead of 7)\n",
      "    Line #335 (got 1 columns instead of 7)\n",
      "    Line #367 (got 1 columns instead of 7)\n",
      "    Line #376 (got 1 columns instead of 7)\n",
      "    Line #400 (got 1 columns instead of 7)\n",
      "  warnings.warn(errmsg, ConversionWarning)\n"
     ]
    },
    {
     "name": "stdout",
     "output_type": "stream",
     "text": [
      "14339340 ('617087_634', '82cf02f5-2017-4d22-a410-e26825098305', 'version 2.0.0, build 3', 'iPhone 6', datetime.datetime(2017, 1, 8, 0, 0), '89a190e2-6b78-46b5-b469-27d231bbf123', 'NA', 'NA', datetime.datetime(2017, 1, 7, 3, 7, 24), 'NA', 'NA', '14339340')\n",
      "HELLO\n",
      "14339396 ('617115_634', '25e2e91a-f42a-4f75-aece-e0cb0be6c212', 'version 2.0.0, build 3', 'iPhone 6', datetime.datetime(2017, 1, 8, 0, 0), '89a190e2-6b78-46b5-b469-27d231bbf123', 'NA', 'NA', datetime.datetime(2017, 1, 7, 3, 9, 41), 'NA', 'NA', '14339396')\n",
      "HELLO\n",
      "14339430 ('617133_634', '54dc2116-9a04-4442-825f-2e3deaef0703', 'version 2.0.0, build 3', 'iPhone 6', datetime.datetime(2017, 1, 8, 0, 0), '89a190e2-6b78-46b5-b469-27d231bbf123', 'NA', 'NA', datetime.datetime(2017, 1, 7, 3, 8, 57), 'NA', 'NA', '14339430')\n",
      "HELLO\n",
      "14339448 ('617140_634', '62be1367-0d7c-4dcc-9921-bee4a3f6a101', 'version 2.0.0, build 3', 'iPhone 6', datetime.datetime(2017, 1, 8, 0, 0), '89a190e2-6b78-46b5-b469-27d231bbf123', 'NA', 'NA', datetime.datetime(2017, 1, 7, 3, 9, 5), 'NA', 'NA', '14339448')\n",
      "HELLO\n",
      "14339453 ('617144_634', '6260881b-8e0d-4bbb-a055-fa0661f270f8', 'version 2.0.0, build 3', 'iPhone 6', datetime.datetime(2017, 1, 8, 0, 0), '89a190e2-6b78-46b5-b469-27d231bbf123', 'NA', 'NA', datetime.datetime(2017, 1, 7, 3, 9, 3), 'NA', 'NA', '14339453')\n",
      "HELLO\n",
      "14339469 ('617149_634', 'e6f9aedb-8604-4add-8d0a-0ca954a2885f', 'version 2.0.0, build 3', 'iPhone 6', datetime.datetime(2017, 1, 8, 0, 0), '89a190e2-6b78-46b5-b469-27d231bbf123', 'NA', 'NA', datetime.datetime(2017, 1, 7, 3, 7, 44), 'NA', 'NA', '14339469')\n",
      "HELLO\n",
      "14339491 ('617163_634', '9aadce24-31ca-40ff-8892-2bb5bb938d3a', 'version 2.0.0, build 3', 'iPhone 6', datetime.datetime(2017, 1, 8, 0, 0), '89a190e2-6b78-46b5-b469-27d231bbf123', 'NA', 'NA', datetime.datetime(2017, 1, 7, 3, 4, 19), 'NA', 'NA', '14339491')\n",
      "HELLO\n",
      "14339499 ('617169_634', '8a59b381-7e30-44a3-a66b-37319dc68fab', 'version 2.0.0, build 3', 'iPhone 6', datetime.datetime(2017, 1, 8, 0, 0), '89a190e2-6b78-46b5-b469-27d231bbf123', 'NA', 'NA', datetime.datetime(2017, 1, 7, 3, 13, 45), 'NA', 'NA', '14339499')\n",
      "HELLO\n"
     ]
    },
    {
     "name": "stderr",
     "output_type": "stream",
     "text": [
      "/opt/rh/python27/root/usr/lib64/python2.7/site-packages/numpy/lib/npyio.py:1641: ConversionWarning: Some errors were detected !\n",
      "    Line #4 (got 1 columns instead of 7)\n",
      "    Line #10 (got 1 columns instead of 7)\n",
      "    Line #69 (got 1 columns instead of 7)\n",
      "    Line #81 (got 1 columns instead of 7)\n",
      "  warnings.warn(errmsg, ConversionWarning)\n"
     ]
    },
    {
     "name": "stdout",
     "output_type": "stream",
     "text": [
      "14339550 ('617189_634', 'e2c9f527-c187-434b-81db-b4c127e93f06', 'version 2.0.0, build 3', 'iPhone 6', datetime.datetime(2017, 1, 8, 0, 0), '89a190e2-6b78-46b5-b469-27d231bbf123', 'NA', 'NA', datetime.datetime(2017, 1, 7, 3, 2, 39), 'NA', 'NA', '14339550')\n",
      "HELLO\n",
      "14339573 ('617201_634', '42ac1cda-dcf5-41f5-bc5a-f735873a0fb4', 'version 2.0.0, build 3', 'iPhone 6', datetime.datetime(2017, 1, 8, 0, 0), '89a190e2-6b78-46b5-b469-27d231bbf123', 'NA', 'NA', datetime.datetime(2017, 1, 7, 3, 14, 22), 'NA', 'NA', '14339573')\n",
      "HELLO\n"
     ]
    },
    {
     "name": "stderr",
     "output_type": "stream",
     "text": [
      "/opt/rh/python27/root/usr/lib64/python2.7/site-packages/numpy/lib/npyio.py:1641: ConversionWarning: Some errors were detected !\n",
      "    Line #10 (got 1 columns instead of 7)\n",
      "    Line #82 (got 1 columns instead of 7)\n",
      "    Line #124 (got 1 columns instead of 7)\n",
      "    Line #135 (got 1 columns instead of 7)\n",
      "    Line #219 (got 1 columns instead of 7)\n",
      "  warnings.warn(errmsg, ConversionWarning)\n"
     ]
    },
    {
     "name": "stdout",
     "output_type": "stream",
     "text": [
      "14339593 ('617213_634', 'bf4af90e-f26a-4b22-a24e-1073fc4cd09f', 'version 2.0.0, build 3', 'iPhone 6', datetime.datetime(2017, 1, 8, 0, 0), '89a190e2-6b78-46b5-b469-27d231bbf123', 'NA', 'NA', datetime.datetime(2017, 1, 7, 3, 13, 59), 'NA', 'NA', '14339593')\n",
      "HELLO\n",
      "14339594 ('617214_634', '2200a1dc-62cb-4d77-ac82-d32369e52629', 'version 2.0.0, build 3', 'iPhone 6', datetime.datetime(2017, 1, 8, 0, 0), '89a190e2-6b78-46b5-b469-27d231bbf123', 'NA', 'NA', datetime.datetime(2017, 1, 7, 3, 8, 45), 'NA', 'NA', '14339594')\n",
      "HELLO\n",
      "14339610 ('617225_634', 'd954876e-7266-469f-8136-f9e1a83e2335', 'version 2.0.0, build 3', 'iPhone 6', datetime.datetime(2017, 1, 8, 0, 0), '89a190e2-6b78-46b5-b469-27d231bbf123', 'NA', 'NA', datetime.datetime(2017, 1, 7, 3, 3, 27), 'NA', 'NA', '14339610')\n",
      "HELLO\n",
      "14339698 ('617267_634', 'a7da2795-0211-444d-a549-7af9270f960a', 'version 2.0.0, build 3', 'iPhone 6', datetime.datetime(2017, 1, 8, 0, 0), '89a190e2-6b78-46b5-b469-27d231bbf123', 'NA', 'NA', datetime.datetime(2017, 1, 7, 3, 2, 46), 'NA', 'NA', '14339698')\n",
      "HELLO\n"
     ]
    },
    {
     "name": "stderr",
     "output_type": "stream",
     "text": [
      "/opt/rh/python27/root/usr/lib64/python2.7/site-packages/numpy/lib/npyio.py:1641: ConversionWarning: Some errors were detected !\n",
      "    Line #37 (got 1 columns instead of 7)\n",
      "    Line #42 (got 1 columns instead of 7)\n",
      "    Line #68 (got 1 columns instead of 7)\n",
      "    Line #321 (got 1 columns instead of 7)\n",
      "    Line #400 (got 1 columns instead of 7)\n",
      "    Line #405 (got 1 columns instead of 7)\n",
      "    Line #409 (got 1 columns instead of 7)\n",
      "  warnings.warn(errmsg, ConversionWarning)\n",
      "/opt/rh/python27/root/usr/lib64/python2.7/site-packages/numpy/lib/npyio.py:1641: ConversionWarning: Some errors were detected !\n",
      "    Line #7 (got 1 columns instead of 7)\n",
      "    Line #281 (got 1 columns instead of 7)\n",
      "    Line #284 (got 1 columns instead of 7)\n",
      "    Line #330 (got 1 columns instead of 7)\n",
      "    Line #337 (got 1 columns instead of 7)\n",
      "    Line #351 (got 1 columns instead of 7)\n",
      "    Line #378 (got 1 columns instead of 7)\n",
      "    Line #391 (got 1 columns instead of 7)\n",
      "    Line #416 (got 1 columns instead of 7)\n",
      "  warnings.warn(errmsg, ConversionWarning)\n"
     ]
    },
    {
     "name": "stdout",
     "output_type": "stream",
     "text": [
      "14339727 ('617280_634', 'f88da8c1-5b6b-44c2-9a00-602c16979e09', 'version 2.0.0, build 3', 'iPhone 6', datetime.datetime(2017, 1, 8, 0, 0), '89a190e2-6b78-46b5-b469-27d231bbf123', 'NA', 'NA', datetime.datetime(2017, 1, 7, 3, 3, 22), 'NA', 'NA', '14339727')\n",
      "HELLO\n",
      "14339764 ('617300_634', 'a4463c1d-2d28-4fa0-a61b-705aa9172757', 'version 2.0.0, build 3', 'iPhone 6', datetime.datetime(2017, 1, 8, 0, 0), '89a190e2-6b78-46b5-b469-27d231bbf123', 'NA', 'NA', datetime.datetime(2017, 1, 7, 3, 13, 39), 'NA', 'NA', '14339764')\n",
      "HELLO\n"
     ]
    },
    {
     "name": "stderr",
     "output_type": "stream",
     "text": [
      "/opt/rh/python27/root/usr/lib64/python2.7/site-packages/numpy/lib/npyio.py:1641: ConversionWarning: Some errors were detected !\n",
      "    Line #69 (got 1 columns instead of 7)\n",
      "    Line #110 (got 1 columns instead of 7)\n",
      "    Line #116 (got 1 columns instead of 7)\n",
      "    Line #128 (got 1 columns instead of 7)\n",
      "    Line #140 (got 1 columns instead of 7)\n",
      "    Line #215 (got 1 columns instead of 7)\n",
      "    Line #309 (got 1 columns instead of 7)\n",
      "  warnings.warn(errmsg, ConversionWarning)\n"
     ]
    },
    {
     "name": "stdout",
     "output_type": "stream",
     "text": [
      "14339778 ('617308_634', 'd4922695-47b0-4780-9808-e8c5627ed67e', 'version 2.0.0, build 3', 'iPhone 6', datetime.datetime(2017, 1, 8, 0, 0), '89a190e2-6b78-46b5-b469-27d231bbf123', 'NA', 'NA', datetime.datetime(2017, 1, 7, 3, 13, 33), 'NA', 'NA', '14339778')\n",
      "HELLO\n",
      "14339794 ('617316_634', 'e8df1567-e6a6-465c-b58e-75a520ffdd76', 'version 2.0.0, build 3', 'iPhone 6', datetime.datetime(2017, 1, 8, 0, 0), '89a190e2-6b78-46b5-b469-27d231bbf123', 'NA', 'NA', datetime.datetime(2017, 1, 7, 3, 8, 7), 'NA', 'NA', '14339794')\n",
      "HELLO\n",
      "14339801 ('617322_634', '1d3e4ce9-1288-43cc-a221-5b4db247fe6e', 'version 2.0.0, build 3', 'iPhone 6', datetime.datetime(2017, 1, 8, 0, 0), '89a190e2-6b78-46b5-b469-27d231bbf123', 'NA', 'NA', datetime.datetime(2017, 1, 7, 3, 7, 46), 'NA', 'NA', '14339801')\n",
      "HELLO\n",
      "14339847 ('617346_634', '0eeb2da7-8cdf-4bfd-9122-162dbb90b440', 'version 2.0.0, build 3', 'iPhone 6', datetime.datetime(2017, 1, 8, 0, 0), '89a190e2-6b78-46b5-b469-27d231bbf123', 'NA', 'NA', datetime.datetime(2017, 1, 7, 3, 4, 18), 'NA', 'NA', '14339847')\n",
      "HELLO\n"
     ]
    },
    {
     "name": "stderr",
     "output_type": "stream",
     "text": [
      "/opt/rh/python27/root/usr/lib64/python2.7/site-packages/numpy/lib/npyio.py:1641: ConversionWarning: Some errors were detected !\n",
      "    Line #68 (got 1 columns instead of 7)\n",
      "    Line #128 (got 1 columns instead of 7)\n",
      "    Line #142 (got 1 columns instead of 7)\n",
      "    Line #246 (got 1 columns instead of 7)\n",
      "    Line #298 (got 1 columns instead of 7)\n",
      "    Line #302 (got 1 columns instead of 7)\n",
      "    Line #342 (got 1 columns instead of 7)\n",
      "    Line #394 (got 1 columns instead of 7)\n",
      "  warnings.warn(errmsg, ConversionWarning)\n"
     ]
    },
    {
     "name": "stdout",
     "output_type": "stream",
     "text": [
      "14339886 ('617363_634', 'e222292e-0063-480b-8177-9964abb149c1', 'version 2.0.0, build 3', 'iPhone 6', datetime.datetime(2017, 1, 8, 0, 0), '89a190e2-6b78-46b5-b469-27d231bbf123', 'NA', 'NA', datetime.datetime(2017, 1, 7, 3, 13, 43), 'NA', 'NA', '14339886')\n",
      "HELLO\n",
      "14339910 ('617378_634', '3e87ee4a-b0c7-49c3-bc70-e5befd11d5bb', 'version 2.0.0, build 3', 'iPhone 6', datetime.datetime(2017, 1, 8, 0, 0), '89a190e2-6b78-46b5-b469-27d231bbf123', 'NA', 'NA', datetime.datetime(2017, 1, 7, 3, 8, 55), 'NA', 'NA', '14339910')\n",
      "HELLO\n",
      "14339944 ('617389_634', 'c16c76a9-ad7a-40f9-b2de-0dd0dd01a30e', 'version 2.0.0, build 3', 'iPhone 6', datetime.datetime(2017, 1, 8, 0, 0), '89a190e2-6b78-46b5-b469-27d231bbf123', 'NA', 'NA', datetime.datetime(2017, 1, 7, 3, 13, 55), 'NA', 'NA', '14339944')\n",
      "HELLO\n",
      "14339956 ('617396_634', '69912509-1b1e-406b-94fa-5c07ee3f0be7', 'version 2.0.0, build 3', 'iPhone 6', datetime.datetime(2017, 1, 8, 0, 0), '89a190e2-6b78-46b5-b469-27d231bbf123', 'NA', 'NA', datetime.datetime(2017, 1, 7, 3, 8, 14), 'NA', 'NA', '14339956')\n",
      "HELLO\n",
      "14339997 ('617414_634', '56b25afb-d954-4f08-aa53-8c929dc48e90', 'version 2.0.0, build 3', 'iPhone 6', datetime.datetime(2017, 1, 8, 0, 0), '89a190e2-6b78-46b5-b469-27d231bbf123', 'NA', 'NA', datetime.datetime(2017, 1, 7, 3, 3, 12), 'NA', 'NA', '14339997')\n",
      "HELLO\n",
      "14340072 ('617460_634', 'd50187fe-a3d0-42a0-acaa-644b55bf51ce', 'version 2.0.0, build 3', 'iPhone 6', datetime.datetime(2017, 1, 8, 0, 0), '89a190e2-6b78-46b5-b469-27d231bbf123', 'NA', 'NA', datetime.datetime(2017, 1, 7, 3, 9, 27), 'NA', 'NA', '14340072')\n",
      "HELLO\n"
     ]
    },
    {
     "name": "stderr",
     "output_type": "stream",
     "text": [
      "/opt/rh/python27/root/usr/lib64/python2.7/site-packages/numpy/lib/npyio.py:1641: ConversionWarning: Some errors were detected !\n",
      "    Line #78 (got 1 columns instead of 7)\n",
      "    Line #116 (got 1 columns instead of 7)\n",
      "    Line #158 (got 1 columns instead of 7)\n",
      "    Line #166 (got 1 columns instead of 7)\n",
      "    Line #194 (got 1 columns instead of 7)\n",
      "    Line #255 (got 1 columns instead of 7)\n",
      "    Line #274 (got 1 columns instead of 7)\n",
      "    Line #355 (got 1 columns instead of 7)\n",
      "    Line #405 (got 1 columns instead of 7)\n",
      "  warnings.warn(errmsg, ConversionWarning)\n"
     ]
    },
    {
     "name": "stdout",
     "output_type": "stream",
     "text": [
      "14340073 ('617461_634', '12a695a1-3ac3-45b5-9799-71f723257dfc', 'version 2.0.0, build 3', 'iPhone 6', datetime.datetime(2017, 1, 8, 0, 0), '89a190e2-6b78-46b5-b469-27d231bbf123', 'NA', 'NA', datetime.datetime(2017, 1, 7, 3, 3, 15), 'NA', 'NA', '14340073')\n",
      "HELLO\n",
      "14340083 ('617467_634', '385d072a-8a7a-4323-b6e1-e2585a9defd8', 'version 2.0.0, build 3', 'iPhone 6', datetime.datetime(2017, 1, 8, 0, 0), '89a190e2-6b78-46b5-b469-27d231bbf123', 'NA', 'NA', datetime.datetime(2017, 1, 7, 3, 14, 9), 'NA', 'NA', '14340083')\n",
      "HELLO\n"
     ]
    },
    {
     "name": "stderr",
     "output_type": "stream",
     "text": [
      "/opt/rh/python27/root/usr/lib64/python2.7/site-packages/numpy/lib/npyio.py:1641: ConversionWarning: Some errors were detected !\n",
      "    Line #10 (got 1 columns instead of 7)\n",
      "    Line #14 (got 1 columns instead of 7)\n",
      "    Line #17 (got 1 columns instead of 7)\n",
      "    Line #182 (got 1 columns instead of 7)\n",
      "    Line #214 (got 1 columns instead of 7)\n",
      "    Line #290 (got 1 columns instead of 7)\n",
      "    Line #329 (got 1 columns instead of 7)\n",
      "    Line #331 (got 1 columns instead of 7)\n",
      "  warnings.warn(errmsg, ConversionWarning)\n"
     ]
    },
    {
     "name": "stdout",
     "output_type": "stream",
     "text": [
      "14340124 ('617483_634', 'c85fc607-35f2-414b-ab3f-36e5fa8ad080', 'version 2.0.0, build 3', 'iPhone 6', datetime.datetime(2017, 1, 8, 0, 0), '89a190e2-6b78-46b5-b469-27d231bbf123', 'NA', 'NA', datetime.datetime(2017, 1, 7, 3, 3, 10), 'NA', 'NA', '14340124')\n",
      "HELLO\n",
      "14340141 ('617491_634', '9d2f8834-d36b-4b0d-a3a5-c447c788129a', 'version 2.0.0, build 3', 'iPhone 6', datetime.datetime(2017, 1, 8, 0, 0), '89a190e2-6b78-46b5-b469-27d231bbf123', 'NA', 'NA', datetime.datetime(2017, 1, 7, 3, 14, 3), 'NA', 'NA', '14340141')\n",
      "HELLO\n"
     ]
    },
    {
     "name": "stderr",
     "output_type": "stream",
     "text": [
      "/opt/rh/python27/root/usr/lib64/python2.7/site-packages/numpy/lib/npyio.py:1641: ConversionWarning: Some errors were detected !\n",
      "    Line #6 (got 1 columns instead of 7)\n",
      "    Line #30 (got 1 columns instead of 7)\n",
      "    Line #56 (got 1 columns instead of 7)\n",
      "    Line #60 (got 1 columns instead of 7)\n",
      "    Line #122 (got 1 columns instead of 7)\n",
      "    Line #140 (got 1 columns instead of 7)\n",
      "    Line #189 (got 1 columns instead of 7)\n",
      "    Line #191 (got 1 columns instead of 7)\n",
      "    Line #224 (got 1 columns instead of 7)\n",
      "    Line #227 (got 1 columns instead of 7)\n",
      "    Line #295 (got 1 columns instead of 7)\n",
      "    Line #369 (got 1 columns instead of 7)\n",
      "  warnings.warn(errmsg, ConversionWarning)\n"
     ]
    },
    {
     "name": "stdout",
     "output_type": "stream",
     "text": [
      "14340168 ('617500_634', '6b6cc668-c8ea-4055-b199-6e66e0fb7093', 'version 2.0.0, build 3', 'iPhone 6', datetime.datetime(2017, 1, 8, 0, 0), '89a190e2-6b78-46b5-b469-27d231bbf123', 'NA', 'NA', datetime.datetime(2017, 1, 7, 3, 3, 18), 'NA', 'NA', '14340168')\n",
      "HELLO\n",
      "14340187 ('617508_634', '96b063f5-5840-4529-a030-76844f381b0e', 'version 2.0.0, build 3', 'iPhone 6', datetime.datetime(2017, 1, 8, 0, 0), '89a190e2-6b78-46b5-b469-27d231bbf123', 'NA', 'NA', datetime.datetime(2017, 1, 7, 3, 8, 49), 'NA', 'NA', '14340187')\n",
      "HELLO\n"
     ]
    },
    {
     "name": "stderr",
     "output_type": "stream",
     "text": [
      "/opt/rh/python27/root/usr/lib64/python2.7/site-packages/numpy/lib/npyio.py:1641: ConversionWarning: Some errors were detected !\n",
      "    Line #94 (got 1 columns instead of 7)\n",
      "    Line #97 (got 1 columns instead of 7)\n",
      "    Line #310 (got 1 columns instead of 7)\n",
      "    Line #400 (got 1 columns instead of 7)\n",
      "  warnings.warn(errmsg, ConversionWarning)\n"
     ]
    },
    {
     "name": "stdout",
     "output_type": "stream",
     "text": [
      "14340225 ('617523_634', 'd6896050-c80c-4f6d-982b-857912743b05', 'version 2.0.0, build 3', 'iPhone 6', datetime.datetime(2017, 1, 8, 0, 0), '89a190e2-6b78-46b5-b469-27d231bbf123', 'NA', 'NA', datetime.datetime(2017, 1, 7, 3, 7, 51), 'NA', 'NA', '14340225')\n",
      "HELLO\n",
      "14340317 ('617558_634', '1550d070-0e90-419c-8955-e67b7172727d', 'version 2.0.0, build 3', 'iPhone 6', datetime.datetime(2017, 1, 8, 0, 0), '89a190e2-6b78-46b5-b469-27d231bbf123', 'NA', 'NA', datetime.datetime(2017, 1, 7, 3, 7, 5), 'NA', 'NA', '14340317')\n",
      "HELLO\n",
      "14340332 ('617566_634', 'd2a12d68-1328-42e9-9c90-d9fb818c6d71', 'version 2.0.0, build 3', 'iPhone 6', datetime.datetime(2017, 1, 8, 0, 0), '89a190e2-6b78-46b5-b469-27d231bbf123', 'NA', 'NA', datetime.datetime(2017, 1, 7, 3, 2, 32), 'NA', 'NA', '14340332')\n",
      "HELLO\n",
      "14340380 ('617592_634', 'd620091e-1e51-4362-b23a-61741b259ac9', 'version 2.0.0, build 3', 'iPhone 6', datetime.datetime(2017, 1, 8, 0, 0), '89a190e2-6b78-46b5-b469-27d231bbf123', 'NA', 'NA', datetime.datetime(2017, 1, 7, 3, 8, 29), 'NA', 'NA', '14340380')\n",
      "HELLO\n",
      "14340393 ('617599_634', '6425fd94-3eb2-48d3-9330-90a46b86d3a2', 'version 2.0.0, build 3', 'iPhone 6', datetime.datetime(2017, 1, 8, 0, 0), '89a190e2-6b78-46b5-b469-27d231bbf123', 'NA', 'NA', datetime.datetime(2017, 1, 7, 3, 3, 20), 'NA', 'NA', '14340393')\n",
      "HELLO\n"
     ]
    },
    {
     "name": "stderr",
     "output_type": "stream",
     "text": [
      "/opt/rh/python27/root/usr/lib64/python2.7/site-packages/numpy/lib/npyio.py:1641: ConversionWarning: Some errors were detected !\n",
      "    Line #62 (got 1 columns instead of 7)\n",
      "    Line #165 (got 1 columns instead of 7)\n",
      "    Line #235 (got 1 columns instead of 7)\n",
      "    Line #243 (got 1 columns instead of 7)\n",
      "    Line #360 (got 1 columns instead of 7)\n",
      "    Line #368 (got 1 columns instead of 7)\n",
      "    Line #374 (got 1 columns instead of 7)\n",
      "  warnings.warn(errmsg, ConversionWarning)\n",
      "/opt/rh/python27/root/usr/lib64/python2.7/site-packages/numpy/lib/npyio.py:1641: ConversionWarning: Some errors were detected !\n",
      "    Line #87 (got 1 columns instead of 7)\n",
      "    Line #109 (got 1 columns instead of 7)\n",
      "    Line #112 (got 1 columns instead of 7)\n",
      "    Line #122 (got 1 columns instead of 7)\n",
      "    Line #131 (got 1 columns instead of 7)\n",
      "    Line #134 (got 1 columns instead of 7)\n",
      "    Line #161 (got 1 columns instead of 7)\n",
      "    Line #175 (got 1 columns instead of 7)\n",
      "    Line #178 (got 1 columns instead of 7)\n",
      "    Line #234 (got 1 columns instead of 7)\n",
      "    Line #244 (got 1 columns instead of 7)\n",
      "    Line #254 (got 1 columns instead of 7)\n",
      "    Line #257 (got 1 columns instead of 7)\n",
      "    Line #280 (got 1 columns instead of 7)\n",
      "    Line #283 (got 1 columns instead of 7)\n",
      "    Line #316 (got 1 columns instead of 7)\n",
      "    Line #318 (got 1 columns instead of 7)\n",
      "    Line #323 (got 1 columns instead of 7)\n",
      "    Line #333 (got 1 columns instead of 7)\n",
      "    Line #346 (got 1 columns instead of 7)\n",
      "    Line #425 (got 1 columns instead of 7)\n",
      "  warnings.warn(errmsg, ConversionWarning)\n"
     ]
    },
    {
     "name": "stdout",
     "output_type": "stream",
     "text": [
      "14340404 ('617605_634', '86ada6b7-0ad6-4f0b-885b-8ca931249669', 'version 2.0.0, build 3', 'iPhone 6', datetime.datetime(2017, 1, 8, 0, 0), '89a190e2-6b78-46b5-b469-27d231bbf123', 'NA', 'NA', datetime.datetime(2017, 1, 7, 3, 3, 17), 'NA', 'NA', '14340404')\n",
      "HELLO\n",
      "14340428 ('617618_634', 'db98dad3-3802-4db3-853f-5e954e36a2d0', 'version 2.0.0, build 3', 'iPhone 6', datetime.datetime(2017, 1, 8, 0, 0), '89a190e2-6b78-46b5-b469-27d231bbf123', 'NA', 'NA', datetime.datetime(2017, 1, 7, 3, 9, 33), 'NA', 'NA', '14340428')\n",
      "HELLO\n",
      "14340459 ('617636_634', 'f611da9f-5ad9-432b-b7b8-5badd90b74b9', 'version 2.0.0, build 3', 'iPhone 6', datetime.datetime(2017, 1, 8, 0, 0), '89a190e2-6b78-46b5-b469-27d231bbf123', 'NA', 'NA', datetime.datetime(2017, 1, 7, 3, 9, 29), 'NA', 'NA', '14340459')\n",
      "HELLO\n",
      "14340478 ('617646_634', 'a22807ae-a93e-477d-9b2c-7db41ef7a6aa', 'version 2.0.0, build 3', 'iPhone 6', datetime.datetime(2017, 1, 8, 0, 0), '89a190e2-6b78-46b5-b469-27d231bbf123', 'NA', 'NA', datetime.datetime(2017, 1, 7, 3, 4, 14), 'NA', 'NA', '14340478')\n",
      "HELLO\n"
     ]
    },
    {
     "name": "stderr",
     "output_type": "stream",
     "text": [
      "/opt/rh/python27/root/usr/lib64/python2.7/site-packages/numpy/lib/npyio.py:1641: ConversionWarning: Some errors were detected !\n",
      "    Line #6 (got 1 columns instead of 7)\n",
      "    Line #8 (got 1 columns instead of 7)\n",
      "    Line #58 (got 1 columns instead of 7)\n",
      "    Line #109 (got 1 columns instead of 7)\n",
      "    Line #138 (got 1 columns instead of 7)\n",
      "    Line #228 (got 1 columns instead of 7)\n",
      "    Line #300 (got 1 columns instead of 7)\n",
      "    Line #337 (got 1 columns instead of 7)\n",
      "    Line #342 (got 1 columns instead of 7)\n",
      "  warnings.warn(errmsg, ConversionWarning)\n"
     ]
    },
    {
     "name": "stdout",
     "output_type": "stream",
     "text": [
      "14340484 ('617650_634', 'ac219cb9-bdd1-4796-a402-fc3a68e5d913', 'version 2.0.0, build 3', 'iPhone 6', datetime.datetime(2017, 1, 8, 0, 0), '89a190e2-6b78-46b5-b469-27d231bbf123', 'NA', 'NA', datetime.datetime(2017, 1, 7, 3, 9, 25), 'NA', 'NA', '14340484')\n",
      "HELLO\n",
      "14340486 ('617652_634', '6cf4ec79-9305-44fb-9ad5-2b9e7680bddc', 'version 2.0.0, build 3', 'iPhone 6', datetime.datetime(2017, 1, 8, 0, 0), '89a190e2-6b78-46b5-b469-27d231bbf123', 'NA', 'NA', datetime.datetime(2017, 1, 7, 3, 8, 3), 'NA', 'NA', '14340486')\n",
      "HELLO\n",
      "14340490 ('617656_634', 'a8051e1b-5cef-42ac-8a9d-af7d1493f85c', 'version 2.0.0, build 3', 'iPhone 6', datetime.datetime(2017, 1, 8, 0, 0), '89a190e2-6b78-46b5-b469-27d231bbf123', 'NA', 'NA', datetime.datetime(2017, 1, 7, 3, 9, 9), 'NA', 'NA', '14340490')\n",
      "HELLO\n",
      "14340520 ('617677_634', 'a4d03312-f2fa-4fed-ba51-8d0508b09dbe', 'version 2.0.0, build 3', 'iPhone 6', datetime.datetime(2017, 1, 8, 0, 0), '89a190e2-6b78-46b5-b469-27d231bbf123', 'NA', 'NA', datetime.datetime(2017, 1, 7, 3, 13, 51), 'NA', 'NA', '14340520')\n",
      "HELLO\n",
      "14340536 ('617686_634', '6cc1f7f1-25d2-47dc-bc1e-064629e95058', 'version 2.0.0, build 3', 'iPhone 6', datetime.datetime(2017, 1, 8, 0, 0), '89a190e2-6b78-46b5-b469-27d231bbf123', 'NA', 'NA', datetime.datetime(2017, 1, 7, 3, 3, 59), 'NA', 'NA', '14340536')\n",
      "HELLO\n",
      "14340542 ('617688_634', '30c17b45-cf01-42ea-a459-5b795b546da3', 'version 2.0.0, build 3', 'iPhone 6', datetime.datetime(2017, 1, 8, 0, 0), '89a190e2-6b78-46b5-b469-27d231bbf123', 'NA', 'NA', datetime.datetime(2017, 1, 7, 3, 13, 29), 'NA', 'NA', '14340542')\n",
      "HELLO\n"
     ]
    },
    {
     "name": "stderr",
     "output_type": "stream",
     "text": [
      "/opt/rh/python27/root/usr/lib64/python2.7/site-packages/numpy/lib/npyio.py:1641: ConversionWarning: Some errors were detected !\n",
      "    Line #38 (got 1 columns instead of 7)\n",
      "    Line #70 (got 1 columns instead of 7)\n",
      "    Line #77 (got 1 columns instead of 7)\n",
      "    Line #174 (got 1 columns instead of 7)\n",
      "    Line #176 (got 1 columns instead of 7)\n",
      "    Line #274 (got 1 columns instead of 7)\n",
      "    Line #284 (got 1 columns instead of 7)\n",
      "    Line #297 (got 1 columns instead of 7)\n",
      "    Line #329 (got 1 columns instead of 7)\n",
      "    Line #333 (got 1 columns instead of 7)\n",
      "    Line #395 (got 1 columns instead of 7)\n",
      "  warnings.warn(errmsg, ConversionWarning)\n"
     ]
    },
    {
     "name": "stdout",
     "output_type": "stream",
     "text": [
      "14340577 ('617704_634', 'c14ee4f4-0e5d-4fa4-9245-b4ac67bc4d1c', 'version 2.0.0, build 3', 'iPhone 6', datetime.datetime(2017, 1, 8, 0, 0), '89a190e2-6b78-46b5-b469-27d231bbf123', 'NA', 'NA', datetime.datetime(2017, 1, 7, 3, 9, 47), 'NA', 'NA', '14340577')\n",
      "HELLO\n",
      "14340578 ('617705_634', '0db59085-36ba-4563-8dab-9f6241e27e28', 'version 2.0.0, build 3', 'iPhone 6', datetime.datetime(2017, 1, 8, 0, 0), '89a190e2-6b78-46b5-b469-27d231bbf123', 'NA', 'NA', datetime.datetime(2017, 1, 7, 3, 13, 47), 'NA', 'NA', '14340578')\n",
      "HELLO\n",
      "14340618 ('617734_634', '67df5cd0-25b4-439d-9168-15258f06de8d', 'version 2.0.0, build 3', 'iPhone 6', datetime.datetime(2017, 1, 8, 0, 0), '89a190e2-6b78-46b5-b469-27d231bbf123', 'NA', 'NA', datetime.datetime(2017, 1, 7, 3, 3, 1), 'NA', 'NA', '14340618')\n",
      "HELLO\n",
      "14340693 ('617767_634', '6fbbff63-484d-48b0-9dc5-bddd48bf4c07', 'version 2.0.0, build 3', 'iPhone 6', datetime.datetime(2017, 1, 8, 0, 0), '89a190e2-6b78-46b5-b469-27d231bbf123', 'NA', 'NA', datetime.datetime(2017, 1, 7, 3, 4, 13), 'NA', 'NA', '14340693')\n",
      "HELLO\n"
     ]
    },
    {
     "name": "stderr",
     "output_type": "stream",
     "text": [
      "/opt/rh/python27/root/usr/lib64/python2.7/site-packages/numpy/lib/npyio.py:1641: ConversionWarning: Some errors were detected !\n",
      "    Line #103 (got 1 columns instead of 7)\n",
      "    Line #130 (got 1 columns instead of 7)\n",
      "    Line #151 (got 1 columns instead of 7)\n",
      "    Line #158 (got 1 columns instead of 7)\n",
      "    Line #313 (got 1 columns instead of 7)\n",
      "    Line #319 (got 1 columns instead of 7)\n",
      "    Line #396 (got 1 columns instead of 7)\n",
      "  warnings.warn(errmsg, ConversionWarning)\n",
      "/opt/rh/python27/root/usr/lib64/python2.7/site-packages/numpy/lib/npyio.py:1641: ConversionWarning: Some errors were detected !\n",
      "    Line #48 (got 1 columns instead of 7)\n",
      "    Line #135 (got 1 columns instead of 7)\n",
      "    Line #147 (got 1 columns instead of 7)\n",
      "    Line #293 (got 1 columns instead of 7)\n",
      "  warnings.warn(errmsg, ConversionWarning)\n"
     ]
    },
    {
     "name": "stdout",
     "output_type": "stream",
     "text": [
      "14340752 ('617796_634', 'd30d8293-7ee7-4ff7-8619-ac6ac4d347c2', 'version 2.0.0, build 3', 'iPhone 6', datetime.datetime(2017, 1, 8, 0, 0), '89a190e2-6b78-46b5-b469-27d231bbf123', 'NA', 'NA', datetime.datetime(2017, 1, 7, 3, 3, 46), 'NA', 'NA', '14340752')\n",
      "HELLO\n",
      "14340776 ('617813_634', 'a392356b-8a28-47da-9a4e-eced26c8c76e', 'version 2.0.0, build 3', 'iPhone 6', datetime.datetime(2017, 1, 8, 0, 0), '89a190e2-6b78-46b5-b469-27d231bbf123', 'NA', 'NA', datetime.datetime(2017, 1, 7, 3, 29, 54), 'NA', 'NA', '14340776')\n",
      "HELLO\n"
     ]
    },
    {
     "name": "stderr",
     "output_type": "stream",
     "text": [
      "/opt/rh/python27/root/usr/lib64/python2.7/site-packages/numpy/lib/npyio.py:1641: ConversionWarning: Some errors were detected !\n",
      "    Line #47 (got 1 columns instead of 7)\n",
      "    Line #214 (got 1 columns instead of 7)\n",
      "    Line #218 (got 1 columns instead of 7)\n",
      "    Line #292 (got 1 columns instead of 7)\n",
      "    Line #414 (got 1 columns instead of 7)\n",
      "  warnings.warn(errmsg, ConversionWarning)\n"
     ]
    },
    {
     "name": "stdout",
     "output_type": "stream",
     "text": [
      "14340810 ('617832_634', 'b942f06c-db0f-4fdf-80a1-c6d1c3a46414', 'version 2.0.0, build 3', 'iPhone 6', datetime.datetime(2017, 1, 8, 0, 0), '89a190e2-6b78-46b5-b469-27d231bbf123', 'NA', 'NA', datetime.datetime(2017, 1, 7, 3, 7, 22), 'NA', 'NA', '14340810')\n",
      "HELLO\n",
      "14340888 ('617876_634', '030da003-3b50-4ef0-bae0-3a9d558efe85', 'version 2.0.0, build 3', 'iPhone 6', datetime.datetime(2017, 1, 8, 0, 0), '89a190e2-6b78-46b5-b469-27d231bbf123', 'NA', 'NA', datetime.datetime(2017, 1, 7, 3, 7, 16), 'NA', 'NA', '14340888')\n",
      "HELLO\n",
      "14340917 ('617896_634', '5564b01b-38e0-4f56-ab09-23469272056b', 'version 2.0.0, build 3', 'iPhone 6', datetime.datetime(2017, 1, 8, 0, 0), '89a190e2-6b78-46b5-b469-27d231bbf123', 'NA', 'NA', datetime.datetime(2017, 1, 7, 3, 3, 32), 'NA', 'NA', '14340917')\n",
      "HELLO\n",
      "14340954 ('617920_634', '5219c331-4b27-4516-bdd4-2761db2e2b82', 'version 2.0.0, build 3', 'iPhone 6', datetime.datetime(2017, 1, 8, 0, 0), '89a190e2-6b78-46b5-b469-27d231bbf123', 'NA', 'NA', datetime.datetime(2017, 1, 7, 3, 7, 40), 'NA', 'NA', '14340954')\n",
      "HELLO\n"
     ]
    },
    {
     "name": "stderr",
     "output_type": "stream",
     "text": [
      "/opt/rh/python27/root/usr/lib64/python2.7/site-packages/numpy/lib/npyio.py:1641: ConversionWarning: Some errors were detected !\n",
      "    Line #136 (got 1 columns instead of 7)\n",
      "    Line #164 (got 1 columns instead of 7)\n",
      "    Line #171 (got 1 columns instead of 7)\n",
      "    Line #237 (got 1 columns instead of 7)\n",
      "    Line #280 (got 1 columns instead of 7)\n",
      "    Line #292 (got 1 columns instead of 7)\n",
      "    Line #353 (got 1 columns instead of 7)\n",
      "    Line #366 (got 1 columns instead of 7)\n",
      "    Line #397 (got 1 columns instead of 7)\n",
      "    Line #409 (got 1 columns instead of 7)\n",
      "    Line #416 (got 1 columns instead of 7)\n",
      "  warnings.warn(errmsg, ConversionWarning)\n"
     ]
    },
    {
     "name": "stdout",
     "output_type": "stream",
     "text": [
      "14340955 ('617921_634', '30885d09-16f9-4ce4-8ff9-8a09541bc6d1', 'version 2.0.0, build 3', 'iPhone 6', datetime.datetime(2017, 1, 8, 0, 0), '89a190e2-6b78-46b5-b469-27d231bbf123', 'NA', 'NA', datetime.datetime(2017, 1, 7, 3, 7, 6), 'NA', 'NA', '14340955')\n",
      "HELLO\n",
      "14340965 ('617925_634', '92e98445-0c3c-448d-bb63-1dcfdbd2573f', 'version 2.0.0, build 3', 'iPhone 6', datetime.datetime(2017, 1, 8, 0, 0), '89a190e2-6b78-46b5-b469-27d231bbf123', 'NA', 'NA', datetime.datetime(2017, 1, 7, 3, 3, 30), 'NA', 'NA', '14340965')\n",
      "HELLO\n"
     ]
    },
    {
     "name": "stderr",
     "output_type": "stream",
     "text": [
      "/opt/rh/python27/root/usr/lib64/python2.7/site-packages/numpy/lib/npyio.py:1641: ConversionWarning: Some errors were detected !\n",
      "    Line #4 (got 1 columns instead of 7)\n",
      "    Line #76 (got 1 columns instead of 7)\n",
      "    Line #99 (got 1 columns instead of 7)\n",
      "    Line #153 (got 1 columns instead of 7)\n",
      "    Line #176 (got 1 columns instead of 7)\n",
      "    Line #288 (got 1 columns instead of 7)\n",
      "    Line #311 (got 1 columns instead of 7)\n",
      "    Line #338 (got 1 columns instead of 7)\n",
      "  warnings.warn(errmsg, ConversionWarning)\n",
      "/opt/rh/python27/root/usr/lib64/python2.7/site-packages/numpy/lib/npyio.py:1641: ConversionWarning: Some errors were detected !\n",
      "    Line #36 (got 1 columns instead of 7)\n",
      "  warnings.warn(errmsg, ConversionWarning)\n"
     ]
    },
    {
     "name": "stdout",
     "output_type": "stream",
     "text": [
      "14341012 ('617957_634', '6b4a1f8b-c3c7-4f14-92c4-2fce7c505418', 'version 2.0.0, build 3', 'iPhone 6', datetime.datetime(2017, 1, 8, 0, 0), '89a190e2-6b78-46b5-b469-27d231bbf123', 'NA', 'NA', datetime.datetime(2017, 1, 7, 3, 3, 53), 'NA', 'NA', '14341012')\n",
      "HELLO\n",
      "14341110 ('618004_634', 'c5bb6211-89f8-4bb3-a974-287a1d628da0', 'version 2.0.0, build 3', 'iPhone 6', datetime.datetime(2017, 1, 8, 0, 0), '89a190e2-6b78-46b5-b469-27d231bbf123', 'NA', 'NA', datetime.datetime(2017, 1, 7, 3, 7, 55), 'NA', 'NA', '14341110')\n",
      "HELLO\n",
      "14341168 ('618043_634', '8887b753-e6b5-4d20-b40f-5de3014f63e9', 'version 2.0.0, build 3', 'iPhone 6', datetime.datetime(2017, 1, 8, 0, 0), '89a190e2-6b78-46b5-b469-27d231bbf123', 'NA', 'NA', datetime.datetime(2017, 1, 7, 3, 9, 31), 'NA', 'NA', '14341168')\n",
      "HELLO\n",
      "14341237 ('618093_634', 'd50ca2a7-f5ba-4739-9385-6a9662742d5a', 'version 2.0.0, build 3', 'iPhone 6', datetime.datetime(2017, 1, 8, 0, 0), '89a190e2-6b78-46b5-b469-27d231bbf123', 'NA', 'NA', datetime.datetime(2017, 1, 7, 3, 4, 6), 'NA', 'NA', '14341237')\n",
      "HELLO\n"
     ]
    },
    {
     "name": "stderr",
     "output_type": "stream",
     "text": [
      "/opt/rh/python27/root/usr/lib64/python2.7/site-packages/numpy/lib/npyio.py:1641: ConversionWarning: Some errors were detected !\n",
      "    Line #165 (got 1 columns instead of 7)\n",
      "    Line #207 (got 1 columns instead of 7)\n",
      "    Line #210 (got 1 columns instead of 7)\n",
      "    Line #384 (got 1 columns instead of 7)\n",
      "    Line #387 (got 1 columns instead of 7)\n",
      "  warnings.warn(errmsg, ConversionWarning)\n"
     ]
    },
    {
     "name": "stdout",
     "output_type": "stream",
     "text": [
      "14341370 ('618163_634', 'b1e781e1-8371-445f-825b-1f70ac7c92d3', 'version 2.0.0, build 3', 'iPhone 6', datetime.datetime(2017, 1, 8, 0, 0), '89a190e2-6b78-46b5-b469-27d231bbf123', 'NA', 'NA', datetime.datetime(2017, 1, 7, 3, 7, 59), 'NA', 'NA', '14341370')\n",
      "HELLO\n",
      "14341391 ('618174_634', '9ddc8659-1e03-4565-9678-0fe9bb13e7ed', 'version 2.0.0, build 3', 'iPhone 6', datetime.datetime(2017, 1, 8, 0, 0), '89a190e2-6b78-46b5-b469-27d231bbf123', 'NA', 'NA', datetime.datetime(2017, 1, 7, 3, 9, 11), 'NA', 'NA', '14341391')\n",
      "HELLO\n",
      "14341559 ('618278_634', '527e5112-a163-4d6c-b401-d42e10ad1e62', 'version 2.0.0, build 3', 'iPhone 6', datetime.datetime(2017, 1, 8, 0, 0), '89a190e2-6b78-46b5-b469-27d231bbf123', 'NA', 'NA', datetime.datetime(2017, 1, 7, 3, 8, 11), 'NA', 'NA', '14341559')\n",
      "HELLO\n",
      "14341595 ('618297_634', '5f5be1b5-4f5c-4d61-a553-d0833634b84d', 'version 2.0.0, build 3', 'iPhone 6', datetime.datetime(2017, 1, 8, 0, 0), '89a190e2-6b78-46b5-b469-27d231bbf123', 'NA', 'NA', datetime.datetime(2017, 1, 7, 3, 9, 39), 'NA', 'NA', '14341595')\n",
      "HELLO\n",
      "14341620 ('618307_634', '955b15ef-8cfb-463e-94b6-32cef6157e79', 'version 2.0.0, build 3', 'iPhone 6', datetime.datetime(2017, 1, 8, 0, 0), '89a190e2-6b78-46b5-b469-27d231bbf123', 'NA', 'NA', datetime.datetime(2017, 1, 7, 3, 7, 48), 'NA', 'NA', '14341620')\n",
      "HELLO\n",
      "14341700 ('618350_634', '5744b21a-85d6-4cf2-ace8-1cfcf2496875', 'version 2.0.0, build 3', 'iPhone 6', datetime.datetime(2017, 1, 8, 0, 0), '89a190e2-6b78-46b5-b469-27d231bbf123', 'NA', 'NA', datetime.datetime(2017, 1, 7, 3, 7, 8), 'NA', 'NA', '14341700')\n",
      "HELLO\n",
      "14341735 ('618365_634', '84fe69c1-19d8-4b2b-a585-48596c4f7b7e', 'version 2.0.0, build 3', 'iPhone 6', datetime.datetime(2017, 1, 8, 0, 0), '89a190e2-6b78-46b5-b469-27d231bbf123', 'NA', 'NA', datetime.datetime(2017, 1, 7, 15, 12, 46), 'NA', 'NA', '14341735')\n",
      "HELLO\n",
      "14341744 ('618370_634', '802ff0b7-9b02-415b-a693-39f5bb156c12', 'version 2.0.0, build 3', 'iPhone 6', datetime.datetime(2017, 1, 8, 0, 0), '89a190e2-6b78-46b5-b469-27d231bbf123', 'NA', 'NA', datetime.datetime(2017, 1, 7, 3, 7, 18), 'NA', 'NA', '14341744')\n",
      "HELLO\n"
     ]
    },
    {
     "name": "stderr",
     "output_type": "stream",
     "text": [
      "/opt/rh/python27/root/usr/lib64/python2.7/site-packages/numpy/lib/npyio.py:1641: ConversionWarning: Some errors were detected !\n",
      "    Line #118 (got 1 columns instead of 7)\n",
      "    Line #124 (got 1 columns instead of 7)\n",
      "    Line #130 (got 1 columns instead of 7)\n",
      "    Line #136 (got 1 columns instead of 7)\n",
      "    Line #140 (got 2 columns instead of 7)\n",
      "    Line #144 (got 2 columns instead of 7)\n",
      "    Line #155 (got 2 columns instead of 7)\n",
      "    Line #174 (got 1 columns instead of 7)\n",
      "    Line #193 (got 1 columns instead of 7)\n",
      "    Line #208 (got 1 columns instead of 7)\n",
      "  warnings.warn(errmsg, ConversionWarning)\n"
     ]
    },
    {
     "name": "stdout",
     "output_type": "stream",
     "text": [
      "14341801 ('618407_634', '5003732c-0ab1-4feb-896f-8f1731fc112f', 'version 2.0.0, build 3', 'iPhone 6', datetime.datetime(2017, 1, 8, 0, 0), '89a190e2-6b78-46b5-b469-27d231bbf123', 'NA', 'NA', datetime.datetime(2017, 1, 7, 3, 9, 13), 'NA', 'NA', '14341801')\n",
      "HELLO\n",
      "14341823 ('618423_634', 'c65fe3fd-63cc-401f-86a2-80f726217967', 'version 2.0.0, build 3', 'iPhone 6', datetime.datetime(2017, 1, 8, 0, 0), '89a190e2-6b78-46b5-b469-27d231bbf123', 'NA', 'NA', datetime.datetime(2017, 1, 7, 3, 9, 19), 'NA', 'NA', '14341823')\n",
      "HELLO\n",
      "14341848 ('618437_634', '0e76a88e-20b4-4267-9fba-9f2160323b79', 'version 2.0.0, build 3', 'iPhone 6', datetime.datetime(2017, 1, 8, 0, 0), '89a190e2-6b78-46b5-b469-27d231bbf123', 'NA', 'NA', datetime.datetime(2017, 1, 7, 3, 2, 43), 'NA', 'NA', '14341848')\n",
      "HELLO\n",
      "14341862 ('618443_634', 'd418e402-a306-442e-9e4f-1b4aeaec50b6', 'version 2.0.0, build 3', 'iPhone 6', datetime.datetime(2017, 1, 8, 0, 0), '89a190e2-6b78-46b5-b469-27d231bbf123', 'NA', 'NA', datetime.datetime(2017, 1, 7, 3, 8, 53), 'NA', 'NA', '14341862')\n",
      "HELLO\n"
     ]
    },
    {
     "name": "stderr",
     "output_type": "stream",
     "text": [
      "/opt/rh/python27/root/usr/lib64/python2.7/site-packages/numpy/lib/npyio.py:1641: ConversionWarning: Some errors were detected !\n",
      "    Line #7 (got 1 columns instead of 7)\n",
      "    Line #98 (got 1 columns instead of 7)\n",
      "    Line #125 (got 1 columns instead of 7)\n",
      "  warnings.warn(errmsg, ConversionWarning)\n"
     ]
    },
    {
     "name": "stdout",
     "output_type": "stream",
     "text": [
      "14341877 ('618453_634', '6112c14e-2e6b-4c49-97b4-cc3352b8b349', 'version 2.0.0, build 3', 'iPhone 6', datetime.datetime(2017, 1, 8, 0, 0), '89a190e2-6b78-46b5-b469-27d231bbf123', 'NA', 'NA', datetime.datetime(2017, 1, 7, 3, 7, 57), 'NA', 'NA', '14341877')\n",
      "HELLO\n",
      "14341884 ('618458_634', 'cdd679c2-c16b-419c-9ed7-1705f0a0bed2', 'version 2.0.0, build 3', 'iPhone 6', datetime.datetime(2017, 1, 8, 0, 0), '89a190e2-6b78-46b5-b469-27d231bbf123', 'NA', 'NA', datetime.datetime(2017, 1, 7, 3, 7, 14), 'NA', 'NA', '14341884')\n",
      "HELLO\n",
      "14341938 ('618487_634', '05cab3b2-4aff-4723-9c1f-aa136c02a4b5', 'version 2.0.0, build 3', 'iPhone 6', datetime.datetime(2017, 1, 8, 0, 0), '89a190e2-6b78-46b5-b469-27d231bbf123', 'NA', 'NA', datetime.datetime(2017, 1, 7, 3, 13, 37), 'NA', 'NA', '14341938')\n",
      "HELLO\n",
      "14342018 ('618526_634', '7f115d8c-9ccf-40ff-a7a6-f4d586bb88ab', 'version 2.0.0, build 3', 'iPhone 6', datetime.datetime(2017, 1, 8, 0, 0), '89a190e2-6b78-46b5-b469-27d231bbf123', 'NA', 'NA', datetime.datetime(2017, 1, 7, 3, 13, 31), 'NA', 'NA', '14342018')\n",
      "HELLO\n",
      "14342063 ('618546_634', '423cd6d8-80ae-4bf4-9b4b-975d7ad6d338', 'version 2.0.0, build 3', 'iPhone 6', datetime.datetime(2017, 1, 8, 0, 0), '89a190e2-6b78-46b5-b469-27d231bbf123', 'NA', 'NA', datetime.datetime(2017, 1, 7, 3, 14, 10), 'NA', 'NA', '14342063')\n",
      "HELLO\n",
      "14342088 ('618561_634', '8a7e3fca-1687-4295-a576-950c99089e23', 'version 2.0.0, build 3', 'iPhone 6', datetime.datetime(2017, 1, 8, 0, 0), '89a190e2-6b78-46b5-b469-27d231bbf123', 'NA', 'NA', datetime.datetime(2017, 1, 7, 3, 8, 25), 'NA', 'NA', '14342088')\n",
      "HELLO\n",
      "14342101 ('618571_634', '206bc6eb-6629-4549-84e5-06232a9dc90e', 'version 2.0.0, build 3', 'iPhone 6', datetime.datetime(2017, 1, 8, 0, 0), '89a190e2-6b78-46b5-b469-27d231bbf123', 'NA', 'NA', datetime.datetime(2017, 1, 7, 3, 14, 12), 'NA', 'NA', '14342101')\n",
      "HELLO\n",
      "14342149 ('618594_634', '07813e83-aba3-44ab-ac04-5625ce7369ee', 'version 2.0.0, build 3', 'iPhone 6', datetime.datetime(2017, 1, 8, 0, 0), '89a190e2-6b78-46b5-b469-27d231bbf123', 'NA', 'NA', datetime.datetime(2017, 1, 7, 3, 8, 59), 'NA', 'NA', '14342149')\n",
      "HELLO\n",
      "14342220 ('618617_634', '0281ae02-2340-4056-a652-03ced6a97c7e', 'version 2.0.0, build 3', 'iPhone 6', datetime.datetime(2017, 1, 8, 0, 0), '89a190e2-6b78-46b5-b469-27d231bbf123', 'NA', 'NA', datetime.datetime(2017, 1, 7, 3, 13, 41), 'NA', 'NA', '14342220')\n",
      "HELLO\n",
      "14342249 ('618633_634', 'ed937360-a8d5-46af-b469-fd6408226820', 'version 2.0.0, build 3', 'iPhone 6', datetime.datetime(2017, 1, 8, 0, 0), '89a190e2-6b78-46b5-b469-27d231bbf123', 'NA', 'NA', datetime.datetime(2017, 1, 7, 3, 7, 53), 'NA', 'NA', '14342249')\n",
      "HELLO\n",
      "14342256 ('618638_634', '31876010-4c93-4d59-b6d5-a1ad984bfaaa', 'version 2.0.0, build 3', 'iPhone 6', datetime.datetime(2017, 1, 8, 0, 0), '89a190e2-6b78-46b5-b469-27d231bbf123', 'NA', 'NA', datetime.datetime(2017, 1, 7, 3, 29, 45), 'NA', 'NA', '14342256')\n",
      "HELLO\n",
      "14342338 ('618678_634', '04de32d3-c9d4-4f5e-b863-834de95c3d91', 'version 2.0.0, build 3', 'iPhone 6', datetime.datetime(2017, 1, 8, 0, 0), '89a190e2-6b78-46b5-b469-27d231bbf123', 'NA', 'NA', datetime.datetime(2017, 1, 7, 3, 3, 42), 'NA', 'NA', '14342338')\n",
      "HELLO\n",
      "14342340 ('618679_634', 'c8ae4efa-7154-489a-8e87-c5a9077bfe0f', 'version 2.0.0, build 3', 'iPhone 6', datetime.datetime(2017, 1, 8, 0, 0), '89a190e2-6b78-46b5-b469-27d231bbf123', 'NA', 'NA', datetime.datetime(2017, 1, 7, 3, 3, 51), 'NA', 'NA', '14342340')\n",
      "HELLO\n"
     ]
    },
    {
     "name": "stderr",
     "output_type": "stream",
     "text": [
      "/opt/rh/python27/root/usr/lib64/python2.7/site-packages/numpy/lib/npyio.py:1641: ConversionWarning: Some errors were detected !\n",
      "    Line #9 (got 1 columns instead of 7)\n",
      "    Line #24 (got 1 columns instead of 7)\n",
      "    Line #37 (got 1 columns instead of 7)\n",
      "    Line #41 (got 1 columns instead of 7)\n",
      "    Line #43 (got 1 columns instead of 7)\n",
      "    Line #46 (got 1 columns instead of 7)\n",
      "    Line #48 (got 1 columns instead of 7)\n",
      "    Line #53 (got 1 columns instead of 7)\n",
      "    Line #80 (got 1 columns instead of 7)\n",
      "    Line #108 (got 1 columns instead of 7)\n",
      "    Line #179 (got 1 columns instead of 7)\n",
      "    Line #183 (got 1 columns instead of 7)\n",
      "    Line #188 (got 1 columns instead of 7)\n",
      "    Line #191 (got 1 columns instead of 7)\n",
      "    Line #193 (got 1 columns instead of 7)\n",
      "    Line #204 (got 1 columns instead of 7)\n",
      "    Line #223 (got 1 columns instead of 7)\n",
      "    Line #241 (got 1 columns instead of 7)\n",
      "    Line #273 (got 1 columns instead of 7)\n",
      "    Line #336 (got 1 columns instead of 7)\n",
      "  warnings.warn(errmsg, ConversionWarning)\n",
      "/opt/rh/python27/root/usr/lib64/python2.7/site-packages/numpy/lib/npyio.py:1641: ConversionWarning: Some errors were detected !\n",
      "    Line #281 (got 1 columns instead of 7)\n",
      "    Line #394 (got 1 columns instead of 7)\n",
      "    Line #396 (got 1 columns instead of 7)\n",
      "    Line #401 (got 1 columns instead of 7)\n",
      "  warnings.warn(errmsg, ConversionWarning)\n"
     ]
    },
    {
     "name": "stdout",
     "output_type": "stream",
     "text": [
      "14342361 ('618688_634', 'b454e076-0d10-4b03-9dc3-e2cd0d12c24a', 'version 2.0.0, build 3', 'iPhone 6', datetime.datetime(2017, 1, 8, 0, 0), '89a190e2-6b78-46b5-b469-27d231bbf123', 'NA', 'NA', datetime.datetime(2017, 1, 7, 3, 4, 32), 'NA', 'NA', '14342361')\n",
      "HELLO\n",
      "14342391 ('618709_634', '5bdd4997-8f48-4a7b-98b0-f312cab73e83', 'version 2.0.0, build 3', 'iPhone 6', datetime.datetime(2017, 1, 8, 0, 0), '89a190e2-6b78-46b5-b469-27d231bbf123', 'NA', 'NA', datetime.datetime(2017, 1, 7, 3, 2, 41), 'NA', 'NA', '14342391')\n",
      "HELLO\n"
     ]
    },
    {
     "name": "stderr",
     "output_type": "stream",
     "text": [
      "/opt/rh/python27/root/usr/lib64/python2.7/site-packages/numpy/lib/npyio.py:1641: ConversionWarning: Some errors were detected !\n",
      "    Line #137 (got 1 columns instead of 7)\n",
      "    Line #171 (got 1 columns instead of 7)\n",
      "    Line #404 (got 1 columns instead of 7)\n",
      "  warnings.warn(errmsg, ConversionWarning)\n"
     ]
    },
    {
     "name": "stdout",
     "output_type": "stream",
     "text": [
      "14342404 ('618719_634', '1963aacb-f064-4023-b924-4fd9d8697ac4', 'version 2.0.0, build 3', 'iPhone 6', datetime.datetime(2017, 1, 8, 0, 0), '89a190e2-6b78-46b5-b469-27d231bbf123', 'NA', 'NA', datetime.datetime(2017, 1, 7, 3, 7, 34), 'NA', 'NA', '14342404')\n",
      "HELLO\n",
      "14342408 ('618723_634', '7b67f487-848a-40bd-a30b-c4dd7a5642a2', 'version 2.0.0, build 3', 'iPhone 6', datetime.datetime(2017, 1, 8, 0, 0), '89a190e2-6b78-46b5-b469-27d231bbf123', 'NA', 'NA', datetime.datetime(2017, 1, 7, 3, 13, 49), 'NA', 'NA', '14342408')\n",
      "HELLO\n",
      "14342414 ('618727_634', '02cfb55f-b58e-4e56-a461-4d1fa5de1105', 'version 2.0.0, build 3', 'iPhone 6', datetime.datetime(2017, 1, 8, 0, 0), '89a190e2-6b78-46b5-b469-27d231bbf123', 'NA', 'NA', datetime.datetime(2017, 1, 7, 3, 13, 57), 'NA', 'NA', '14342414')\n",
      "HELLO\n",
      "14342434 ('618737_634', 'b4108218-d81d-495d-8feb-553a29f97cde', 'version 2.0.0, build 3', 'iPhone 6', datetime.datetime(2017, 1, 8, 0, 0), '89a190e2-6b78-46b5-b469-27d231bbf123', 'NA', 'NA', datetime.datetime(2017, 1, 7, 3, 4, 1), 'NA', 'NA', '14342434')\n",
      "HELLO\n"
     ]
    },
    {
     "name": "stderr",
     "output_type": "stream",
     "text": [
      "/opt/rh/python27/root/usr/lib64/python2.7/site-packages/numpy/lib/npyio.py:1641: ConversionWarning: Some errors were detected !\n",
      "    Line #5 (got 1 columns instead of 7)\n",
      "    Line #45 (got 1 columns instead of 7)\n",
      "    Line #144 (got 1 columns instead of 7)\n",
      "    Line #168 (got 1 columns instead of 7)\n",
      "    Line #173 (got 1 columns instead of 7)\n",
      "    Line #186 (got 1 columns instead of 7)\n",
      "    Line #253 (got 1 columns instead of 7)\n",
      "  warnings.warn(errmsg, ConversionWarning)\n"
     ]
    },
    {
     "name": "stdout",
     "output_type": "stream",
     "text": [
      "14342543 ('618795_634', '15f397ff-43ce-4386-a979-ea7a914a4f7e', 'version 2.0.0, build 3', 'iPhone 6', datetime.datetime(2017, 1, 8, 0, 0), '89a190e2-6b78-46b5-b469-27d231bbf123', 'NA', 'NA', datetime.datetime(2017, 1, 7, 3, 8, 1), 'NA', 'NA', '14342543')\n",
      "HELLO\n",
      "14342641 ('618842_634', '6b1f4285-2c65-42ee-9b7d-c1dd97c303e9', 'version 2.0.0, build 3', 'iPhone 6', datetime.datetime(2017, 1, 8, 0, 0), '89a190e2-6b78-46b5-b469-27d231bbf123', 'NA', 'NA', datetime.datetime(2017, 1, 7, 3, 9, 20), 'NA', 'NA', '14342641')\n",
      "HELLO\n",
      "14342658 ('618851_634', '6eef4743-c94b-4b29-9c5c-49519e7c6fa1', 'version 2.0.0, build 3', 'iPhone 6', datetime.datetime(2017, 1, 8, 0, 0), '89a190e2-6b78-46b5-b469-27d231bbf123', 'NA', 'NA', datetime.datetime(2017, 1, 7, 3, 7, 20), 'NA', 'NA', '14342658')\n",
      "HELLO\n",
      "14342762 ('618905_634', '8d24fd17-7bc5-4a5e-8978-a8d386c4d03e', 'version 2.0.0, build 3', 'iPhone 6', datetime.datetime(2017, 1, 8, 0, 0), '89a190e2-6b78-46b5-b469-27d231bbf123', 'NA', 'NA', datetime.datetime(2017, 1, 7, 3, 7, 26), 'NA', 'NA', '14342762')\n",
      "HELLO\n",
      "14342778 ('618909_634', '50405eed-d7fd-4349-90ee-42a137a2106a', 'version 2.0.0, build 3', 'iPhone 6', datetime.datetime(2017, 1, 8, 0, 0), '89a190e2-6b78-46b5-b469-27d231bbf123', 'NA', 'NA', datetime.datetime(2017, 1, 7, 3, 2, 52), 'NA', 'NA', '14342778')\n",
      "HELLO\n",
      "14342853 ('618962_634', 'd3a698b2-c86b-4fe2-b5d6-bf26ae621c29', 'version 2.0.0, build 3', 'iPhone 6', datetime.datetime(2017, 1, 8, 0, 0), '89a190e2-6b78-46b5-b469-27d231bbf123', 'NA', 'NA', datetime.datetime(2017, 1, 7, 3, 4, 21), 'NA', 'NA', '14342853')\n",
      "HELLO\n"
     ]
    },
    {
     "name": "stderr",
     "output_type": "stream",
     "text": [
      "/opt/rh/python27/root/usr/lib64/python2.7/site-packages/numpy/lib/npyio.py:1641: ConversionWarning: Some errors were detected !\n",
      "    Line #29 (got 1 columns instead of 7)\n",
      "    Line #37 (got 1 columns instead of 7)\n",
      "    Line #72 (got 1 columns instead of 7)\n",
      "    Line #76 (got 1 columns instead of 7)\n",
      "    Line #82 (got 1 columns instead of 7)\n",
      "    Line #93 (got 1 columns instead of 7)\n",
      "    Line #102 (got 1 columns instead of 7)\n",
      "    Line #115 (got 1 columns instead of 7)\n",
      "    Line #126 (got 1 columns instead of 7)\n",
      "    Line #128 (got 1 columns instead of 7)\n",
      "    Line #159 (got 1 columns instead of 7)\n",
      "    Line #174 (got 1 columns instead of 7)\n",
      "    Line #177 (got 1 columns instead of 7)\n",
      "    Line #202 (got 1 columns instead of 7)\n",
      "    Line #206 (got 1 columns instead of 7)\n",
      "    Line #237 (got 1 columns instead of 7)\n",
      "    Line #312 (got 1 columns instead of 7)\n",
      "    Line #314 (got 1 columns instead of 7)\n",
      "    Line #324 (got 13 columns instead of 7)\n",
      "    Line #330 (got 1 columns instead of 7)\n",
      "    Line #344 (got 1 columns instead of 7)\n",
      "    Line #361 (got 1 columns instead of 7)\n",
      "    Line #368 (got 1 columns instead of 7)\n",
      "    Line #399 (got 1 columns instead of 7)\n",
      "  warnings.warn(errmsg, ConversionWarning)\n",
      "/opt/rh/python27/root/usr/lib64/python2.7/site-packages/numpy/lib/npyio.py:1641: ConversionWarning: Some errors were detected !\n",
      "    Line #215 (got 1 columns instead of 7)\n",
      "    Line #255 (got 1 columns instead of 7)\n",
      "    Line #270 (got 1 columns instead of 7)\n",
      "    Line #306 (got 1 columns instead of 7)\n",
      "    Line #317 (got 1 columns instead of 7)\n",
      "    Line #320 (got 1 columns instead of 7)\n",
      "    Line #342 (got 1 columns instead of 7)\n",
      "    Line #352 (got 1 columns instead of 7)\n",
      "    Line #417 (got 1 columns instead of 7)\n",
      "  warnings.warn(errmsg, ConversionWarning)\n"
     ]
    },
    {
     "name": "stdout",
     "output_type": "stream",
     "text": [
      "14348685 ('620877_635', 'ea1ede30-83d0-4fe6-8904-cc1a4117473f', 'version 2.0.0, build 3', 'iPhone 6', datetime.datetime(2017, 1, 9, 0, 0), '89a190e2-6b78-46b5-b469-27d231bbf123', 'NA', 'NA', datetime.datetime(2017, 1, 8, 2, 22, 11), 'NA', 'NA', '14348685')\n",
      "HELLO\n",
      "14387103 ('629645_640', '61219883-ba87-4cc8-9143-c1040428bd89', 'version 2.0.0, build 3', 'iPhone 6', datetime.datetime(2017, 1, 14, 0, 0), '89a190e2-6b78-46b5-b469-27d231bbf123', 'NA', 'NA', datetime.datetime(2017, 1, 13, 16, 14, 34), 'NA', 'NA', '14387103')\n",
      "HELLO\n"
     ]
    },
    {
     "name": "stderr",
     "output_type": "stream",
     "text": [
      "/opt/rh/python27/root/usr/lib64/python2.7/site-packages/numpy/lib/npyio.py:1641: ConversionWarning: Some errors were detected !\n",
      "    Line #305 (got 1 columns instead of 7)\n",
      "    Line #312 (got 1 columns instead of 7)\n",
      "    Line #315 (got 1 columns instead of 7)\n",
      "    Line #343 (got 1 columns instead of 7)\n",
      "    Line #363 (got 1 columns instead of 7)\n",
      "    Line #385 (got 1 columns instead of 7)\n",
      "  warnings.warn(errmsg, ConversionWarning)\n"
     ]
    },
    {
     "name": "stdout",
     "output_type": "stream",
     "text": [
      "14387744 ('630141_640', 'b7a7fe7e-a2ad-4a89-b14e-c5f7a02e10cb', 'version 2.0.0, build 3', 'iPhone 6', datetime.datetime(2017, 1, 14, 0, 0), '89a190e2-6b78-46b5-b469-27d231bbf123', 'NA', 'NA', datetime.datetime(2017, 1, 13, 16, 14, 36), 'NA', 'NA', '14387744')\n",
      "HELLO\n",
      "14387798 ('630189_640', 'f0767800-3763-41c3-b65d-d6e20d146f55', 'version 2.0.0, build 3', 'iPhone 6', datetime.datetime(2017, 1, 14, 0, 0), '89a190e2-6b78-46b5-b469-27d231bbf123', 'NA', 'NA', datetime.datetime(2017, 1, 13, 16, 14, 32), 'NA', 'NA', '14387798')\n",
      "HELLO\n",
      "14389956 ('631805_640', '98976bbe-c5f4-41cf-aaf7-fb05c5f80888', 'version 2.0.0, build 3', 'iPhone 6', datetime.datetime(2017, 1, 14, 0, 0), '89a190e2-6b78-46b5-b469-27d231bbf123', 'NA', 'NA', datetime.datetime(2017, 1, 13, 16, 14, 30), 'NA', 'NA', '14389956')\n",
      "HELLO\n",
      "14398636 ('633894_643', '52b7ed64-5b81-4adc-8f78-b9403492c36b', 'version 2.0.0, build 3', 'iPhone 6', datetime.datetime(2017, 1, 16, 0, 0), '89a190e2-6b78-46b5-b469-27d231bbf123', 'NA', 'NA', datetime.datetime(2017, 1, 15, 3, 7, 48), 'NA', 'NA', '14398636')\n",
      "HELLO\n"
     ]
    },
    {
     "name": "stderr",
     "output_type": "stream",
     "text": [
      "/opt/rh/python27/root/usr/lib64/python2.7/site-packages/numpy/lib/npyio.py:1641: ConversionWarning: Some errors were detected !\n",
      "    Line #70 (got 1 columns instead of 7)\n",
      "    Line #78 (got 2 columns instead of 7)\n",
      "    Line #83 (got 1 columns instead of 7)\n",
      "    Line #89 (got 2 columns instead of 7)\n",
      "    Line #91 (got 1 columns instead of 7)\n",
      "    Line #101 (got 2 columns instead of 7)\n",
      "    Line #117 (got 1 columns instead of 7)\n",
      "    Line #119 (got 1 columns instead of 7)\n",
      "    Line #121 (got 1 columns instead of 7)\n",
      "    Line #178 (got 1 columns instead of 7)\n",
      "    Line #180 (got 1 columns instead of 7)\n",
      "    Line #182 (got 1 columns instead of 7)\n",
      "    Line #185 (got 1 columns instead of 7)\n",
      "    Line #220 (got 1 columns instead of 7)\n",
      "    Line #263 (got 1 columns instead of 7)\n",
      "    Line #274 (got 1 columns instead of 7)\n",
      "    Line #284 (got 1 columns instead of 7)\n",
      "    Line #290 (got 1 columns instead of 7)\n",
      "    Line #293 (got 1 columns instead of 7)\n",
      "    Line #295 (got 1 columns instead of 7)\n",
      "    Line #299 (got 1 columns instead of 7)\n",
      "    Line #312 (got 1 columns instead of 7)\n",
      "    Line #337 (got 1 columns instead of 7)\n",
      "    Line #339 (got 1 columns instead of 7)\n",
      "    Line #345 (got 1 columns instead of 7)\n",
      "    Line #353 (got 1 columns instead of 7)\n",
      "    Line #373 (got 1 columns instead of 7)\n",
      "    Line #379 (got 1 columns instead of 7)\n",
      "  warnings.warn(errmsg, ConversionWarning)\n"
     ]
    },
    {
     "name": "stdout",
     "output_type": "stream",
     "text": [
      "14398656 ('633902_643', '80d30e76-cf39-45e0-aa39-57ebbf7a448d', 'version 2.0.0, build 3', 'iPhone 6', datetime.datetime(2017, 1, 16, 0, 0), '89a190e2-6b78-46b5-b469-27d231bbf123', 'NA', 'NA', datetime.datetime(2017, 1, 15, 3, 8, 4), 'NA', 'NA', '14398656')\n",
      "HELLO\n",
      "14399081 ('634096_643', '3ff30710-08e9-4d57-9b9f-fb5f39f7fabf', 'version 2.0.0, build 3', 'iPhone 6', datetime.datetime(2017, 1, 16, 0, 0), '89a190e2-6b78-46b5-b469-27d231bbf123', 'NA', 'NA', datetime.datetime(2017, 1, 15, 3, 8, 26), 'NA', 'NA', '14399081')\n",
      "HELLO\n",
      "14399223 ('634165_643', '91dbbe9b-c7d3-471a-b6ca-2c9b4b7bce0a', 'version 2.0.0, build 3', 'iPhone 6', datetime.datetime(2017, 1, 16, 0, 0), '89a190e2-6b78-46b5-b469-27d231bbf123', 'NA', 'NA', datetime.datetime(2017, 1, 15, 3, 7, 56), 'NA', 'NA', '14399223')\n",
      "HELLO\n",
      "14399227 ('634168_643', '7e0814c8-a965-4e4d-9d62-6bfc27c988f7', 'version 2.0.0, build 3', 'iPhone 6', datetime.datetime(2017, 1, 16, 0, 0), '89a190e2-6b78-46b5-b469-27d231bbf123', 'NA', 'NA', datetime.datetime(2017, 1, 15, 3, 8), 'NA', 'NA', '14399227')\n",
      "HELLO\n",
      "14399228 ('634169_643', 'bf185425-71f2-446e-afb2-6608e834f304', 'version 2.0.0, build 3', 'iPhone 6', datetime.datetime(2017, 1, 16, 0, 0), '89a190e2-6b78-46b5-b469-27d231bbf123', 'NA', 'NA', datetime.datetime(2017, 1, 15, 3, 8, 15), 'NA', 'NA', '14399228')\n",
      "HELLO\n",
      "14399325 ('634213_643', '9be0ed39-0047-4bbc-9362-cef7a7f01805', 'version 2.0.0, build 3', 'iPhone 6', datetime.datetime(2017, 1, 16, 0, 0), '89a190e2-6b78-46b5-b469-27d231bbf123', 'NA', 'NA', datetime.datetime(2017, 1, 15, 3, 8, 7), 'NA', 'NA', '14399325')\n",
      "HELLO\n",
      "14399343 ('634230_643', '23beb87a-f106-4efb-a2ab-daa5e20a8fbf', 'version 2.0.0, build 3', 'iPhone 6', datetime.datetime(2017, 1, 16, 0, 0), '89a190e2-6b78-46b5-b469-27d231bbf123', 'NA', 'NA', datetime.datetime(2017, 1, 15, 3, 8, 24), 'NA', 'NA', '14399343')\n",
      "HELLO\n",
      "14399435 ('634271_643', '915f070d-a368-4674-8013-28627d92e9fc', 'version 2.0.0, build 3', 'iPhone 6', datetime.datetime(2017, 1, 16, 0, 0), '89a190e2-6b78-46b5-b469-27d231bbf123', 'NA', 'NA', datetime.datetime(2017, 1, 15, 3, 8, 6), 'NA', 'NA', '14399435')\n",
      "HELLO\n",
      "14399528 ('634312_643', '3be99e6f-702c-428e-84a3-d3923835e325', 'version 2.0.0, build 3', 'iPhone 6', datetime.datetime(2017, 1, 16, 0, 0), '89a190e2-6b78-46b5-b469-27d231bbf123', 'NA', 'NA', datetime.datetime(2017, 1, 15, 3, 8, 9), 'NA', 'NA', '14399528')\n",
      "HELLO\n",
      "14399538 ('634318_643', '2efe25ae-230e-47a3-8ee7-dcce20763596', 'version 2.0.0, build 3', 'iPhone 6', datetime.datetime(2017, 1, 16, 0, 0), '89a190e2-6b78-46b5-b469-27d231bbf123', 'NA', 'NA', datetime.datetime(2017, 1, 15, 3, 8, 40), 'NA', 'NA', '14399538')\n",
      "HELLO\n",
      "14399606 ('634356_643', 'a1aa042a-caf1-4216-a38f-c933bff1ed7d', 'version 2.0.0, build 3', 'iPhone 6', datetime.datetime(2017, 1, 16, 0, 0), '89a190e2-6b78-46b5-b469-27d231bbf123', 'NA', 'NA', datetime.datetime(2017, 1, 15, 3, 8, 44), 'NA', 'NA', '14399606')\n",
      "HELLO\n",
      "14399612 ('634361_643', '5a7ba715-23a0-4c72-80bb-034886a7ee50', 'version 2.0.0, build 3', 'iPhone 6', datetime.datetime(2017, 1, 16, 0, 0), '89a190e2-6b78-46b5-b469-27d231bbf123', 'NA', 'NA', datetime.datetime(2017, 1, 15, 3, 8, 38), 'NA', 'NA', '14399612')\n",
      "HELLO\n",
      "14399711 ('634410_643', '5b72e1f1-aa00-44f0-9333-9f1d7e7988e5', 'version 2.0.0, build 3', 'iPhone 6', datetime.datetime(2017, 1, 16, 0, 0), '89a190e2-6b78-46b5-b469-27d231bbf123', 'NA', 'NA', datetime.datetime(2017, 1, 15, 3, 8, 42), 'NA', 'NA', '14399711')\n",
      "HELLO\n",
      "14399744 ('634431_643', 'a032a9a4-fe5f-4521-b5de-3da99a0e87c6', 'version 2.0.0, build 3', 'iPhone 6', datetime.datetime(2017, 1, 16, 0, 0), '89a190e2-6b78-46b5-b469-27d231bbf123', 'NA', 'NA', datetime.datetime(2017, 1, 15, 3, 7, 50), 'NA', 'NA', '14399744')\n",
      "HELLO\n",
      "14399825 ('634464_643', '62cbf687-6667-404e-bda0-56f24cf07be8', 'version 2.0.0, build 3', 'iPhone 6', datetime.datetime(2017, 1, 16, 0, 0), '89a190e2-6b78-46b5-b469-27d231bbf123', 'NA', 'NA', datetime.datetime(2017, 1, 15, 3, 7, 58), 'NA', 'NA', '14399825')\n",
      "HELLO\n",
      "14399835 ('634469_643', '643b4d86-d75e-4445-8418-25b4e5ff5994', 'version 2.0.0, build 3', 'iPhone 6', datetime.datetime(2017, 1, 16, 0, 0), '89a190e2-6b78-46b5-b469-27d231bbf123', 'NA', 'NA', datetime.datetime(2017, 1, 15, 3, 8, 30), 'NA', 'NA', '14399835')\n",
      "HELLO\n",
      "14399943 ('634529_643', 'fec12885-f8be-4200-8ad9-59f23f0680d8', 'version 2.0.0, build 3', 'iPhone 6', datetime.datetime(2017, 1, 16, 0, 0), '89a190e2-6b78-46b5-b469-27d231bbf123', 'NA', 'NA', datetime.datetime(2017, 1, 15, 3, 8, 34), 'NA', 'NA', '14399943')\n",
      "HELLO\n",
      "14400054 ('634579_643', '8159c4d7-bbcf-4a93-9a90-da886b575be9', 'version 2.0.0, build 3', 'iPhone 6', datetime.datetime(2017, 1, 16, 0, 0), '89a190e2-6b78-46b5-b469-27d231bbf123', 'NA', 'NA', datetime.datetime(2017, 1, 15, 3, 8, 21), 'NA', 'NA', '14400054')\n",
      "HELLO\n",
      "14400508 ('634759_643', 'fa283787-117c-4594-acfc-6e25b879d034', 'version 2.0.0, build 3', 'iPhone 6', datetime.datetime(2017, 1, 16, 0, 0), '89a190e2-6b78-46b5-b469-27d231bbf123', 'NA', 'NA', datetime.datetime(2017, 1, 15, 3, 8, 11), 'NA', 'NA', '14400508')\n",
      "HELLO\n",
      "14400535 ('634770_643', 'e742519f-e4ae-44b1-ace1-e0f5577cad80', 'version 2.0.0, build 3', 'iPhone 6', datetime.datetime(2017, 1, 16, 0, 0), '89a190e2-6b78-46b5-b469-27d231bbf123', 'NA', 'NA', datetime.datetime(2017, 1, 15, 3, 8, 48), 'NA', 'NA', '14400535')\n",
      "HELLO\n",
      "14400572 ('634786_643', '3f3a629b-0845-4305-bfbc-8fd6a0484692', 'version 2.0.0, build 3', 'iPhone 6', datetime.datetime(2017, 1, 16, 0, 0), '89a190e2-6b78-46b5-b469-27d231bbf123', 'NA', 'NA', datetime.datetime(2017, 1, 15, 3, 8, 36), 'NA', 'NA', '14400572')\n",
      "HELLO\n",
      "14400670 ('634831_643', '90431f12-034a-4ed7-a8c6-a7476bdc20e4', 'version 2.0.0, build 3', 'iPhone 6', datetime.datetime(2017, 1, 16, 0, 0), '89a190e2-6b78-46b5-b469-27d231bbf123', 'NA', 'NA', datetime.datetime(2017, 1, 15, 3, 8, 23), 'NA', 'NA', '14400670')\n",
      "HELLO\n",
      "14400692 ('634841_643', '484f2cef-876a-407d-8f2b-d43bb8a216f0', 'version 2.0.0, build 3', 'iPhone 6', datetime.datetime(2017, 1, 16, 0, 0), '89a190e2-6b78-46b5-b469-27d231bbf123', 'NA', 'NA', datetime.datetime(2017, 1, 15, 3, 7, 40), 'NA', 'NA', '14400692')\n",
      "HELLO\n",
      "14400860 ('634907_643', '564d2550-464c-416e-8fc2-7802596ca6f7', 'version 2.0.0, build 3', 'iPhone 6', datetime.datetime(2017, 1, 16, 0, 0), '89a190e2-6b78-46b5-b469-27d231bbf123', 'NA', 'NA', datetime.datetime(2017, 1, 15, 3, 8, 17), 'NA', 'NA', '14400860')\n",
      "HELLO\n",
      "14400886 ('634920_643', 'a128243d-eb9d-41f6-9e75-5c353c29fbf7', 'version 2.0.0, build 3', 'iPhone 6', datetime.datetime(2017, 1, 16, 0, 0), '89a190e2-6b78-46b5-b469-27d231bbf123', 'NA', 'NA', datetime.datetime(2017, 1, 15, 3, 6, 51), 'NA', 'NA', '14400886')\n",
      "HELLO\n",
      "14401135 ('635003_643', 'ff103f6d-1c9a-45ee-a475-280aea26fc44', 'version 2.0.0, build 3', 'iPhone 6', datetime.datetime(2017, 1, 16, 0, 0), '89a190e2-6b78-46b5-b469-27d231bbf123', 'NA', 'NA', datetime.datetime(2017, 1, 15, 3, 8, 19), 'NA', 'NA', '14401135')\n",
      "HELLO\n",
      "14401323 ('635081_643', 'fea27454-46e7-41f9-ac78-9ed81740be12', 'version 2.0.0, build 3', 'iPhone 6', datetime.datetime(2017, 1, 16, 0, 0), '89a190e2-6b78-46b5-b469-27d231bbf123', 'NA', 'NA', datetime.datetime(2017, 1, 15, 3, 8, 47), 'NA', 'NA', '14401323')\n",
      "HELLO\n",
      "14401345 ('635086_643', 'd590a843-bf39-4b97-a446-b200b6e124fd', 'version 2.0.0, build 3', 'iPhone 6', datetime.datetime(2017, 1, 16, 0, 0), '89a190e2-6b78-46b5-b469-27d231bbf123', 'NA', 'NA', datetime.datetime(2017, 1, 15, 3, 8, 13), 'NA', 'NA', '14401345')\n",
      "HELLO\n",
      "14401612 ('635189_643', 'df662f24-fc0c-4f22-93e7-d7c17bf2a5a5', 'version 2.0.0, build 3', 'iPhone 6', datetime.datetime(2017, 1, 16, 0, 0), '89a190e2-6b78-46b5-b469-27d231bbf123', 'NA', 'NA', datetime.datetime(2017, 1, 15, 3, 8, 2), 'NA', 'NA', '14401612')\n",
      "HELLO\n",
      "14401664 ('635223_643', '3b20eaee-a7b1-472a-a535-63724f49e939', 'version 2.0.0, build 3', 'iPhone 6', datetime.datetime(2017, 1, 16, 0, 0), '89a190e2-6b78-46b5-b469-27d231bbf123', 'NA', 'NA', datetime.datetime(2017, 1, 15, 3, 8, 32), 'NA', 'NA', '14401664')\n",
      "HELLO\n",
      "14401692 ('635238_643', '22165c42-1eba-4810-b9a9-646c3cdd6efb', 'version 2.0.0, build 3', 'iPhone 6', datetime.datetime(2017, 1, 16, 0, 0), '89a190e2-6b78-46b5-b469-27d231bbf123', 'NA', 'NA', datetime.datetime(2017, 1, 15, 3, 7, 52), 'NA', 'NA', '14401692')\n",
      "HELLO\n"
     ]
    },
    {
     "name": "stderr",
     "output_type": "stream",
     "text": [
      "/opt/rh/python27/root/usr/lib64/python2.7/site-packages/numpy/lib/npyio.py:1641: ConversionWarning: Some errors were detected !\n",
      "    Line #97 (got 1 columns instead of 7)\n",
      "  warnings.warn(errmsg, ConversionWarning)\n"
     ]
    },
    {
     "name": "stdout",
     "output_type": "stream",
     "text": [
      "14401697 ('635240_643', '3dde471d-bc90-4a84-ba82-e027f0bbef0a', 'version 2.0.0, build 3', 'iPhone 6', datetime.datetime(2017, 1, 16, 0, 0), '89a190e2-6b78-46b5-b469-27d231bbf123', 'NA', 'NA', datetime.datetime(2017, 1, 15, 3, 8, 28), 'NA', 'NA', '14401697')\n",
      "HELLO\n",
      "14401822 ('635304_643', '48555708-fd8c-4a08-8a8e-12265a5e3229', 'version 2.0.0, build 3', 'iPhone 6', datetime.datetime(2017, 1, 16, 0, 0), '89a190e2-6b78-46b5-b469-27d231bbf123', 'NA', 'NA', datetime.datetime(2017, 1, 15, 3, 7, 55), 'NA', 'NA', '14401822')\n",
      "HELLO\n",
      "14426357 ('639644_646', '974b561d-ce02-4f66-b2ae-7c0f1fdcc794', 'version 2.0.0, build 3', 'iPhone 6', datetime.datetime(2017, 1, 19, 0, 0), '89a190e2-6b78-46b5-b469-27d231bbf123', 'NA', 'NA', datetime.datetime(2017, 1, 18, 13, 37, 11), 'NA', 'NA', '14426357')\n",
      "HELLO\n",
      "14427221 ('640067_646', '67ce8c31-0c73-4509-ae55-d40df1021fdb', 'version 2.0.0, build 3', 'iPhone 6', datetime.datetime(2017, 1, 19, 0, 0), '89a190e2-6b78-46b5-b469-27d231bbf123', 'NA', 'NA', datetime.datetime(2017, 1, 18, 13, 37, 13), 'NA', 'NA', '14427221')\n",
      "HELLO\n",
      "14427297 ('640114_646', 'ffe19e73-b1dd-4ae8-9ea3-2d56b35e30ff', 'version 2.0.0, build 3', 'iPhone 6', datetime.datetime(2017, 1, 19, 0, 0), '89a190e2-6b78-46b5-b469-27d231bbf123', 'NA', 'NA', datetime.datetime(2017, 1, 18, 13, 37, 9), 'NA', 'NA', '14427297')\n",
      "HELLO\n"
     ]
    },
    {
     "name": "stderr",
     "output_type": "stream",
     "text": [
      "/opt/rh/python27/root/usr/lib64/python2.7/site-packages/numpy/lib/npyio.py:1641: ConversionWarning: Some errors were detected !\n",
      "    Line #6 (got 5 columns instead of 7)\n",
      "    Line #47 (got 1 columns instead of 7)\n",
      "    Line #49 (got 1 columns instead of 7)\n",
      "    Line #56 (got 1 columns instead of 7)\n",
      "    Line #84 (got 1 columns instead of 7)\n",
      "    Line #91 (got 1 columns instead of 7)\n",
      "    Line #121 (got 1 columns instead of 7)\n",
      "    Line #210 (got 1 columns instead of 7)\n",
      "  warnings.warn(errmsg, ConversionWarning)\n"
     ]
    }
   ],
   "source": [
    "def blarg():\n",
    "    sourses = set()\n",
    "    for row in data_subject:\n",
    "        blob_name=row['data']\n",
    "        if blob_name.endswith('NA'):\n",
    "            continue \n",
    "        synapseCacheFile=get_synapse_cache_entry(synapseCacheDir,blob_name)\n",
    "        sourses.update(parse_healthkit_sources(synapseCacheFile, \"HKQuantityTypeIdentifierStepCount\"))\n",
    "    return sourses\n",
    "blarg()"
   ]
  },
  {
   "cell_type": "code",
   "execution_count": 37,
   "metadata": {},
   "outputs": [
    {
     "data": {
      "text/plain": [
       "{'com.apple.health.8FDEFD3C-0CB4-49EF-', 'com.garmin.connect.mobile'}"
      ]
     },
     "execution_count": 37,
     "metadata": {},
     "output_type": "execute_result"
    }
   ],
   "source": [
    "sourses"
   ]
  },
  {
   "cell_type": "code",
   "execution_count": null,
   "metadata": {
    "collapsed": true
   },
   "outputs": [],
   "source": []
  }
 ],
 "metadata": {
  "kernelspec": {
   "display_name": "Python 2",
   "language": "python",
   "name": "python2"
  },
  "language_info": {
   "codemirror_mode": {
    "name": "ipython",
    "version": 2
   },
   "file_extension": ".py",
   "mimetype": "text/x-python",
   "name": "python",
   "nbconvert_exporter": "python",
   "pygments_lexer": "ipython2",
   "version": "2.7.5"
  }
 },
 "nbformat": 4,
 "nbformat_minor": 2
}
