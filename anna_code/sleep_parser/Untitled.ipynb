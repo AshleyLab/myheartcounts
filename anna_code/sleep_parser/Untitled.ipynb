{
 "cells": [
  {
   "cell_type": "code",
   "execution_count": 1,
   "metadata": {},
   "outputs": [],
   "source": [
    "rm(list=ls())"
   ]
  },
  {
   "cell_type": "code",
   "execution_count": 2,
   "metadata": {},
   "outputs": [
    {
     "ename": "ERROR",
     "evalue": "Error in scan(file = file, what = what, sep = sep, quote = quote, dec = dec, : line 934906 did not have 8 elements\n",
     "output_type": "error",
     "traceback": [
      "Error in scan(file = file, what = what, sep = sep, quote = quote, dec = dec, : line 934906 did not have 8 elements\nTraceback:\n",
      "1. read.table(\"out.HKCategoryValueSleepAnalysisAsleep\", header = TRUE, \n .     sep = \"\\t\")",
      "2. scan(file = file, what = what, sep = sep, quote = quote, dec = dec, \n .     nmax = nrows, skip = 0, na.strings = na.strings, quiet = TRUE, \n .     fill = fill, strip.white = strip.white, blank.lines.skip = blank.lines.skip, \n .     multi.line = FALSE, comment.char = comment.char, allowEscapes = allowEscapes, \n .     flush = flush, encoding = encoding, skipNul = skipNul)"
     ]
    }
   ],
   "source": [
    "asleep=read.table(\"out.HKCategoryValueSleepAnalysisAsleep\",header=TRUE,sep='\\t')"
   ]
  },
  {
   "cell_type": "code",
   "execution_count": null,
   "metadata": {},
   "outputs": [],
   "source": [
    "inbed=read.table(\"ou.HK\")"
   ]
  }
 ],
 "metadata": {
  "kernelspec": {
   "display_name": "R 3.3",
   "language": "R",
   "name": "ir33"
  },
  "language_info": {
   "codemirror_mode": "r",
   "file_extension": ".r",
   "mimetype": "text/x-r-source",
   "name": "R",
   "pygments_lexer": "r",
   "version": "3.4.0"
  }
 },
 "nbformat": 4,
 "nbformat_minor": 2
}
