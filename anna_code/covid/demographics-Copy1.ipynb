{
 "cells": [
  {
   "cell_type": "code",
   "execution_count": 14,
   "metadata": {
    "ExecuteTime": {
     "end_time": "2020-07-13T19:55:17.980999Z",
     "start_time": "2020-07-13T19:55:16.475Z"
    }
   },
   "outputs": [],
   "source": [
    "data=read.table(\"demog.2020.txt\",header=TRUE,sep='\\t')"
   ]
  },
  {
   "cell_type": "code",
   "execution_count": 15,
   "metadata": {
    "ExecuteTime": {
     "end_time": "2020-07-13T19:55:18.018268Z",
     "start_time": "2020-07-13T19:55:17.113Z"
    }
   },
   "outputs": [
    {
     "data": {
      "text/html": [
       "<table>\n",
       "<caption>A data.frame: 6 × 32</caption>\n",
       "<thead>\n",
       "\t<tr><th></th><th scope=col>ROW_ID</th><th scope=col>ROW_VERSION</th><th scope=col>recordId</th><th scope=col>appVersion</th><th scope=col>phoneInfo</th><th scope=col>uploadDate</th><th scope=col>healthCode</th><th scope=col>externalId</th><th scope=col>dataGroups</th><th scope=col>createdOn</th><th scope=col>⋯</th><th scope=col>NonIdentifiableDemographics.patientFitzpatrickSkinType</th><th scope=col>NonIdentifiableDemographics.json.patientHeightInches</th><th scope=col>NonIdentifiableDemographics.patientHeightInches</th><th scope=col>NonIdentifiableDemographics.json.patientWakeUpTime</th><th scope=col>NonIdentifiableDemographics.patientWakeUpTime</th><th scope=col>NonIdentifiableDemographics.json.patientCurrentAge</th><th scope=col>NonIdentifiableDemographics.patientCurrentAge</th><th scope=col>NonIdentifiableDemographics.json.patientGoSleepTime</th><th scope=col>NonIdentifiableDemographics.patientGoSleepTime</th><th scope=col>rawData</th></tr>\n",
       "\t<tr><th></th><th scope=col>&lt;int&gt;</th><th scope=col>&lt;int&gt;</th><th scope=col>&lt;fct&gt;</th><th scope=col>&lt;fct&gt;</th><th scope=col>&lt;fct&gt;</th><th scope=col>&lt;fct&gt;</th><th scope=col>&lt;fct&gt;</th><th scope=col>&lt;lgl&gt;</th><th scope=col>&lt;fct&gt;</th><th scope=col>&lt;dbl&gt;</th><th scope=col>⋯</th><th scope=col>&lt;fct&gt;</th><th scope=col>&lt;lgl&gt;</th><th scope=col>&lt;int&gt;</th><th scope=col>&lt;lgl&gt;</th><th scope=col>&lt;fct&gt;</th><th scope=col>&lt;lgl&gt;</th><th scope=col>&lt;int&gt;</th><th scope=col>&lt;lgl&gt;</th><th scope=col>&lt;fct&gt;</th><th scope=col>&lt;int&gt;</th></tr>\n",
       "</thead>\n",
       "<tbody>\n",
       "\t<tr><th scope=row>1</th><td>379</td><td>60</td><td>tPFcKoK8moM3YxmSpUGQzMBR</td><td>version 2.3.2, build 818</td><td>iPhone 8; iOS/13.4.1 </td><td>2020-06-04</td><td>bv_4_VMi5Pmkcnosk3nlgv1O</td><td>NA</td><td>              </td><td>1.591172e+12</td><td>⋯</td><td></td><td>NA</td><td>65</td><td>NA</td><td>2020-06-03T14:00:00.000-05:00</td><td>NA</td><td>47</td><td>NA</td><td>2020-06-03T03:30:00.000-05:00</td><td>54155944</td></tr>\n",
       "\t<tr><th scope=row>2</th><td>380</td><td>60</td><td>exPLS3V7Q_r36HN0P5XQ9TzP</td><td>version 2.3.2, build 818</td><td>iPhone 8; iOS/13.4.1 </td><td>2020-06-04</td><td>bv_4_VMi5Pmkcnosk3nlgv1O</td><td>NA</td><td>              </td><td>1.591172e+12</td><td>⋯</td><td></td><td>NA</td><td>65</td><td>NA</td><td>2020-06-03T14:00:00.000-05:00</td><td>NA</td><td>47</td><td>NA</td><td>2020-06-03T03:30:00.000-05:00</td><td>54155954</td></tr>\n",
       "\t<tr><th scope=row>3</th><td>381</td><td>60</td><td>Rzx2291Vz9Hnb-PxWHLVdPFT</td><td>version 2.3.2, build 818</td><td>iPhone X; iOS/13.4.1 </td><td>2020-06-04</td><td>GDE3Bn93FcIsc3ZslCnRsian</td><td>NA</td><td>              </td><td>1.591221e+12</td><td>⋯</td><td></td><td>NA</td><td>69</td><td>NA</td><td>2020-06-03T07:00:00.000-06:00</td><td>NA</td><td>56</td><td>NA</td><td>2020-06-03T22:30:00.000-06:00</td><td>54161475</td></tr>\n",
       "\t<tr><th scope=row>4</th><td>382</td><td>61</td><td>-p3apXEhT3UtVR7gQLt28dwK</td><td>version 2.3.2, build 818</td><td>iPhone XR; iOS/13.4.1</td><td>2020-06-05</td><td>7BuRNiaTP4KFLIMwx1Co7j47</td><td>NA</td><td>              </td><td>1.591300e+12</td><td>⋯</td><td></td><td>NA</td><td>69</td><td>NA</td><td>2020-06-04T07:00:00.000-07:00</td><td>NA</td><td>22</td><td>NA</td><td>2020-06-04T21:30:00.000-07:00</td><td>54199864</td></tr>\n",
       "\t<tr><th scope=row>5</th><td>383</td><td>61</td><td>BPkInIqL5DUxHm5rr1mTIuvS</td><td>version 2.3.2, build 818</td><td>iPhone XR; iOS/13.4.1</td><td>2020-06-05</td><td>7BuRNiaTP4KFLIMwx1Co7j47</td><td>NA</td><td>              </td><td>1.591308e+12</td><td>⋯</td><td></td><td>NA</td><td>69</td><td>NA</td><td>2020-06-04T07:00:00.000-07:00</td><td>NA</td><td>22</td><td>NA</td><td>2020-06-04T21:30:00.000-07:00</td><td>54201014</td></tr>\n",
       "\t<tr><th scope=row>6</th><td>386</td><td>63</td><td>IuL1kJlztmAC2HznCYkOjqQj</td><td>version 2.3.2, build 818</td><td>iPhone XS; iOS/13.5.1</td><td>2020-06-07</td><td>5-34lmKWVRuNmzDj6ZKYObWY</td><td>NA</td><td>uk_participant</td><td>1.591478e+12</td><td>⋯</td><td></td><td>NA</td><td>70</td><td>NA</td><td>2020-06-06T07:00:00.000+01:00</td><td>NA</td><td>56</td><td>NA</td><td>2020-06-06T21:30:00.000+01:00</td><td>54262483</td></tr>\n",
       "</tbody>\n",
       "</table>\n"
      ],
      "text/latex": [
       "A data.frame: 6 × 32\n",
       "\\begin{tabular}{r|lllllllllllllllllllll}\n",
       "  & ROW\\_ID & ROW\\_VERSION & recordId & appVersion & phoneInfo & uploadDate & healthCode & externalId & dataGroups & createdOn & ⋯ & NonIdentifiableDemographics.patientFitzpatrickSkinType & NonIdentifiableDemographics.json.patientHeightInches & NonIdentifiableDemographics.patientHeightInches & NonIdentifiableDemographics.json.patientWakeUpTime & NonIdentifiableDemographics.patientWakeUpTime & NonIdentifiableDemographics.json.patientCurrentAge & NonIdentifiableDemographics.patientCurrentAge & NonIdentifiableDemographics.json.patientGoSleepTime & NonIdentifiableDemographics.patientGoSleepTime & rawData\\\\\n",
       "  & <int> & <int> & <fct> & <fct> & <fct> & <fct> & <fct> & <lgl> & <fct> & <dbl> & ⋯ & <fct> & <lgl> & <int> & <lgl> & <fct> & <lgl> & <int> & <lgl> & <fct> & <int>\\\\\n",
       "\\hline\n",
       "\t1 & 379 & 60 & tPFcKoK8moM3YxmSpUGQzMBR & version 2.3.2, build 818 & iPhone 8; iOS/13.4.1  & 2020-06-04 & bv\\_4\\_VMi5Pmkcnosk3nlgv1O & NA &                & 1.591172e+12 & ⋯ &  & NA & 65 & NA & 2020-06-03T14:00:00.000-05:00 & NA & 47 & NA & 2020-06-03T03:30:00.000-05:00 & 54155944\\\\\n",
       "\t2 & 380 & 60 & exPLS3V7Q\\_r36HN0P5XQ9TzP & version 2.3.2, build 818 & iPhone 8; iOS/13.4.1  & 2020-06-04 & bv\\_4\\_VMi5Pmkcnosk3nlgv1O & NA &                & 1.591172e+12 & ⋯ &  & NA & 65 & NA & 2020-06-03T14:00:00.000-05:00 & NA & 47 & NA & 2020-06-03T03:30:00.000-05:00 & 54155954\\\\\n",
       "\t3 & 381 & 60 & Rzx2291Vz9Hnb-PxWHLVdPFT & version 2.3.2, build 818 & iPhone X; iOS/13.4.1  & 2020-06-04 & GDE3Bn93FcIsc3ZslCnRsian & NA &                & 1.591221e+12 & ⋯ &  & NA & 69 & NA & 2020-06-03T07:00:00.000-06:00 & NA & 56 & NA & 2020-06-03T22:30:00.000-06:00 & 54161475\\\\\n",
       "\t4 & 382 & 61 & -p3apXEhT3UtVR7gQLt28dwK & version 2.3.2, build 818 & iPhone XR; iOS/13.4.1 & 2020-06-05 & 7BuRNiaTP4KFLIMwx1Co7j47 & NA &                & 1.591300e+12 & ⋯ &  & NA & 69 & NA & 2020-06-04T07:00:00.000-07:00 & NA & 22 & NA & 2020-06-04T21:30:00.000-07:00 & 54199864\\\\\n",
       "\t5 & 383 & 61 & BPkInIqL5DUxHm5rr1mTIuvS & version 2.3.2, build 818 & iPhone XR; iOS/13.4.1 & 2020-06-05 & 7BuRNiaTP4KFLIMwx1Co7j47 & NA &                & 1.591308e+12 & ⋯ &  & NA & 69 & NA & 2020-06-04T07:00:00.000-07:00 & NA & 22 & NA & 2020-06-04T21:30:00.000-07:00 & 54201014\\\\\n",
       "\t6 & 386 & 63 & IuL1kJlztmAC2HznCYkOjqQj & version 2.3.2, build 818 & iPhone XS; iOS/13.5.1 & 2020-06-07 & 5-34lmKWVRuNmzDj6ZKYObWY & NA & uk\\_participant & 1.591478e+12 & ⋯ &  & NA & 70 & NA & 2020-06-06T07:00:00.000+01:00 & NA & 56 & NA & 2020-06-06T21:30:00.000+01:00 & 54262483\\\\\n",
       "\\end{tabular}\n"
      ],
      "text/markdown": [
       "\n",
       "A data.frame: 6 × 32\n",
       "\n",
       "| <!--/--> | ROW_ID &lt;int&gt; | ROW_VERSION &lt;int&gt; | recordId &lt;fct&gt; | appVersion &lt;fct&gt; | phoneInfo &lt;fct&gt; | uploadDate &lt;fct&gt; | healthCode &lt;fct&gt; | externalId &lt;lgl&gt; | dataGroups &lt;fct&gt; | createdOn &lt;dbl&gt; | ⋯ ⋯ | NonIdentifiableDemographics.patientFitzpatrickSkinType &lt;fct&gt; | NonIdentifiableDemographics.json.patientHeightInches &lt;lgl&gt; | NonIdentifiableDemographics.patientHeightInches &lt;int&gt; | NonIdentifiableDemographics.json.patientWakeUpTime &lt;lgl&gt; | NonIdentifiableDemographics.patientWakeUpTime &lt;fct&gt; | NonIdentifiableDemographics.json.patientCurrentAge &lt;lgl&gt; | NonIdentifiableDemographics.patientCurrentAge &lt;int&gt; | NonIdentifiableDemographics.json.patientGoSleepTime &lt;lgl&gt; | NonIdentifiableDemographics.patientGoSleepTime &lt;fct&gt; | rawData &lt;int&gt; |\n",
       "|---|---|---|---|---|---|---|---|---|---|---|---|---|---|---|---|---|---|---|---|---|---|\n",
       "| 1 | 379 | 60 | tPFcKoK8moM3YxmSpUGQzMBR | version 2.3.2, build 818 | iPhone 8; iOS/13.4.1  | 2020-06-04 | bv_4_VMi5Pmkcnosk3nlgv1O | NA | <!----> | 1.591172e+12 | ⋯ | <!----> | NA | 65 | NA | 2020-06-03T14:00:00.000-05:00 | NA | 47 | NA | 2020-06-03T03:30:00.000-05:00 | 54155944 |\n",
       "| 2 | 380 | 60 | exPLS3V7Q_r36HN0P5XQ9TzP | version 2.3.2, build 818 | iPhone 8; iOS/13.4.1  | 2020-06-04 | bv_4_VMi5Pmkcnosk3nlgv1O | NA | <!----> | 1.591172e+12 | ⋯ | <!----> | NA | 65 | NA | 2020-06-03T14:00:00.000-05:00 | NA | 47 | NA | 2020-06-03T03:30:00.000-05:00 | 54155954 |\n",
       "| 3 | 381 | 60 | Rzx2291Vz9Hnb-PxWHLVdPFT | version 2.3.2, build 818 | iPhone X; iOS/13.4.1  | 2020-06-04 | GDE3Bn93FcIsc3ZslCnRsian | NA | <!----> | 1.591221e+12 | ⋯ | <!----> | NA | 69 | NA | 2020-06-03T07:00:00.000-06:00 | NA | 56 | NA | 2020-06-03T22:30:00.000-06:00 | 54161475 |\n",
       "| 4 | 382 | 61 | -p3apXEhT3UtVR7gQLt28dwK | version 2.3.2, build 818 | iPhone XR; iOS/13.4.1 | 2020-06-05 | 7BuRNiaTP4KFLIMwx1Co7j47 | NA | <!----> | 1.591300e+12 | ⋯ | <!----> | NA | 69 | NA | 2020-06-04T07:00:00.000-07:00 | NA | 22 | NA | 2020-06-04T21:30:00.000-07:00 | 54199864 |\n",
       "| 5 | 383 | 61 | BPkInIqL5DUxHm5rr1mTIuvS | version 2.3.2, build 818 | iPhone XR; iOS/13.4.1 | 2020-06-05 | 7BuRNiaTP4KFLIMwx1Co7j47 | NA | <!----> | 1.591308e+12 | ⋯ | <!----> | NA | 69 | NA | 2020-06-04T07:00:00.000-07:00 | NA | 22 | NA | 2020-06-04T21:30:00.000-07:00 | 54201014 |\n",
       "| 6 | 386 | 63 | IuL1kJlztmAC2HznCYkOjqQj | version 2.3.2, build 818 | iPhone XS; iOS/13.5.1 | 2020-06-07 | 5-34lmKWVRuNmzDj6ZKYObWY | NA | uk_participant | 1.591478e+12 | ⋯ | <!----> | NA | 70 | NA | 2020-06-06T07:00:00.000+01:00 | NA | 56 | NA | 2020-06-06T21:30:00.000+01:00 | 54262483 |\n",
       "\n"
      ],
      "text/plain": [
       "  ROW_ID ROW_VERSION recordId                 appVersion              \n",
       "1 379    60          tPFcKoK8moM3YxmSpUGQzMBR version 2.3.2, build 818\n",
       "2 380    60          exPLS3V7Q_r36HN0P5XQ9TzP version 2.3.2, build 818\n",
       "3 381    60          Rzx2291Vz9Hnb-PxWHLVdPFT version 2.3.2, build 818\n",
       "4 382    61          -p3apXEhT3UtVR7gQLt28dwK version 2.3.2, build 818\n",
       "5 383    61          BPkInIqL5DUxHm5rr1mTIuvS version 2.3.2, build 818\n",
       "6 386    63          IuL1kJlztmAC2HznCYkOjqQj version 2.3.2, build 818\n",
       "  phoneInfo             uploadDate healthCode               externalId\n",
       "1 iPhone 8; iOS/13.4.1  2020-06-04 bv_4_VMi5Pmkcnosk3nlgv1O NA        \n",
       "2 iPhone 8; iOS/13.4.1  2020-06-04 bv_4_VMi5Pmkcnosk3nlgv1O NA        \n",
       "3 iPhone X; iOS/13.4.1  2020-06-04 GDE3Bn93FcIsc3ZslCnRsian NA        \n",
       "4 iPhone XR; iOS/13.4.1 2020-06-05 7BuRNiaTP4KFLIMwx1Co7j47 NA        \n",
       "5 iPhone XR; iOS/13.4.1 2020-06-05 7BuRNiaTP4KFLIMwx1Co7j47 NA        \n",
       "6 iPhone XS; iOS/13.5.1 2020-06-07 5-34lmKWVRuNmzDj6ZKYObWY NA        \n",
       "  dataGroups     createdOn    ⋯\n",
       "1                1.591172e+12 ⋯\n",
       "2                1.591172e+12 ⋯\n",
       "3                1.591221e+12 ⋯\n",
       "4                1.591300e+12 ⋯\n",
       "5                1.591308e+12 ⋯\n",
       "6 uk_participant 1.591478e+12 ⋯\n",
       "  NonIdentifiableDemographics.patientFitzpatrickSkinType\n",
       "1                                                       \n",
       "2                                                       \n",
       "3                                                       \n",
       "4                                                       \n",
       "5                                                       \n",
       "6                                                       \n",
       "  NonIdentifiableDemographics.json.patientHeightInches\n",
       "1 NA                                                  \n",
       "2 NA                                                  \n",
       "3 NA                                                  \n",
       "4 NA                                                  \n",
       "5 NA                                                  \n",
       "6 NA                                                  \n",
       "  NonIdentifiableDemographics.patientHeightInches\n",
       "1 65                                             \n",
       "2 65                                             \n",
       "3 69                                             \n",
       "4 69                                             \n",
       "5 69                                             \n",
       "6 70                                             \n",
       "  NonIdentifiableDemographics.json.patientWakeUpTime\n",
       "1 NA                                                \n",
       "2 NA                                                \n",
       "3 NA                                                \n",
       "4 NA                                                \n",
       "5 NA                                                \n",
       "6 NA                                                \n",
       "  NonIdentifiableDemographics.patientWakeUpTime\n",
       "1 2020-06-03T14:00:00.000-05:00                \n",
       "2 2020-06-03T14:00:00.000-05:00                \n",
       "3 2020-06-03T07:00:00.000-06:00                \n",
       "4 2020-06-04T07:00:00.000-07:00                \n",
       "5 2020-06-04T07:00:00.000-07:00                \n",
       "6 2020-06-06T07:00:00.000+01:00                \n",
       "  NonIdentifiableDemographics.json.patientCurrentAge\n",
       "1 NA                                                \n",
       "2 NA                                                \n",
       "3 NA                                                \n",
       "4 NA                                                \n",
       "5 NA                                                \n",
       "6 NA                                                \n",
       "  NonIdentifiableDemographics.patientCurrentAge\n",
       "1 47                                           \n",
       "2 47                                           \n",
       "3 56                                           \n",
       "4 22                                           \n",
       "5 22                                           \n",
       "6 56                                           \n",
       "  NonIdentifiableDemographics.json.patientGoSleepTime\n",
       "1 NA                                                 \n",
       "2 NA                                                 \n",
       "3 NA                                                 \n",
       "4 NA                                                 \n",
       "5 NA                                                 \n",
       "6 NA                                                 \n",
       "  NonIdentifiableDemographics.patientGoSleepTime rawData \n",
       "1 2020-06-03T03:30:00.000-05:00                  54155944\n",
       "2 2020-06-03T03:30:00.000-05:00                  54155954\n",
       "3 2020-06-03T22:30:00.000-06:00                  54161475\n",
       "4 2020-06-04T21:30:00.000-07:00                  54199864\n",
       "5 2020-06-04T21:30:00.000-07:00                  54201014\n",
       "6 2020-06-06T21:30:00.000+01:00                  54262483"
      ]
     },
     "metadata": {},
     "output_type": "display_data"
    }
   ],
   "source": [
    "head(data)"
   ]
  },
  {
   "cell_type": "code",
   "execution_count": 16,
   "metadata": {
    "ExecuteTime": {
     "end_time": "2020-07-13T19:55:18.460108Z",
     "start_time": "2020-07-13T19:55:18.428Z"
    }
   },
   "outputs": [
    {
     "data": {
      "text/html": [
       "<style>\n",
       ".list-inline {list-style: none; margin:0; padding: 0}\n",
       ".list-inline>li {display: inline-block}\n",
       ".list-inline>li:not(:last-child)::after {content: \"\\00b7\"; padding: 0 .5ex}\n",
       "</style>\n",
       "<ol class=list-inline><li>'ROW_ID'</li><li>'ROW_VERSION'</li><li>'recordId'</li><li>'appVersion'</li><li>'phoneInfo'</li><li>'uploadDate'</li><li>'healthCode'</li><li>'externalId'</li><li>'dataGroups'</li><li>'createdOn'</li><li>'createdOnTimeZone'</li><li>'userSharingScope'</li><li>'validationErrors'</li><li>'substudyMemberships'</li><li>'dayInStudy'</li><li>'NonIdentifiableDemographics.json.patientWeightPounds'</li><li>'NonIdentifiableDemographics.patientWeightPounds'</li><li>'NonIdentifiableDemographics.json.patientBiologicalSex'</li><li>'NonIdentifiableDemographics.patientBiologicalSex'</li><li>'NonIdentifiableDemographics.json.patientBloodType'</li><li>'NonIdentifiableDemographics.patientBloodType'</li><li>'NonIdentifiableDemographics.json.patientFitzpatrickSkinType'</li><li>'NonIdentifiableDemographics.patientFitzpatrickSkinType'</li><li>'NonIdentifiableDemographics.json.patientHeightInches'</li><li>'NonIdentifiableDemographics.patientHeightInches'</li><li>'NonIdentifiableDemographics.json.patientWakeUpTime'</li><li>'NonIdentifiableDemographics.patientWakeUpTime'</li><li>'NonIdentifiableDemographics.json.patientCurrentAge'</li><li>'NonIdentifiableDemographics.patientCurrentAge'</li><li>'NonIdentifiableDemographics.json.patientGoSleepTime'</li><li>'NonIdentifiableDemographics.patientGoSleepTime'</li><li>'rawData'</li></ol>\n"
      ],
      "text/latex": [
       "\\begin{enumerate*}\n",
       "\\item 'ROW\\_ID'\n",
       "\\item 'ROW\\_VERSION'\n",
       "\\item 'recordId'\n",
       "\\item 'appVersion'\n",
       "\\item 'phoneInfo'\n",
       "\\item 'uploadDate'\n",
       "\\item 'healthCode'\n",
       "\\item 'externalId'\n",
       "\\item 'dataGroups'\n",
       "\\item 'createdOn'\n",
       "\\item 'createdOnTimeZone'\n",
       "\\item 'userSharingScope'\n",
       "\\item 'validationErrors'\n",
       "\\item 'substudyMemberships'\n",
       "\\item 'dayInStudy'\n",
       "\\item 'NonIdentifiableDemographics.json.patientWeightPounds'\n",
       "\\item 'NonIdentifiableDemographics.patientWeightPounds'\n",
       "\\item 'NonIdentifiableDemographics.json.patientBiologicalSex'\n",
       "\\item 'NonIdentifiableDemographics.patientBiologicalSex'\n",
       "\\item 'NonIdentifiableDemographics.json.patientBloodType'\n",
       "\\item 'NonIdentifiableDemographics.patientBloodType'\n",
       "\\item 'NonIdentifiableDemographics.json.patientFitzpatrickSkinType'\n",
       "\\item 'NonIdentifiableDemographics.patientFitzpatrickSkinType'\n",
       "\\item 'NonIdentifiableDemographics.json.patientHeightInches'\n",
       "\\item 'NonIdentifiableDemographics.patientHeightInches'\n",
       "\\item 'NonIdentifiableDemographics.json.patientWakeUpTime'\n",
       "\\item 'NonIdentifiableDemographics.patientWakeUpTime'\n",
       "\\item 'NonIdentifiableDemographics.json.patientCurrentAge'\n",
       "\\item 'NonIdentifiableDemographics.patientCurrentAge'\n",
       "\\item 'NonIdentifiableDemographics.json.patientGoSleepTime'\n",
       "\\item 'NonIdentifiableDemographics.patientGoSleepTime'\n",
       "\\item 'rawData'\n",
       "\\end{enumerate*}\n"
      ],
      "text/markdown": [
       "1. 'ROW_ID'\n",
       "2. 'ROW_VERSION'\n",
       "3. 'recordId'\n",
       "4. 'appVersion'\n",
       "5. 'phoneInfo'\n",
       "6. 'uploadDate'\n",
       "7. 'healthCode'\n",
       "8. 'externalId'\n",
       "9. 'dataGroups'\n",
       "10. 'createdOn'\n",
       "11. 'createdOnTimeZone'\n",
       "12. 'userSharingScope'\n",
       "13. 'validationErrors'\n",
       "14. 'substudyMemberships'\n",
       "15. 'dayInStudy'\n",
       "16. 'NonIdentifiableDemographics.json.patientWeightPounds'\n",
       "17. 'NonIdentifiableDemographics.patientWeightPounds'\n",
       "18. 'NonIdentifiableDemographics.json.patientBiologicalSex'\n",
       "19. 'NonIdentifiableDemographics.patientBiologicalSex'\n",
       "20. 'NonIdentifiableDemographics.json.patientBloodType'\n",
       "21. 'NonIdentifiableDemographics.patientBloodType'\n",
       "22. 'NonIdentifiableDemographics.json.patientFitzpatrickSkinType'\n",
       "23. 'NonIdentifiableDemographics.patientFitzpatrickSkinType'\n",
       "24. 'NonIdentifiableDemographics.json.patientHeightInches'\n",
       "25. 'NonIdentifiableDemographics.patientHeightInches'\n",
       "26. 'NonIdentifiableDemographics.json.patientWakeUpTime'\n",
       "27. 'NonIdentifiableDemographics.patientWakeUpTime'\n",
       "28. 'NonIdentifiableDemographics.json.patientCurrentAge'\n",
       "29. 'NonIdentifiableDemographics.patientCurrentAge'\n",
       "30. 'NonIdentifiableDemographics.json.patientGoSleepTime'\n",
       "31. 'NonIdentifiableDemographics.patientGoSleepTime'\n",
       "32. 'rawData'\n",
       "\n",
       "\n"
      ],
      "text/plain": [
       " [1] \"ROW_ID\"                                                     \n",
       " [2] \"ROW_VERSION\"                                                \n",
       " [3] \"recordId\"                                                   \n",
       " [4] \"appVersion\"                                                 \n",
       " [5] \"phoneInfo\"                                                  \n",
       " [6] \"uploadDate\"                                                 \n",
       " [7] \"healthCode\"                                                 \n",
       " [8] \"externalId\"                                                 \n",
       " [9] \"dataGroups\"                                                 \n",
       "[10] \"createdOn\"                                                  \n",
       "[11] \"createdOnTimeZone\"                                          \n",
       "[12] \"userSharingScope\"                                           \n",
       "[13] \"validationErrors\"                                           \n",
       "[14] \"substudyMemberships\"                                        \n",
       "[15] \"dayInStudy\"                                                 \n",
       "[16] \"NonIdentifiableDemographics.json.patientWeightPounds\"       \n",
       "[17] \"NonIdentifiableDemographics.patientWeightPounds\"            \n",
       "[18] \"NonIdentifiableDemographics.json.patientBiologicalSex\"      \n",
       "[19] \"NonIdentifiableDemographics.patientBiologicalSex\"           \n",
       "[20] \"NonIdentifiableDemographics.json.patientBloodType\"          \n",
       "[21] \"NonIdentifiableDemographics.patientBloodType\"               \n",
       "[22] \"NonIdentifiableDemographics.json.patientFitzpatrickSkinType\"\n",
       "[23] \"NonIdentifiableDemographics.patientFitzpatrickSkinType\"     \n",
       "[24] \"NonIdentifiableDemographics.json.patientHeightInches\"       \n",
       "[25] \"NonIdentifiableDemographics.patientHeightInches\"            \n",
       "[26] \"NonIdentifiableDemographics.json.patientWakeUpTime\"         \n",
       "[27] \"NonIdentifiableDemographics.patientWakeUpTime\"              \n",
       "[28] \"NonIdentifiableDemographics.json.patientCurrentAge\"         \n",
       "[29] \"NonIdentifiableDemographics.patientCurrentAge\"              \n",
       "[30] \"NonIdentifiableDemographics.json.patientGoSleepTime\"        \n",
       "[31] \"NonIdentifiableDemographics.patientGoSleepTime\"             \n",
       "[32] \"rawData\"                                                    "
      ]
     },
     "metadata": {},
     "output_type": "display_data"
    }
   ],
   "source": [
    "names(data)"
   ]
  },
  {
   "cell_type": "code",
   "execution_count": 17,
   "metadata": {
    "ExecuteTime": {
     "end_time": "2020-07-13T19:55:19.004322Z",
     "start_time": "2020-07-13T19:55:18.969Z"
    }
   },
   "outputs": [
    {
     "data": {
      "text/html": [
       "420"
      ],
      "text/latex": [
       "420"
      ],
      "text/markdown": [
       "420"
      ],
      "text/plain": [
       "[1] 420"
      ]
     },
     "metadata": {},
     "output_type": "display_data"
    }
   ],
   "source": [
    "nrow(data)"
   ]
  },
  {
   "cell_type": "code",
   "execution_count": 18,
   "metadata": {
    "ExecuteTime": {
     "end_time": "2020-07-13T19:55:22.040761Z",
     "start_time": "2020-07-13T19:55:22.013Z"
    }
   },
   "outputs": [],
   "source": [
    "age=na.omit(unique(subset(data,select=c(\"healthCode\",\"NonIdentifiableDemographics.patientCurrentAge\"))))"
   ]
  },
  {
   "cell_type": "code",
   "execution_count": 19,
   "metadata": {
    "ExecuteTime": {
     "end_time": "2020-07-13T19:55:22.548461Z",
     "start_time": "2020-07-13T19:55:22.518Z"
    }
   },
   "outputs": [
    {
     "data": {
      "text/html": [
       "44"
      ],
      "text/latex": [
       "44"
      ],
      "text/markdown": [
       "44"
      ],
      "text/plain": [
       "[1] 44"
      ]
     },
     "metadata": {},
     "output_type": "display_data"
    }
   ],
   "source": [
    "median(age$NonIdentifiableDemographics.patientCurrentAge)"
   ]
  },
  {
   "cell_type": "code",
   "execution_count": 20,
   "metadata": {
    "ExecuteTime": {
     "end_time": "2020-07-13T19:55:23.135740Z",
     "start_time": "2020-07-13T19:55:23.106Z"
    }
   },
   "outputs": [
    {
     "data": {
      "text/html": [
       "15.883380953654"
      ],
      "text/latex": [
       "15.883380953654"
      ],
      "text/markdown": [
       "15.883380953654"
      ],
      "text/plain": [
       "[1] 15.88338"
      ]
     },
     "metadata": {},
     "output_type": "display_data"
    }
   ],
   "source": [
    "sd(age$NonIdentifiableDemographics.patientCurrentAge)"
   ]
  },
  {
   "cell_type": "code",
   "execution_count": 21,
   "metadata": {
    "ExecuteTime": {
     "end_time": "2020-07-13T19:55:26.165210Z",
     "start_time": "2020-07-13T19:55:26.102Z"
    }
   },
   "outputs": [
    {
     "data": {
      "text/html": [
       "46.2767857142857"
      ],
      "text/latex": [
       "46.2767857142857"
      ],
      "text/markdown": [
       "46.2767857142857"
      ],
      "text/plain": [
       "[1] 46.27679"
      ]
     },
     "metadata": {},
     "output_type": "display_data"
    }
   ],
   "source": [
    "mean(age$NonIdentifiableDemographics.patientCurrentAge)"
   ]
  },
  {
   "cell_type": "code",
   "execution_count": 22,
   "metadata": {
    "ExecuteTime": {
     "end_time": "2020-07-13T19:55:27.493705Z",
     "start_time": "2020-07-13T19:55:27.159Z"
    }
   },
   "outputs": [
    {
     "data": {
      "image/png": "[encoded data removed]",
      "text/plain": [
       "plot without title"
      ]
     },
     "metadata": {
      "image/png": {
       "height": 420,
       "width": 420
      },
      "text/plain": {
       "height": 420,
       "width": 420
      }
     },
     "output_type": "display_data"
    }
   ],
   "source": [
    "library(ggplot2)\n",
    "ggplot(data=age,aes(x=age$NonIdentifiableDemographics.patientCurrentAge))+geom_histogram(bins=50)+\n",
    "xlab(\"Age (Self-reported)\")+\n",
    "ylab(\"v 2.3.2 Individuals with data 01/01/2019 - 07/01/2019\")+\n",
    "ggtitle(\"Mean=46.24, Median=44, SD=16.29\")+\n",
    "theme_bw(20)"
   ]
  },
  {
   "cell_type": "code",
   "execution_count": 10,
   "metadata": {
    "ExecuteTime": {
     "end_time": "2020-07-13T19:06:19.438181Z",
     "start_time": "2020-07-13T19:06:19.411Z"
    }
   },
   "outputs": [],
   "source": [
    "sex=na.omit(unique(subset(data,select=c(\"healthCode\",\"NonIdentifiableDemographics.patientBiologicalSex\"))))"
   ]
  },
  {
   "cell_type": "code",
   "execution_count": 11,
   "metadata": {
    "ExecuteTime": {
     "end_time": "2020-07-13T19:06:20.187752Z",
     "start_time": "2020-07-13T19:06:20.158Z"
    }
   },
   "outputs": [
    {
     "data": {
      "text/plain": [
       "\n",
       "       Female   Male \n",
       "     9     39    183 "
      ]
     },
     "metadata": {},
     "output_type": "display_data"
    }
   ],
   "source": [
    "table(sex$NonIdentifiableDemographics.patientBiologicalSex)"
   ]
  },
  {
   "cell_type": "code",
   "execution_count": 12,
   "metadata": {
    "ExecuteTime": {
     "end_time": "2020-07-13T19:06:20.849936Z",
     "start_time": "2020-07-13T19:06:20.823Z"
    }
   },
   "outputs": [
    {
     "data": {
      "text/html": [
       "222"
      ],
      "text/latex": [
       "222"
      ],
      "text/markdown": [
       "222"
      ],
      "text/plain": [
       "[1] 222"
      ]
     },
     "metadata": {},
     "output_type": "display_data"
    }
   ],
   "source": [
    "183+39"
   ]
  },
  {
   "cell_type": "code",
   "execution_count": 13,
   "metadata": {
    "ExecuteTime": {
     "end_time": "2020-07-13T19:06:21.545215Z",
     "start_time": "2020-07-13T19:06:21.519Z"
    }
   },
   "outputs": [
    {
     "data": {
      "text/html": [
       "28"
      ],
      "text/latex": [
       "28"
      ],
      "text/markdown": [
       "28"
      ],
      "text/plain": [
       "[1] 28"
      ]
     },
     "metadata": {},
     "output_type": "display_data"
    }
   ],
   "source": [
    "250-222\n"
   ]
  },
  {
   "cell_type": "code",
   "execution_count": null,
   "metadata": {},
   "outputs": [],
   "source": []
  }
 ],
 "metadata": {
  "kernelspec": {
   "display_name": "R 3.6.2",
   "language": "R",
   "name": "ir36"
  },
  "language_info": {
   "codemirror_mode": "r",
   "file_extension": ".r",
   "mimetype": "text/x-r-source",
   "name": "R",
   "pygments_lexer": "r",
   "version": "3.6.2"
  }
 },
 "nbformat": 4,
 "nbformat_minor": 4
}
